{
 "cells": [
  {
   "cell_type": "code",
   "execution_count": 1,
   "id": "62e9049c",
   "metadata": {},
   "outputs": [
    {
     "name": "stderr",
     "output_type": "stream",
     "text": [
      "/Users/andiklausli/opt/miniconda3/lib/python3.7/site-packages/tensorflow/python/framework/dtypes.py:516: FutureWarning: Passing (type, 1) or '1type' as a synonym of type is deprecated; in a future version of numpy, it will be understood as (type, (1,)) / '(1,)type'.\n",
      "  _np_qint8 = np.dtype([(\"qint8\", np.int8, 1)])\n",
      "/Users/andiklausli/opt/miniconda3/lib/python3.7/site-packages/tensorflow/python/framework/dtypes.py:517: FutureWarning: Passing (type, 1) or '1type' as a synonym of type is deprecated; in a future version of numpy, it will be understood as (type, (1,)) / '(1,)type'.\n",
      "  _np_quint8 = np.dtype([(\"quint8\", np.uint8, 1)])\n",
      "/Users/andiklausli/opt/miniconda3/lib/python3.7/site-packages/tensorflow/python/framework/dtypes.py:518: FutureWarning: Passing (type, 1) or '1type' as a synonym of type is deprecated; in a future version of numpy, it will be understood as (type, (1,)) / '(1,)type'.\n",
      "  _np_qint16 = np.dtype([(\"qint16\", np.int16, 1)])\n",
      "/Users/andiklausli/opt/miniconda3/lib/python3.7/site-packages/tensorflow/python/framework/dtypes.py:519: FutureWarning: Passing (type, 1) or '1type' as a synonym of type is deprecated; in a future version of numpy, it will be understood as (type, (1,)) / '(1,)type'.\n",
      "  _np_quint16 = np.dtype([(\"quint16\", np.uint16, 1)])\n",
      "/Users/andiklausli/opt/miniconda3/lib/python3.7/site-packages/tensorflow/python/framework/dtypes.py:520: FutureWarning: Passing (type, 1) or '1type' as a synonym of type is deprecated; in a future version of numpy, it will be understood as (type, (1,)) / '(1,)type'.\n",
      "  _np_qint32 = np.dtype([(\"qint32\", np.int32, 1)])\n",
      "/Users/andiklausli/opt/miniconda3/lib/python3.7/site-packages/tensorflow/python/framework/dtypes.py:525: FutureWarning: Passing (type, 1) or '1type' as a synonym of type is deprecated; in a future version of numpy, it will be understood as (type, (1,)) / '(1,)type'.\n",
      "  np_resource = np.dtype([(\"resource\", np.ubyte, 1)])\n",
      "/Users/andiklausli/opt/miniconda3/lib/python3.7/site-packages/tensorboard/compat/tensorflow_stub/dtypes.py:541: FutureWarning: Passing (type, 1) or '1type' as a synonym of type is deprecated; in a future version of numpy, it will be understood as (type, (1,)) / '(1,)type'.\n",
      "  _np_qint8 = np.dtype([(\"qint8\", np.int8, 1)])\n",
      "/Users/andiklausli/opt/miniconda3/lib/python3.7/site-packages/tensorboard/compat/tensorflow_stub/dtypes.py:542: FutureWarning: Passing (type, 1) or '1type' as a synonym of type is deprecated; in a future version of numpy, it will be understood as (type, (1,)) / '(1,)type'.\n",
      "  _np_quint8 = np.dtype([(\"quint8\", np.uint8, 1)])\n",
      "/Users/andiklausli/opt/miniconda3/lib/python3.7/site-packages/tensorboard/compat/tensorflow_stub/dtypes.py:543: FutureWarning: Passing (type, 1) or '1type' as a synonym of type is deprecated; in a future version of numpy, it will be understood as (type, (1,)) / '(1,)type'.\n",
      "  _np_qint16 = np.dtype([(\"qint16\", np.int16, 1)])\n",
      "/Users/andiklausli/opt/miniconda3/lib/python3.7/site-packages/tensorboard/compat/tensorflow_stub/dtypes.py:544: FutureWarning: Passing (type, 1) or '1type' as a synonym of type is deprecated; in a future version of numpy, it will be understood as (type, (1,)) / '(1,)type'.\n",
      "  _np_quint16 = np.dtype([(\"quint16\", np.uint16, 1)])\n",
      "/Users/andiklausli/opt/miniconda3/lib/python3.7/site-packages/tensorboard/compat/tensorflow_stub/dtypes.py:545: FutureWarning: Passing (type, 1) or '1type' as a synonym of type is deprecated; in a future version of numpy, it will be understood as (type, (1,)) / '(1,)type'.\n",
      "  _np_qint32 = np.dtype([(\"qint32\", np.int32, 1)])\n",
      "/Users/andiklausli/opt/miniconda3/lib/python3.7/site-packages/tensorboard/compat/tensorflow_stub/dtypes.py:550: FutureWarning: Passing (type, 1) or '1type' as a synonym of type is deprecated; in a future version of numpy, it will be understood as (type, (1,)) / '(1,)type'.\n",
      "  np_resource = np.dtype([(\"resource\", np.ubyte, 1)])\n",
      "Using TensorFlow backend.\n"
     ]
    }
   ],
   "source": [
    "import matplotlib.pyplot as plt\n",
    "import numpy as np\n",
    "import pandas as pd\n",
    "import seaborn as sns\n",
    "import pandas as pd\n",
    "from tensorflow import keras\n",
    "from tensorflow.keras import layers\n",
    "\n",
    "from sklearn.feature_extraction.text import CountVectorizer\n",
    "from sklearn.model_selection import train_test_split\n",
    "from sklearn.linear_model import LogisticRegression\n",
    "from sklearn.preprocessing import LabelEncoder\n",
    "from sklearn.preprocessing import OneHotEncoder\n",
    "from sklearn.model_selection import RandomizedSearchCV\n",
    "\n",
    "# from keras.models import Sequential\n",
    "# from keras import layers\n",
    "from keras.preprocessing.text import Tokenizer\n",
    "from keras.preprocessing.sequence import pad_sequences\n",
    "from keras.wrappers.scikit_learn import KerasClassifier"
   ]
  },
  {
   "cell_type": "code",
   "execution_count": 2,
   "id": "3cd88b8f",
   "metadata": {},
   "outputs": [
    {
     "data": {
      "text/html": [
       "<div>\n",
       "<style scoped>\n",
       "    .dataframe tbody tr th:only-of-type {\n",
       "        vertical-align: middle;\n",
       "    }\n",
       "\n",
       "    .dataframe tbody tr th {\n",
       "        vertical-align: top;\n",
       "    }\n",
       "\n",
       "    .dataframe thead th {\n",
       "        text-align: right;\n",
       "    }\n",
       "</style>\n",
       "<table border=\"1\" class=\"dataframe\">\n",
       "  <thead>\n",
       "    <tr style=\"text-align: right;\">\n",
       "      <th></th>\n",
       "      <th>Category</th>\n",
       "      <th>Message</th>\n",
       "    </tr>\n",
       "  </thead>\n",
       "  <tbody>\n",
       "    <tr>\n",
       "      <th>0</th>\n",
       "      <td>ham</td>\n",
       "      <td>Go until jurong point, crazy.. Available only ...</td>\n",
       "    </tr>\n",
       "    <tr>\n",
       "      <th>1</th>\n",
       "      <td>ham</td>\n",
       "      <td>Ok lar... Joking wif u oni...</td>\n",
       "    </tr>\n",
       "    <tr>\n",
       "      <th>2</th>\n",
       "      <td>spam</td>\n",
       "      <td>Free entry in 2 a wkly comp to win FA Cup fina...</td>\n",
       "    </tr>\n",
       "    <tr>\n",
       "      <th>3</th>\n",
       "      <td>ham</td>\n",
       "      <td>U dun say so early hor... U c already then say...</td>\n",
       "    </tr>\n",
       "    <tr>\n",
       "      <th>4</th>\n",
       "      <td>ham</td>\n",
       "      <td>Nah I don't think he goes to usf, he lives aro...</td>\n",
       "    </tr>\n",
       "  </tbody>\n",
       "</table>\n",
       "</div>"
      ],
      "text/plain": [
       "  Category                                            Message\n",
       "0      ham  Go until jurong point, crazy.. Available only ...\n",
       "1      ham                      Ok lar... Joking wif u oni...\n",
       "2     spam  Free entry in 2 a wkly comp to win FA Cup fina...\n",
       "3      ham  U dun say so early hor... U c already then say...\n",
       "4      ham  Nah I don't think he goes to usf, he lives aro..."
      ]
     },
     "execution_count": 2,
     "metadata": {},
     "output_type": "execute_result"
    }
   ],
   "source": [
    "df = pd.read_csv('SPAM text message 20170820 - Data.csv')\n",
    "df.head()"
   ]
  },
  {
   "cell_type": "markdown",
   "id": "abf3358c",
   "metadata": {},
   "source": [
    "# Data Cleansing"
   ]
  },
  {
   "cell_type": "code",
   "execution_count": 3,
   "id": "d0be8750",
   "metadata": {},
   "outputs": [
    {
     "name": "stdout",
     "output_type": "stream",
     "text": [
      "<class 'pandas.core.frame.DataFrame'>\n",
      "RangeIndex: 5572 entries, 0 to 5571\n",
      "Data columns (total 2 columns):\n",
      " #   Column    Non-Null Count  Dtype \n",
      "---  ------    --------------  ----- \n",
      " 0   Category  5572 non-null   object\n",
      " 1   Message   5572 non-null   object\n",
      "dtypes: object(2)\n",
      "memory usage: 87.2+ KB\n"
     ]
    }
   ],
   "source": [
    "df.info() # non NaN"
   ]
  },
  {
   "cell_type": "code",
   "execution_count": 4,
   "id": "2c5755a4",
   "metadata": {},
   "outputs": [
    {
     "data": {
      "text/html": [
       "<div>\n",
       "<style scoped>\n",
       "    .dataframe tbody tr th:only-of-type {\n",
       "        vertical-align: middle;\n",
       "    }\n",
       "\n",
       "    .dataframe tbody tr th {\n",
       "        vertical-align: top;\n",
       "    }\n",
       "\n",
       "    .dataframe thead th {\n",
       "        text-align: right;\n",
       "    }\n",
       "</style>\n",
       "<table border=\"1\" class=\"dataframe\">\n",
       "  <thead>\n",
       "    <tr style=\"text-align: right;\">\n",
       "      <th></th>\n",
       "      <th>Category</th>\n",
       "      <th>Message</th>\n",
       "    </tr>\n",
       "  </thead>\n",
       "  <tbody>\n",
       "    <tr>\n",
       "      <th>0</th>\n",
       "      <td>ham</td>\n",
       "      <td>Go until jurong point, crazy.. Available only ...</td>\n",
       "    </tr>\n",
       "    <tr>\n",
       "      <th>1</th>\n",
       "      <td>ham</td>\n",
       "      <td>Ok lar... Joking wif u oni...</td>\n",
       "    </tr>\n",
       "    <tr>\n",
       "      <th>2</th>\n",
       "      <td>spam</td>\n",
       "      <td>Free entry in 2 a wkly comp to win FA Cup fina...</td>\n",
       "    </tr>\n",
       "    <tr>\n",
       "      <th>3</th>\n",
       "      <td>ham</td>\n",
       "      <td>U dun say so early hor... U c already then say...</td>\n",
       "    </tr>\n",
       "    <tr>\n",
       "      <th>4</th>\n",
       "      <td>ham</td>\n",
       "      <td>Nah I don't think he goes to usf, he lives aro...</td>\n",
       "    </tr>\n",
       "  </tbody>\n",
       "</table>\n",
       "</div>"
      ],
      "text/plain": [
       "  Category                                            Message\n",
       "0      ham  Go until jurong point, crazy.. Available only ...\n",
       "1      ham                      Ok lar... Joking wif u oni...\n",
       "2     spam  Free entry in 2 a wkly comp to win FA Cup fina...\n",
       "3      ham  U dun say so early hor... U c already then say...\n",
       "4      ham  Nah I don't think he goes to usf, he lives aro..."
      ]
     },
     "execution_count": 4,
     "metadata": {},
     "output_type": "execute_result"
    }
   ],
   "source": [
    "df.head()\n"
   ]
  },
  {
   "cell_type": "code",
   "execution_count": 5,
   "id": "24a4ff71",
   "metadata": {},
   "outputs": [],
   "source": [
    "# replace Category \n",
    "dict_trans = {'ham' : 0, 'spam': 1}\n",
    "df = df.replace({\"Category\": dict_trans})"
   ]
  },
  {
   "cell_type": "code",
   "execution_count": 6,
   "id": "60f9da90",
   "metadata": {},
   "outputs": [
    {
     "data": {
      "text/html": [
       "<div>\n",
       "<style scoped>\n",
       "    .dataframe tbody tr th:only-of-type {\n",
       "        vertical-align: middle;\n",
       "    }\n",
       "\n",
       "    .dataframe tbody tr th {\n",
       "        vertical-align: top;\n",
       "    }\n",
       "\n",
       "    .dataframe thead th {\n",
       "        text-align: right;\n",
       "    }\n",
       "</style>\n",
       "<table border=\"1\" class=\"dataframe\">\n",
       "  <thead>\n",
       "    <tr style=\"text-align: right;\">\n",
       "      <th></th>\n",
       "      <th>Category</th>\n",
       "      <th>Message</th>\n",
       "    </tr>\n",
       "  </thead>\n",
       "  <tbody>\n",
       "    <tr>\n",
       "      <th>0</th>\n",
       "      <td>0</td>\n",
       "      <td>Go until jurong point, crazy.. Available only ...</td>\n",
       "    </tr>\n",
       "    <tr>\n",
       "      <th>1</th>\n",
       "      <td>0</td>\n",
       "      <td>Ok lar... Joking wif u oni...</td>\n",
       "    </tr>\n",
       "    <tr>\n",
       "      <th>2</th>\n",
       "      <td>1</td>\n",
       "      <td>Free entry in 2 a wkly comp to win FA Cup fina...</td>\n",
       "    </tr>\n",
       "    <tr>\n",
       "      <th>3</th>\n",
       "      <td>0</td>\n",
       "      <td>U dun say so early hor... U c already then say...</td>\n",
       "    </tr>\n",
       "    <tr>\n",
       "      <th>4</th>\n",
       "      <td>0</td>\n",
       "      <td>Nah I don't think he goes to usf, he lives aro...</td>\n",
       "    </tr>\n",
       "  </tbody>\n",
       "</table>\n",
       "</div>"
      ],
      "text/plain": [
       "   Category                                            Message\n",
       "0         0  Go until jurong point, crazy.. Available only ...\n",
       "1         0                      Ok lar... Joking wif u oni...\n",
       "2         1  Free entry in 2 a wkly comp to win FA Cup fina...\n",
       "3         0  U dun say so early hor... U c already then say...\n",
       "4         0  Nah I don't think he goes to usf, he lives aro..."
      ]
     },
     "execution_count": 6,
     "metadata": {},
     "output_type": "execute_result"
    }
   ],
   "source": [
    "df.head()"
   ]
  },
  {
   "cell_type": "markdown",
   "id": "8ed51fff",
   "metadata": {},
   "source": [
    "# Data Preparation"
   ]
  },
  {
   "cell_type": "code",
   "execution_count": 7,
   "id": "a59f2d6a",
   "metadata": {},
   "outputs": [],
   "source": [
    "# train-/test-split\n",
    "\n",
    "labels = df['Category'].values\n",
    "messages = df['Message'].values\n",
    "messages_train, messages_test, y_train, y_test = train_test_split(messages, labels, test_size=0.3, random_state=42)"
   ]
  },
  {
   "cell_type": "code",
   "execution_count": null,
   "id": "71f3a85a",
   "metadata": {},
   "outputs": [],
   "source": []
  },
  {
   "cell_type": "code",
   "execution_count": 8,
   "id": "e50e5c8d",
   "metadata": {},
   "outputs": [],
   "source": [
    "# Vectorisation\n",
    "vectorizer = CountVectorizer()\n",
    "vectorizer.fit(messages_train)\n",
    "\n",
    "X_train = vectorizer.transform(messages_train)\n",
    "X_test  = vectorizer.transform(messages_test)"
   ]
  },
  {
   "cell_type": "code",
   "execution_count": 9,
   "id": "1706ee69",
   "metadata": {},
   "outputs": [
    {
     "data": {
      "text/plain": [
       "<3900x7262 sparse matrix of type '<class 'numpy.int64'>'\n",
       "\twith 52129 stored elements in Compressed Sparse Row format>"
      ]
     },
     "execution_count": 9,
     "metadata": {},
     "output_type": "execute_result"
    }
   ],
   "source": [
    "X_train"
   ]
  },
  {
   "cell_type": "markdown",
   "id": "49db2ede",
   "metadata": {},
   "source": [
    "# Build CountVectorizer Model"
   ]
  },
  {
   "cell_type": "code",
   "execution_count": 12,
   "id": "dda470bb",
   "metadata": {},
   "outputs": [],
   "source": [
    "def model_base_seq(input_dim):\n",
    "    model = keras.Sequential()\n",
    "    model.add(layers.Dense(10, input_dim=input_dim, activation='relu'))\n",
    "    model.add(layers.Dense(1, activation='sigmoid'))\n",
    "    model.compile(loss='binary_crossentropy', \n",
    "              optimizer='adam', \n",
    "              metrics=['accuracy'])\n",
    "    return model"
   ]
  },
  {
   "cell_type": "code",
   "execution_count": 13,
   "id": "819c7a62",
   "metadata": {},
   "outputs": [
    {
     "name": "stdout",
     "output_type": "stream",
     "text": [
      "WARNING:tensorflow:From /Users/andiklausli/opt/miniconda3/lib/python3.7/site-packages/tensorflow/python/ops/init_ops.py:1251: calling VarianceScaling.__init__ (from tensorflow.python.ops.init_ops) with dtype is deprecated and will be removed in a future version.\n",
      "Instructions for updating:\n",
      "Call initializer instance with the dtype argument instead of passing it to the constructor\n",
      "WARNING:tensorflow:From /Users/andiklausli/opt/miniconda3/lib/python3.7/site-packages/tensorflow/python/ops/nn_impl.py:180: add_dispatch_support.<locals>.wrapper (from tensorflow.python.ops.array_ops) is deprecated and will be removed in a future version.\n",
      "Instructions for updating:\n",
      "Use tf.where in 2.0, which has the same broadcast rule as np.where\n",
      "Model: \"sequential\"\n",
      "_________________________________________________________________\n",
      "Layer (type)                 Output Shape              Param #   \n",
      "=================================================================\n",
      "dense (Dense)                (None, 10)                72630     \n",
      "_________________________________________________________________\n",
      "dense_1 (Dense)              (None, 1)                 11        \n",
      "=================================================================\n",
      "Total params: 72,641\n",
      "Trainable params: 72,641\n",
      "Non-trainable params: 0\n",
      "_________________________________________________________________\n"
     ]
    }
   ],
   "source": [
    "model=model_base_seq(input_dim=X_train.shape[1])\n",
    "model.summary()"
   ]
  },
  {
   "cell_type": "code",
   "execution_count": 14,
   "id": "caef469f",
   "metadata": {},
   "outputs": [
    {
     "name": "stdout",
     "output_type": "stream",
     "text": [
      "Train on 3900 samples, validate on 1672 samples\n"
     ]
    },
    {
     "name": "stderr",
     "output_type": "stream",
     "text": [
      "2021-09-10 21:06:06.198366: I tensorflow/core/platform/cpu_feature_guard.cc:145] This TensorFlow binary is optimized with Intel(R) MKL-DNN to use the following CPU instructions in performance critical operations:  SSE4.1 SSE4.2 AVX AVX2 FMA\n",
      "To enable them in non-MKL-DNN operations, rebuild TensorFlow with the appropriate compiler flags.\n",
      "2021-09-10 21:06:06.198795: I tensorflow/core/common_runtime/process_util.cc:115] Creating new thread pool with default inter op setting: 16. Tune using inter_op_parallelism_threads for best performance.\n"
     ]
    },
    {
     "name": "stdout",
     "output_type": "stream",
     "text": [
      "Epoch 1/100\n",
      "3900/3900 [==============================] - 1s 293us/sample - loss: 0.2943 - acc: 0.9390 - val_loss: 0.1157 - val_acc: 0.9821\n",
      "Epoch 2/100\n",
      "3900/3900 [==============================] - 1s 195us/sample - loss: 0.0713 - acc: 0.9887 - val_loss: 0.0645 - val_acc: 0.9892\n",
      "Epoch 3/100\n",
      "3900/3900 [==============================] - 1s 192us/sample - loss: 0.0314 - acc: 0.9946 - val_loss: 0.0516 - val_acc: 0.9892\n",
      "Epoch 4/100\n",
      "3900/3900 [==============================] - 1s 197us/sample - loss: 0.0173 - acc: 0.9985 - val_loss: 0.0492 - val_acc: 0.9892\n",
      "Epoch 5/100\n",
      "3900/3900 [==============================] - 1s 193us/sample - loss: 0.0113 - acc: 0.9987 - val_loss: 0.0458 - val_acc: 0.9892\n",
      "Epoch 6/100\n",
      "3900/3900 [==============================] - 1s 194us/sample - loss: 0.0080 - acc: 0.9990 - val_loss: 0.0462 - val_acc: 0.9898\n",
      "Epoch 7/100\n",
      "3900/3900 [==============================] - 1s 195us/sample - loss: 0.0058 - acc: 0.9990 - val_loss: 0.0470 - val_acc: 0.9898\n",
      "Epoch 8/100\n",
      "3900/3900 [==============================] - 1s 193us/sample - loss: 0.0047 - acc: 0.9992 - val_loss: 0.0490 - val_acc: 0.9898\n",
      "Epoch 9/100\n",
      "3900/3900 [==============================] - 1s 202us/sample - loss: 0.0040 - acc: 0.9992 - val_loss: 0.0497 - val_acc: 0.9898\n",
      "Epoch 10/100\n",
      "3900/3900 [==============================] - 1s 193us/sample - loss: 0.0034 - acc: 0.9992 - val_loss: 0.0508 - val_acc: 0.9904\n",
      "Epoch 11/100\n",
      "3900/3900 [==============================] - 1s 235us/sample - loss: 0.0030 - acc: 0.9992 - val_loss: 0.0525 - val_acc: 0.9904\n",
      "Epoch 12/100\n",
      "3900/3900 [==============================] - 1s 194us/sample - loss: 0.0027 - acc: 0.9992 - val_loss: 0.0537 - val_acc: 0.9904\n",
      "Epoch 13/100\n",
      "3900/3900 [==============================] - 1s 211us/sample - loss: 0.0024 - acc: 0.9992 - val_loss: 0.0559 - val_acc: 0.9904\n",
      "Epoch 14/100\n",
      "3900/3900 [==============================] - 1s 225us/sample - loss: 0.0022 - acc: 0.9992 - val_loss: 0.0563 - val_acc: 0.9904\n",
      "Epoch 15/100\n",
      "3900/3900 [==============================] - 1s 200us/sample - loss: 0.0020 - acc: 0.9995 - val_loss: 0.0590 - val_acc: 0.9904\n",
      "Epoch 16/100\n",
      "3900/3900 [==============================] - 1s 206us/sample - loss: 0.0018 - acc: 0.9995 - val_loss: 0.0613 - val_acc: 0.9904\n",
      "Epoch 17/100\n",
      "3900/3900 [==============================] - 1s 204us/sample - loss: 0.0017 - acc: 0.9995 - val_loss: 0.0620 - val_acc: 0.9904\n",
      "Epoch 18/100\n",
      "3900/3900 [==============================] - 1s 204us/sample - loss: 0.0015 - acc: 0.9995 - val_loss: 0.0646 - val_acc: 0.9904\n",
      "Epoch 19/100\n",
      "3900/3900 [==============================] - 1s 200us/sample - loss: 0.0014 - acc: 0.9995 - val_loss: 0.0660 - val_acc: 0.9898\n",
      "Epoch 20/100\n",
      "3900/3900 [==============================] - 1s 200us/sample - loss: 0.0012 - acc: 0.9995 - val_loss: 0.0681 - val_acc: 0.9892\n",
      "Epoch 21/100\n",
      "3900/3900 [==============================] - 1s 214us/sample - loss: 0.0011 - acc: 0.9995 - val_loss: 0.0682 - val_acc: 0.9898\n",
      "Epoch 22/100\n",
      "3900/3900 [==============================] - 1s 213us/sample - loss: 9.5833e-04 - acc: 0.9995 - val_loss: 0.0715 - val_acc: 0.9898\n",
      "Epoch 23/100\n",
      "3900/3900 [==============================] - 1s 224us/sample - loss: 8.2997e-04 - acc: 0.9995 - val_loss: 0.0742 - val_acc: 0.9898\n",
      "Epoch 24/100\n",
      "3900/3900 [==============================] - 1s 245us/sample - loss: 6.9714e-04 - acc: 0.9995 - val_loss: 0.0782 - val_acc: 0.9892\n",
      "Epoch 25/100\n",
      "3900/3900 [==============================] - 1s 244us/sample - loss: 5.8222e-04 - acc: 0.9997 - val_loss: 0.0826 - val_acc: 0.9892\n",
      "Epoch 26/100\n",
      "3900/3900 [==============================] - 1s 225us/sample - loss: 5.0913e-04 - acc: 0.9997 - val_loss: 0.0845 - val_acc: 0.9892\n",
      "Epoch 27/100\n",
      "3900/3900 [==============================] - 1s 222us/sample - loss: 4.4582e-04 - acc: 1.0000 - val_loss: 0.0873 - val_acc: 0.9892\n",
      "Epoch 28/100\n",
      "3900/3900 [==============================] - 1s 211us/sample - loss: 4.0273e-04 - acc: 1.0000 - val_loss: 0.0907 - val_acc: 0.9892\n",
      "Epoch 29/100\n",
      "3900/3900 [==============================] - 1s 252us/sample - loss: 3.6279e-04 - acc: 1.0000 - val_loss: 0.0958 - val_acc: 0.9892\n",
      "Epoch 30/100\n",
      "3900/3900 [==============================] - 1s 202us/sample - loss: 3.3148e-04 - acc: 1.0000 - val_loss: 0.0977 - val_acc: 0.9892\n",
      "Epoch 31/100\n",
      "3900/3900 [==============================] - 1s 207us/sample - loss: 2.9953e-04 - acc: 1.0000 - val_loss: 0.1028 - val_acc: 0.9892\n",
      "Epoch 32/100\n",
      "3900/3900 [==============================] - 1s 204us/sample - loss: 2.7139e-04 - acc: 1.0000 - val_loss: 0.1038 - val_acc: 0.9892\n",
      "Epoch 33/100\n",
      "3900/3900 [==============================] - 1s 202us/sample - loss: 2.4851e-04 - acc: 1.0000 - val_loss: 0.1074 - val_acc: 0.9892\n",
      "Epoch 34/100\n",
      "3900/3900 [==============================] - 1s 200us/sample - loss: 2.2715e-04 - acc: 1.0000 - val_loss: 0.1096 - val_acc: 0.9892\n",
      "Epoch 35/100\n",
      "3900/3900 [==============================] - 1s 214us/sample - loss: 2.0516e-04 - acc: 1.0000 - val_loss: 0.1140 - val_acc: 0.9892\n",
      "Epoch 36/100\n",
      "3900/3900 [==============================] - 1s 206us/sample - loss: 1.8474e-04 - acc: 1.0000 - val_loss: 0.1176 - val_acc: 0.9886\n",
      "Epoch 37/100\n",
      "3900/3900 [==============================] - 1s 203us/sample - loss: 1.7184e-04 - acc: 1.0000 - val_loss: 0.1186 - val_acc: 0.9892\n",
      "Epoch 38/100\n",
      "3900/3900 [==============================] - 1s 201us/sample - loss: 1.5395e-04 - acc: 1.0000 - val_loss: 0.1224 - val_acc: 0.9886\n",
      "Epoch 39/100\n",
      "3900/3900 [==============================] - 1s 207us/sample - loss: 1.3799e-04 - acc: 1.0000 - val_loss: 0.1260 - val_acc: 0.9886\n",
      "Epoch 40/100\n",
      "3900/3900 [==============================] - 1s 204us/sample - loss: 1.2968e-04 - acc: 1.0000 - val_loss: 0.1270 - val_acc: 0.9886\n",
      "Epoch 41/100\n",
      "3900/3900 [==============================] - 1s 204us/sample - loss: 1.1594e-04 - acc: 1.0000 - val_loss: 0.1303 - val_acc: 0.9886\n",
      "Epoch 42/100\n",
      "3900/3900 [==============================] - 1s 200us/sample - loss: 1.0511e-04 - acc: 1.0000 - val_loss: 0.1340 - val_acc: 0.9886\n",
      "Epoch 43/100\n",
      "3900/3900 [==============================] - 1s 203us/sample - loss: 9.6526e-05 - acc: 1.0000 - val_loss: 0.1352 - val_acc: 0.9886\n",
      "Epoch 44/100\n",
      "3900/3900 [==============================] - 1s 210us/sample - loss: 8.7273e-05 - acc: 1.0000 - val_loss: 0.1395 - val_acc: 0.9886\n",
      "Epoch 45/100\n",
      "3900/3900 [==============================] - 1s 204us/sample - loss: 7.8855e-05 - acc: 1.0000 - val_loss: 0.1417 - val_acc: 0.9886\n",
      "Epoch 46/100\n",
      "3900/3900 [==============================] - 1s 209us/sample - loss: 7.1784e-05 - acc: 1.0000 - val_loss: 0.1444 - val_acc: 0.9886\n",
      "Epoch 47/100\n",
      "3900/3900 [==============================] - 1s 212us/sample - loss: 6.6292e-05 - acc: 1.0000 - val_loss: 0.1461 - val_acc: 0.9886\n",
      "Epoch 48/100\n",
      "3900/3900 [==============================] - 1s 232us/sample - loss: 6.1278e-05 - acc: 1.0000 - val_loss: 0.1468 - val_acc: 0.9886\n",
      "Epoch 49/100\n",
      "3900/3900 [==============================] - 1s 224us/sample - loss: 5.5936e-05 - acc: 1.0000 - val_loss: 0.1513 - val_acc: 0.9886\n",
      "Epoch 50/100\n",
      "3900/3900 [==============================] - 1s 209us/sample - loss: 4.9511e-05 - acc: 1.0000 - val_loss: 0.1537 - val_acc: 0.9886\n",
      "Epoch 51/100\n",
      "3900/3900 [==============================] - 1s 247us/sample - loss: 4.5632e-05 - acc: 1.0000 - val_loss: 0.1548 - val_acc: 0.9886\n",
      "Epoch 52/100\n",
      "3900/3900 [==============================] - 1s 226us/sample - loss: 4.1681e-05 - acc: 1.0000 - val_loss: 0.1571 - val_acc: 0.9880\n",
      "Epoch 53/100\n",
      "3900/3900 [==============================] - 1s 213us/sample - loss: 3.7808e-05 - acc: 1.0000 - val_loss: 0.1609 - val_acc: 0.9874\n",
      "Epoch 54/100\n",
      "3900/3900 [==============================] - 1s 207us/sample - loss: 3.4726e-05 - acc: 1.0000 - val_loss: 0.1609 - val_acc: 0.9880\n",
      "Epoch 55/100\n",
      "3900/3900 [==============================] - 1s 208us/sample - loss: 3.1170e-05 - acc: 1.0000 - val_loss: 0.1639 - val_acc: 0.9874\n",
      "Epoch 56/100\n",
      "3900/3900 [==============================] - 1s 207us/sample - loss: 2.8213e-05 - acc: 1.0000 - val_loss: 0.1667 - val_acc: 0.9874\n",
      "Epoch 57/100\n",
      "3900/3900 [==============================] - 1s 207us/sample - loss: 2.6481e-05 - acc: 1.0000 - val_loss: 0.1674 - val_acc: 0.9874\n",
      "Epoch 58/100\n",
      "3900/3900 [==============================] - 1s 221us/sample - loss: 2.3334e-05 - acc: 1.0000 - val_loss: 0.1703 - val_acc: 0.9874\n",
      "Epoch 59/100\n",
      "3900/3900 [==============================] - 1s 216us/sample - loss: 2.1895e-05 - acc: 1.0000 - val_loss: 0.1719 - val_acc: 0.9874\n",
      "Epoch 60/100\n",
      "3900/3900 [==============================] - 1s 223us/sample - loss: 1.9301e-05 - acc: 1.0000 - val_loss: 0.1745 - val_acc: 0.9874\n",
      "Epoch 61/100\n",
      "3900/3900 [==============================] - 1s 214us/sample - loss: 1.7971e-05 - acc: 1.0000 - val_loss: 0.1747 - val_acc: 0.9868\n",
      "Epoch 62/100\n",
      "3900/3900 [==============================] - 1s 215us/sample - loss: 1.6071e-05 - acc: 1.0000 - val_loss: 0.1778 - val_acc: 0.9874\n",
      "Epoch 63/100\n",
      "3900/3900 [==============================] - 1s 220us/sample - loss: 1.4609e-05 - acc: 1.0000 - val_loss: 0.1807 - val_acc: 0.9874\n",
      "Epoch 64/100\n",
      "3900/3900 [==============================] - 1s 217us/sample - loss: 1.3319e-05 - acc: 1.0000 - val_loss: 0.1811 - val_acc: 0.9874\n",
      "Epoch 65/100\n",
      "3900/3900 [==============================] - 1s 207us/sample - loss: 1.2112e-05 - acc: 1.0000 - val_loss: 0.1833 - val_acc: 0.9874\n",
      "Epoch 66/100\n",
      "3900/3900 [==============================] - 1s 244us/sample - loss: 1.1051e-05 - acc: 1.0000 - val_loss: 0.1863 - val_acc: 0.9874\n",
      "Epoch 67/100\n",
      "3900/3900 [==============================] - 1s 205us/sample - loss: 9.6212e-06 - acc: 1.0000 - val_loss: 0.1890 - val_acc: 0.9874\n",
      "Epoch 68/100\n",
      "3900/3900 [==============================] - 1s 202us/sample - loss: 9.1123e-06 - acc: 1.0000 - val_loss: 0.1896 - val_acc: 0.9874\n",
      "Epoch 69/100\n",
      "3900/3900 [==============================] - 1s 205us/sample - loss: 8.2421e-06 - acc: 1.0000 - val_loss: 0.1905 - val_acc: 0.9874\n",
      "Epoch 70/100\n",
      "3900/3900 [==============================] - 1s 202us/sample - loss: 7.3607e-06 - acc: 1.0000 - val_loss: 0.1929 - val_acc: 0.9874\n",
      "Epoch 71/100\n",
      "3900/3900 [==============================] - 1s 202us/sample - loss: 6.5762e-06 - acc: 1.0000 - val_loss: 0.1948 - val_acc: 0.9874\n",
      "Epoch 72/100\n",
      "3900/3900 [==============================] - 1s 203us/sample - loss: 6.0969e-06 - acc: 1.0000 - val_loss: 0.1970 - val_acc: 0.9874\n",
      "Epoch 73/100\n",
      "3900/3900 [==============================] - 1s 201us/sample - loss: 5.4537e-06 - acc: 1.0000 - val_loss: 0.1986 - val_acc: 0.9874\n",
      "Epoch 74/100\n",
      "3900/3900 [==============================] - 1s 202us/sample - loss: 4.9586e-06 - acc: 1.0000 - val_loss: 0.2005 - val_acc: 0.9874\n",
      "Epoch 75/100\n",
      "3900/3900 [==============================] - 1s 199us/sample - loss: 4.4707e-06 - acc: 1.0000 - val_loss: 0.2034 - val_acc: 0.9874\n",
      "Epoch 76/100\n",
      "3900/3900 [==============================] - 1s 195us/sample - loss: 4.0246e-06 - acc: 1.0000 - val_loss: 0.2039 - val_acc: 0.9874\n",
      "Epoch 77/100\n",
      "3900/3900 [==============================] - 1s 196us/sample - loss: 3.6015e-06 - acc: 1.0000 - val_loss: 0.2075 - val_acc: 0.9868\n",
      "Epoch 78/100\n",
      "3900/3900 [==============================] - 1s 195us/sample - loss: 3.2533e-06 - acc: 1.0000 - val_loss: 0.2073 - val_acc: 0.9874\n",
      "Epoch 79/100\n",
      "3900/3900 [==============================] - 1s 197us/sample - loss: 2.9413e-06 - acc: 1.0000 - val_loss: 0.2107 - val_acc: 0.9868\n",
      "Epoch 80/100\n",
      "3900/3900 [==============================] - 1s 196us/sample - loss: 2.6728e-06 - acc: 1.0000 - val_loss: 0.2136 - val_acc: 0.9868\n",
      "Epoch 81/100\n",
      "3900/3900 [==============================] - 1s 201us/sample - loss: 2.4155e-06 - acc: 1.0000 - val_loss: 0.2144 - val_acc: 0.9868\n",
      "Epoch 82/100\n",
      "3900/3900 [==============================] - 1s 206us/sample - loss: 2.1586e-06 - acc: 1.0000 - val_loss: 0.2162 - val_acc: 0.9868\n",
      "Epoch 83/100\n",
      "3900/3900 [==============================] - 1s 221us/sample - loss: 1.9269e-06 - acc: 1.0000 - val_loss: 0.2177 - val_acc: 0.9868\n",
      "Epoch 84/100\n",
      "3900/3900 [==============================] - 1s 206us/sample - loss: 1.7149e-06 - acc: 1.0000 - val_loss: 0.2225 - val_acc: 0.9868\n",
      "Epoch 85/100\n",
      "3900/3900 [==============================] - 1s 209us/sample - loss: 1.6488e-06 - acc: 1.0000 - val_loss: 0.2230 - val_acc: 0.9868\n",
      "Epoch 86/100\n",
      "3900/3900 [==============================] - 1s 234us/sample - loss: 1.4068e-06 - acc: 1.0000 - val_loss: 0.2245 - val_acc: 0.9868\n",
      "Epoch 87/100\n",
      "3900/3900 [==============================] - 1s 223us/sample - loss: 1.2669e-06 - acc: 1.0000 - val_loss: 0.2263 - val_acc: 0.9868\n",
      "Epoch 88/100\n",
      "3900/3900 [==============================] - 1s 204us/sample - loss: 1.1513e-06 - acc: 1.0000 - val_loss: 0.2284 - val_acc: 0.9868\n",
      "Epoch 89/100\n",
      "3900/3900 [==============================] - 1s 210us/sample - loss: 1.0376e-06 - acc: 1.0000 - val_loss: 0.2309 - val_acc: 0.9868\n",
      "Epoch 90/100\n",
      "3900/3900 [==============================] - 1s 201us/sample - loss: 9.1623e-07 - acc: 1.0000 - val_loss: 0.2328 - val_acc: 0.9868\n",
      "Epoch 91/100\n",
      "3900/3900 [==============================] - 1s 204us/sample - loss: 8.1991e-07 - acc: 1.0000 - val_loss: 0.2359 - val_acc: 0.9868\n",
      "Epoch 92/100\n",
      "3900/3900 [==============================] - 1s 198us/sample - loss: 7.7262e-07 - acc: 1.0000 - val_loss: 0.2357 - val_acc: 0.9868\n",
      "Epoch 93/100\n",
      "3900/3900 [==============================] - 1s 198us/sample - loss: 6.6954e-07 - acc: 1.0000 - val_loss: 0.2370 - val_acc: 0.9868\n",
      "Epoch 94/100\n",
      "3900/3900 [==============================] - 1s 194us/sample - loss: 6.0333e-07 - acc: 1.0000 - val_loss: 0.2393 - val_acc: 0.9868\n",
      "Epoch 95/100\n",
      "3900/3900 [==============================] - 1s 198us/sample - loss: 5.3627e-07 - acc: 1.0000 - val_loss: 0.2409 - val_acc: 0.9868\n",
      "Epoch 96/100\n",
      "3900/3900 [==============================] - 1s 213us/sample - loss: 4.9129e-07 - acc: 1.0000 - val_loss: 0.2423 - val_acc: 0.9868\n",
      "Epoch 97/100\n",
      "3900/3900 [==============================] - 1s 208us/sample - loss: 4.2533e-07 - acc: 1.0000 - val_loss: 0.2457 - val_acc: 0.9868\n",
      "Epoch 98/100\n",
      "3900/3900 [==============================] - 1s 213us/sample - loss: 3.8705e-07 - acc: 1.0000 - val_loss: 0.2462 - val_acc: 0.9868\n",
      "Epoch 99/100\n",
      "3900/3900 [==============================] - 1s 213us/sample - loss: 3.4482e-07 - acc: 1.0000 - val_loss: 0.2495 - val_acc: 0.9868\n",
      "Epoch 100/100\n",
      "3900/3900 [==============================] - 1s 215us/sample - loss: 3.0981e-07 - acc: 1.0000 - val_loss: 0.2511 - val_acc: 0.9868\n"
     ]
    }
   ],
   "source": [
    "history = model.fit(X_train, y_train,\n",
    "                    epochs=100,\n",
    "                    verbose=True,\n",
    "                    validation_data=(X_test, y_test),\n",
    "                    batch_size=10)"
   ]
  },
  {
   "cell_type": "markdown",
   "id": "d2f00b0b",
   "metadata": {},
   "source": [
    "# Model Performance"
   ]
  },
  {
   "cell_type": "code",
   "execution_count": 15,
   "id": "ad87f1b6",
   "metadata": {},
   "outputs": [
    {
     "name": "stdout",
     "output_type": "stream",
     "text": [
      "Training Accuracy: 1.0000\n",
      "Testing Accuracy:  0.9868\n"
     ]
    }
   ],
   "source": [
    "# model performance\n",
    "loss, accuracy = model.evaluate(X_train, y_train, verbose=False)\n",
    "print(\"Training Accuracy: {:.4f}\".format(accuracy))\n",
    "loss, accuracy = model.evaluate(X_test, y_test, verbose=False)\n",
    "print(\"Testing Accuracy:  {:.4f}\".format(accuracy))"
   ]
  },
  {
   "cell_type": "code",
   "execution_count": 16,
   "id": "d7dbb18a",
   "metadata": {},
   "outputs": [
    {
     "data": {
      "text/plain": [
       "array([[0],\n",
       "       [0],\n",
       "       [0],\n",
       "       ...,\n",
       "       [0],\n",
       "       [1],\n",
       "       [0]], dtype=int32)"
      ]
     },
     "execution_count": 16,
     "metadata": {},
     "output_type": "execute_result"
    }
   ],
   "source": [
    "from sklearn.metrics import accuracy_score\n",
    "y_pred = model.predict_classes(X_test)\n",
    "\n",
    "y_pred"
   ]
  },
  {
   "cell_type": "code",
   "execution_count": 17,
   "id": "aaa7bd59",
   "metadata": {},
   "outputs": [
    {
     "data": {
      "text/plain": [
       "(<Figure size 432x288 with 1 Axes>,\n",
       " <AxesSubplot:xlabel='predicted label', ylabel='true label'>)"
      ]
     },
     "execution_count": 17,
     "metadata": {},
     "output_type": "execute_result"
    },
    {
     "data": {
      "image/png": "[encoded data removed]",
      "text/plain": [
       "<Figure size 432x288 with 1 Axes>"
      ]
     },
     "metadata": {
      "needs_background": "light"
     },
     "output_type": "display_data"
    }
   ],
   "source": [
    "from mlxtend.plotting import plot_confusion_matrix\n",
    "from sklearn.metrics import confusion_matrix\n",
    "\n",
    "mat = confusion_matrix(y_test, y_pred)\n",
    "plot_confusion_matrix(conf_mat=mat)"
   ]
  },
  {
   "cell_type": "code",
   "execution_count": null,
   "id": "b1983692",
   "metadata": {},
   "outputs": [],
   "source": []
  }
 ],
 "metadata": {
  "kernelspec": {
   "display_name": "Python 3 (ipykernel)",
   "language": "python",
   "name": "python3"
  },
  "language_info": {
   "codemirror_mode": {
    "name": "ipython",
    "version": 3
   },
   "file_extension": ".py",
   "mimetype": "text/x-python",
   "name": "python",
   "nbconvert_exporter": "python",
   "pygments_lexer": "ipython3",
   "version": "3.7.9"
  }
 },
 "nbformat": 4,
 "nbformat_minor": 5
}
