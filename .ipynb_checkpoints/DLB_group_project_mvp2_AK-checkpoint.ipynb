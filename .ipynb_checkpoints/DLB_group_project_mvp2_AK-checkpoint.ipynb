{
 "cells": [
  {
   "cell_type": "markdown",
   "metadata": {},
   "source": [
    "# Build a deep learning model"
   ]
  },
  {
   "cell_type": "code",
   "execution_count": 7,
   "metadata": {},
   "outputs": [],
   "source": [
    "import matplotlib.pyplot as plt\n",
    "import numpy as np\n",
    "import pandas as pd\n",
    "import seaborn as sns\n",
    "\n",
    "from tensorflow import keras\n",
    "from tensorflow.keras import layers                       ## conflict with -> from keras import layers\n",
    "\n",
    "from sklearn.feature_extraction.text import CountVectorizer\n",
    "from sklearn.model_selection import train_test_split\n",
    "from sklearn.linear_model import LogisticRegression\n",
    "from sklearn.preprocessing import LabelEncoder\n",
    "from sklearn.preprocessing import OneHotEncoder\n",
    "from sklearn.model_selection import RandomizedSearchCV\n",
    "\n",
    "#from keras.models import Sequential                      ## redundant\n",
    "# from keras import layers\n",
    "from keras.preprocessing.text import Tokenizer\n",
    "from keras.preprocessing.sequence import pad_sequences\n",
    "from keras.wrappers.scikit_learn import KerasClassifier"
   ]
  },
  {
   "cell_type": "markdown",
   "metadata": {},
   "source": [
    "## Loading data"
   ]
  },
  {
   "cell_type": "code",
   "execution_count": 10,
   "metadata": {
    "scrolled": false
   },
   "outputs": [
    {
     "data": {
      "text/html": [
       "<div>\n",
       "<style scoped>\n",
       "    .dataframe tbody tr th:only-of-type {\n",
       "        vertical-align: middle;\n",
       "    }\n",
       "\n",
       "    .dataframe tbody tr th {\n",
       "        vertical-align: top;\n",
       "    }\n",
       "\n",
       "    .dataframe thead th {\n",
       "        text-align: right;\n",
       "    }\n",
       "</style>\n",
       "<table border=\"1\" class=\"dataframe\">\n",
       "  <thead>\n",
       "    <tr style=\"text-align: right;\">\n",
       "      <th></th>\n",
       "      <th>Category</th>\n",
       "      <th>Message</th>\n",
       "    </tr>\n",
       "  </thead>\n",
       "  <tbody>\n",
       "    <tr>\n",
       "      <th>0</th>\n",
       "      <td>ham</td>\n",
       "      <td>Go until jurong point, crazy.. Available only ...</td>\n",
       "    </tr>\n",
       "    <tr>\n",
       "      <th>1</th>\n",
       "      <td>ham</td>\n",
       "      <td>Ok lar... Joking wif u oni...</td>\n",
       "    </tr>\n",
       "    <tr>\n",
       "      <th>2</th>\n",
       "      <td>spam</td>\n",
       "      <td>Free entry in 2 a wkly comp to win FA Cup fina...</td>\n",
       "    </tr>\n",
       "    <tr>\n",
       "      <th>3</th>\n",
       "      <td>ham</td>\n",
       "      <td>U dun say so early hor... U c already then say...</td>\n",
       "    </tr>\n",
       "    <tr>\n",
       "      <th>4</th>\n",
       "      <td>ham</td>\n",
       "      <td>Nah I don't think he goes to usf, he lives aro...</td>\n",
       "    </tr>\n",
       "  </tbody>\n",
       "</table>\n",
       "</div>"
      ],
      "text/plain": [
       "  Category                                            Message\n",
       "0      ham  Go until jurong point, crazy.. Available only ...\n",
       "1      ham                      Ok lar... Joking wif u oni...\n",
       "2     spam  Free entry in 2 a wkly comp to win FA Cup fina...\n",
       "3      ham  U dun say so early hor... U c already then say...\n",
       "4      ham  Nah I don't think he goes to usf, he lives aro..."
      ]
     },
     "execution_count": 10,
     "metadata": {},
     "output_type": "execute_result"
    }
   ],
   "source": [
    "df_ham = pd.read_csv(\"SPAM text message 20170820 - Data.csv\")\n",
    "df_ham.head()"
   ]
  },
  {
   "cell_type": "code",
   "execution_count": 10,
   "metadata": {
    "scrolled": true
   },
   "outputs": [
    {
     "data": {
      "text/plain": [
       "(5572, 2)"
      ]
     },
     "execution_count": 10,
     "metadata": {},
     "output_type": "execute_result"
    }
   ],
   "source": [
    "df_ham.shape"
   ]
  },
  {
   "cell_type": "markdown",
   "metadata": {},
   "source": [
    "## Exploratory analysis\n",
    "\n",
    "#### Discovery \n",
    "SPAMs do have patterns like: obvious words (free, winner, urgent etc.), upper-case letters and combination of these with exclamation mark, letter X, misspellings, several digits etc."
   ]
  },
  {
   "cell_type": "code",
   "execution_count": 35,
   "metadata": {
    "scrolled": false
   },
   "outputs": [
    {
     "data": {
      "text/html": [
       "<div>\n",
       "<style scoped>\n",
       "    .dataframe tbody tr th:only-of-type {\n",
       "        vertical-align: middle;\n",
       "    }\n",
       "\n",
       "    .dataframe tbody tr th {\n",
       "        vertical-align: top;\n",
       "    }\n",
       "\n",
       "    .dataframe thead th {\n",
       "        text-align: right;\n",
       "    }\n",
       "</style>\n",
       "<table border=\"1\" class=\"dataframe\">\n",
       "  <thead>\n",
       "    <tr style=\"text-align: right;\">\n",
       "      <th></th>\n",
       "      <th>Category</th>\n",
       "      <th>Message</th>\n",
       "    </tr>\n",
       "  </thead>\n",
       "  <tbody>\n",
       "    <tr>\n",
       "      <td>0</td>\n",
       "      <td>0</td>\n",
       "      <td>Go until jurong point, crazy.. Available only ...</td>\n",
       "    </tr>\n",
       "    <tr>\n",
       "      <td>1</td>\n",
       "      <td>0</td>\n",
       "      <td>Ok lar... Joking wif u oni...</td>\n",
       "    </tr>\n",
       "    <tr>\n",
       "      <td>2</td>\n",
       "      <td>1</td>\n",
       "      <td>Free entry in 2 a wkly comp to win FA Cup fina...</td>\n",
       "    </tr>\n",
       "    <tr>\n",
       "      <td>3</td>\n",
       "      <td>0</td>\n",
       "      <td>U dun say so early hor... U c already then say...</td>\n",
       "    </tr>\n",
       "    <tr>\n",
       "      <td>4</td>\n",
       "      <td>0</td>\n",
       "      <td>Nah I don't think he goes to usf, he lives aro...</td>\n",
       "    </tr>\n",
       "    <tr>\n",
       "      <td>5</td>\n",
       "      <td>1</td>\n",
       "      <td>FreeMsg Hey there darling it's been 3 week's n...</td>\n",
       "    </tr>\n",
       "    <tr>\n",
       "      <td>6</td>\n",
       "      <td>0</td>\n",
       "      <td>Even my brother is not like to speak with me. ...</td>\n",
       "    </tr>\n",
       "    <tr>\n",
       "      <td>7</td>\n",
       "      <td>0</td>\n",
       "      <td>As per your request 'Melle Melle (Oru Minnamin...</td>\n",
       "    </tr>\n",
       "    <tr>\n",
       "      <td>8</td>\n",
       "      <td>1</td>\n",
       "      <td>WINNER!! As a valued network customer you have...</td>\n",
       "    </tr>\n",
       "    <tr>\n",
       "      <td>9</td>\n",
       "      <td>1</td>\n",
       "      <td>Had your mobile 11 months or more? U R entitle...</td>\n",
       "    </tr>\n",
       "    <tr>\n",
       "      <td>10</td>\n",
       "      <td>0</td>\n",
       "      <td>I'm gonna be home soon and i don't want to tal...</td>\n",
       "    </tr>\n",
       "    <tr>\n",
       "      <td>11</td>\n",
       "      <td>1</td>\n",
       "      <td>SIX chances to win CASH! From 100 to 20,000 po...</td>\n",
       "    </tr>\n",
       "    <tr>\n",
       "      <td>12</td>\n",
       "      <td>1</td>\n",
       "      <td>URGENT! You have won a 1 week FREE membership ...</td>\n",
       "    </tr>\n",
       "    <tr>\n",
       "      <td>13</td>\n",
       "      <td>0</td>\n",
       "      <td>I've been searching for the right words to tha...</td>\n",
       "    </tr>\n",
       "    <tr>\n",
       "      <td>14</td>\n",
       "      <td>0</td>\n",
       "      <td>I HAVE A DATE ON SUNDAY WITH WILL!!</td>\n",
       "    </tr>\n",
       "    <tr>\n",
       "      <td>15</td>\n",
       "      <td>1</td>\n",
       "      <td>XXXMobileMovieClub: To use your credit, click ...</td>\n",
       "    </tr>\n",
       "    <tr>\n",
       "      <td>16</td>\n",
       "      <td>0</td>\n",
       "      <td>Oh k...i'm watching here:)</td>\n",
       "    </tr>\n",
       "    <tr>\n",
       "      <td>17</td>\n",
       "      <td>0</td>\n",
       "      <td>Eh u remember how 2 spell his name... Yes i di...</td>\n",
       "    </tr>\n",
       "    <tr>\n",
       "      <td>18</td>\n",
       "      <td>0</td>\n",
       "      <td>Fine if thats the way u feel. Thats the way ...</td>\n",
       "    </tr>\n",
       "    <tr>\n",
       "      <td>19</td>\n",
       "      <td>1</td>\n",
       "      <td>England v Macedonia - dont miss the goals/team...</td>\n",
       "    </tr>\n",
       "    <tr>\n",
       "      <td>20</td>\n",
       "      <td>0</td>\n",
       "      <td>Is that seriously how you spell his name?</td>\n",
       "    </tr>\n",
       "    <tr>\n",
       "      <td>21</td>\n",
       "      <td>0</td>\n",
       "      <td>I‘m going to try for 2 months ha ha only joking</td>\n",
       "    </tr>\n",
       "    <tr>\n",
       "      <td>22</td>\n",
       "      <td>0</td>\n",
       "      <td>So ü pay first lar... Then when is da stock co...</td>\n",
       "    </tr>\n",
       "    <tr>\n",
       "      <td>23</td>\n",
       "      <td>0</td>\n",
       "      <td>Aft i finish my lunch then i go str down lor. ...</td>\n",
       "    </tr>\n",
       "    <tr>\n",
       "      <td>24</td>\n",
       "      <td>0</td>\n",
       "      <td>Ffffffffff. Alright no way I can meet up with ...</td>\n",
       "    </tr>\n",
       "  </tbody>\n",
       "</table>\n",
       "</div>"
      ],
      "text/plain": [
       "    Category                                            Message\n",
       "0          0  Go until jurong point, crazy.. Available only ...\n",
       "1          0                      Ok lar... Joking wif u oni...\n",
       "2          1  Free entry in 2 a wkly comp to win FA Cup fina...\n",
       "3          0  U dun say so early hor... U c already then say...\n",
       "4          0  Nah I don't think he goes to usf, he lives aro...\n",
       "5          1  FreeMsg Hey there darling it's been 3 week's n...\n",
       "6          0  Even my brother is not like to speak with me. ...\n",
       "7          0  As per your request 'Melle Melle (Oru Minnamin...\n",
       "8          1  WINNER!! As a valued network customer you have...\n",
       "9          1  Had your mobile 11 months or more? U R entitle...\n",
       "10         0  I'm gonna be home soon and i don't want to tal...\n",
       "11         1  SIX chances to win CASH! From 100 to 20,000 po...\n",
       "12         1  URGENT! You have won a 1 week FREE membership ...\n",
       "13         0  I've been searching for the right words to tha...\n",
       "14         0                I HAVE A DATE ON SUNDAY WITH WILL!!\n",
       "15         1  XXXMobileMovieClub: To use your credit, click ...\n",
       "16         0                         Oh k...i'm watching here:)\n",
       "17         0  Eh u remember how 2 spell his name... Yes i di...\n",
       "18         0  Fine if thats the way u feel. Thats the way ...\n",
       "19         1  England v Macedonia - dont miss the goals/team...\n",
       "20         0          Is that seriously how you spell his name?\n",
       "21         0    I‘m going to try for 2 months ha ha only joking\n",
       "22         0  So ü pay first lar... Then when is da stock co...\n",
       "23         0  Aft i finish my lunch then i go str down lor. ...\n",
       "24         0  Ffffffffff. Alright no way I can meet up with ..."
      ]
     },
     "execution_count": 35,
     "metadata": {},
     "output_type": "execute_result"
    }
   ],
   "source": [
    "df_ham[:25] "
   ]
  },
  {
   "cell_type": "markdown",
   "metadata": {},
   "source": [
    "## Create dummy variable"
   ]
  },
  {
   "cell_type": "code",
   "execution_count": 11,
   "metadata": {},
   "outputs": [
    {
     "data": {
      "text/html": [
       "<div>\n",
       "<style scoped>\n",
       "    .dataframe tbody tr th:only-of-type {\n",
       "        vertical-align: middle;\n",
       "    }\n",
       "\n",
       "    .dataframe tbody tr th {\n",
       "        vertical-align: top;\n",
       "    }\n",
       "\n",
       "    .dataframe thead th {\n",
       "        text-align: right;\n",
       "    }\n",
       "</style>\n",
       "<table border=\"1\" class=\"dataframe\">\n",
       "  <thead>\n",
       "    <tr style=\"text-align: right;\">\n",
       "      <th></th>\n",
       "      <th>Category</th>\n",
       "      <th>Message</th>\n",
       "    </tr>\n",
       "  </thead>\n",
       "  <tbody>\n",
       "    <tr>\n",
       "      <th>0</th>\n",
       "      <td>0</td>\n",
       "      <td>Go until jurong point, crazy.. Available only ...</td>\n",
       "    </tr>\n",
       "    <tr>\n",
       "      <th>1</th>\n",
       "      <td>0</td>\n",
       "      <td>Ok lar... Joking wif u oni...</td>\n",
       "    </tr>\n",
       "    <tr>\n",
       "      <th>2</th>\n",
       "      <td>1</td>\n",
       "      <td>Free entry in 2 a wkly comp to win FA Cup fina...</td>\n",
       "    </tr>\n",
       "    <tr>\n",
       "      <th>3</th>\n",
       "      <td>0</td>\n",
       "      <td>U dun say so early hor... U c already then say...</td>\n",
       "    </tr>\n",
       "    <tr>\n",
       "      <th>4</th>\n",
       "      <td>0</td>\n",
       "      <td>Nah I don't think he goes to usf, he lives aro...</td>\n",
       "    </tr>\n",
       "  </tbody>\n",
       "</table>\n",
       "</div>"
      ],
      "text/plain": [
       "   Category                                            Message\n",
       "0         0  Go until jurong point, crazy.. Available only ...\n",
       "1         0                      Ok lar... Joking wif u oni...\n",
       "2         1  Free entry in 2 a wkly comp to win FA Cup fina...\n",
       "3         0  U dun say so early hor... U c already then say...\n",
       "4         0  Nah I don't think he goes to usf, he lives aro..."
      ]
     },
     "execution_count": 11,
     "metadata": {},
     "output_type": "execute_result"
    }
   ],
   "source": [
    "## replace Category \n",
    "\n",
    "dict_trans = {'ham' : 0, 'spam': 1}\n",
    "df_ham = df_ham.replace({\"Category\": dict_trans})\n",
    "\n",
    "df_ham.head()"
   ]
  },
  {
   "cell_type": "markdown",
   "metadata": {},
   "source": [
    "## TfIdf-Vectorizer"
   ]
  },
  {
   "cell_type": "code",
   "execution_count": 12,
   "metadata": {},
   "outputs": [
    {
     "name": "stdout",
     "output_type": "stream",
     "text": [
      "training set:  (5572, 8709)\n",
      "<class 'scipy.sparse.csr.csr_matrix'>\n"
     ]
    }
   ],
   "source": [
    "from sklearn.feature_extraction.text import TfidfVectorizer\n",
    "\n",
    "vectorizer = TfidfVectorizer(use_idf=True)               ## \n",
    "df_tfidf = vectorizer.fit_transform(df_ham[\"Message\"])   ## .astype('float16')\n",
    "  \n",
    "\n",
    "print(\"training set: \", df_tfidf.shape)\n",
    "print(type(df_tfidf))"
   ]
  },
  {
   "cell_type": "markdown",
   "metadata": {},
   "source": [
    "## Split data"
   ]
  },
  {
   "cell_type": "code",
   "execution_count": 13,
   "metadata": {},
   "outputs": [],
   "source": [
    "tX_train, tX_test, ty_train, ty_test = train_test_split(df_tfidf, \n",
    "                                                    df_ham[\"Category\"], \n",
    "                                                    test_size=0.3, \n",
    "                                                    random_state=42)"
   ]
  },
  {
   "cell_type": "markdown",
   "metadata": {},
   "source": [
    "## Build model 1: base model"
   ]
  },
  {
   "cell_type": "markdown",
   "metadata": {},
   "source": []
  },
  {
   "cell_type": "code",
   "execution_count": 14,
   "metadata": {},
   "outputs": [
    {
     "name": "stdout",
     "output_type": "stream",
     "text": [
      "WARNING:tensorflow:From /usr/local/anaconda3/lib/python3.7/site-packages/tensorflow/python/ops/init_ops.py:1251: calling VarianceScaling.__init__ (from tensorflow.python.ops.init_ops) with dtype is deprecated and will be removed in a future version.\n",
      "Instructions for updating:\n",
      "Call initializer instance with the dtype argument instead of passing it to the constructor\n",
      "Model: \"sequential\"\n",
      "_________________________________________________________________\n",
      "Layer (type)                 Output Shape              Param #   \n",
      "=================================================================\n",
      "dense (Dense)                (None, 64)                557440    \n",
      "_________________________________________________________________\n",
      "dense_1 (Dense)              (None, 1)                 65        \n",
      "=================================================================\n",
      "Total params: 557,505\n",
      "Trainable params: 557,505\n",
      "Non-trainable params: 0\n",
      "_________________________________________________________________\n"
     ]
    }
   ],
   "source": [
    "## matrix\n",
    "#input_dim = tX_train_new.shape[1]     ## 1\n",
    "\n",
    "\n",
    "model = keras.Sequential()\n",
    "model.add(layers.Dense(64, input_shape=[tX_train.shape[1]], activation='relu')) \n",
    "model.add(layers.Dense(1, activation='sigmoid'))\n",
    "\n",
    "model.summary()"
   ]
  },
  {
   "cell_type": "markdown",
   "metadata": {},
   "source": [
    "### Model compilation"
   ]
  },
  {
   "cell_type": "markdown",
   "metadata": {},
   "source": [
    "### (alternative option)"
   ]
  },
  {
   "cell_type": "code",
   "execution_count": null,
   "metadata": {},
   "outputs": [],
   "source": [
    "from keras.optimizers import RMSprop\n",
    "\n",
    "model.compile(loss=sLossMetric,\n",
    "            optimizer=RMSprop(0.001),\n",
    "            metrics=['accuracy'])\n",
    "\n",
    "model.summary()"
   ]
  },
  {
   "cell_type": "markdown",
   "metadata": {},
   "source": [
    "### compile"
   ]
  },
  {
   "cell_type": "code",
   "execution_count": 15,
   "metadata": {
    "scrolled": true
   },
   "outputs": [
    {
     "name": "stdout",
     "output_type": "stream",
     "text": [
      "WARNING:tensorflow:From /usr/local/anaconda3/lib/python3.7/site-packages/tensorflow/python/ops/nn_impl.py:180: add_dispatch_support.<locals>.wrapper (from tensorflow.python.ops.array_ops) is deprecated and will be removed in a future version.\n",
      "Instructions for updating:\n",
      "Use tf.where in 2.0, which has the same broadcast rule as np.where\n",
      "Model: \"sequential\"\n",
      "_________________________________________________________________\n",
      "Layer (type)                 Output Shape              Param #   \n",
      "=================================================================\n",
      "dense (Dense)                (None, 64)                557440    \n",
      "_________________________________________________________________\n",
      "dense_1 (Dense)              (None, 1)                 65        \n",
      "=================================================================\n",
      "Total params: 557,505\n",
      "Trainable params: 557,505\n",
      "Non-trainable params: 0\n",
      "_________________________________________________________________\n"
     ]
    }
   ],
   "source": [
    "model.compile(loss='binary_crossentropy', \n",
    "              optimizer='adam', \n",
    "              metrics=['accuracy'])\n",
    "model.summary()"
   ]
  },
  {
   "cell_type": "markdown",
   "metadata": {},
   "source": [
    "### model.fit"
   ]
  },
  {
   "cell_type": "code",
   "execution_count": 16,
   "metadata": {},
   "outputs": [
    {
     "name": "stdout",
     "output_type": "stream",
     "text": [
      "Train on 3900 samples, validate on 1672 samples\n",
      "Epoch 1/100\n",
      "3900/3900 [==============================] - 2s 554us/sample - loss: 0.2631 - acc: 0.9156 - val_loss: 0.0874 - val_acc: 0.9821\n",
      "Epoch 2/100\n",
      "3900/3900 [==============================] - 2s 461us/sample - loss: 0.0505 - acc: 0.9867 - val_loss: 0.0524 - val_acc: 0.9880\n",
      "Epoch 3/100\n",
      "3900/3900 [==============================] - 2s 464us/sample - loss: 0.0195 - acc: 0.9956 - val_loss: 0.0458 - val_acc: 0.9886\n",
      "Epoch 4/100\n",
      "3900/3900 [==============================] - 2s 461us/sample - loss: 0.0093 - acc: 0.9990 - val_loss: 0.0439 - val_acc: 0.9892\n",
      "Epoch 5/100\n",
      "3900/3900 [==============================] - 2s 469us/sample - loss: 0.0053 - acc: 0.9990 - val_loss: 0.0438 - val_acc: 0.9904\n",
      "Epoch 6/100\n",
      "3900/3900 [==============================] - 2s 478us/sample - loss: 0.0032 - acc: 0.9997 - val_loss: 0.0460 - val_acc: 0.9910\n",
      "Epoch 7/100\n",
      "3900/3900 [==============================] - 2s 497us/sample - loss: 0.0020 - acc: 0.9997 - val_loss: 0.0454 - val_acc: 0.9910\n",
      "Epoch 8/100\n",
      "3900/3900 [==============================] - 2s 476us/sample - loss: 0.0014 - acc: 1.0000 - val_loss: 0.0452 - val_acc: 0.9910\n",
      "Epoch 9/100\n",
      "3900/3900 [==============================] - 2s 471us/sample - loss: 9.9914e-04 - acc: 1.0000 - val_loss: 0.0458 - val_acc: 0.9910\n",
      "Epoch 10/100\n",
      "3900/3900 [==============================] - 2s 490us/sample - loss: 7.5487e-04 - acc: 1.0000 - val_loss: 0.0477 - val_acc: 0.9910\n",
      "Epoch 11/100\n",
      "3900/3900 [==============================] - 2s 486us/sample - loss: 5.9227e-04 - acc: 1.0000 - val_loss: 0.0478 - val_acc: 0.9910\n",
      "Epoch 12/100\n",
      "3900/3900 [==============================] - 2s 498us/sample - loss: 4.7009e-04 - acc: 1.0000 - val_loss: 0.0486 - val_acc: 0.9910\n",
      "Epoch 13/100\n",
      "3900/3900 [==============================] - 2s 487us/sample - loss: 3.8019e-04 - acc: 1.0000 - val_loss: 0.0496 - val_acc: 0.9910\n",
      "Epoch 14/100\n",
      "3900/3900 [==============================] - 2s 494us/sample - loss: 3.1239e-04 - acc: 1.0000 - val_loss: 0.0509 - val_acc: 0.9910\n",
      "Epoch 15/100\n",
      "3900/3900 [==============================] - 2s 492us/sample - loss: 2.6020e-04 - acc: 1.0000 - val_loss: 0.0517 - val_acc: 0.9910\n",
      "Epoch 16/100\n",
      "3900/3900 [==============================] - 2s 494us/sample - loss: 2.1940e-04 - acc: 1.0000 - val_loss: 0.0530 - val_acc: 0.9910\n",
      "Epoch 17/100\n",
      "3900/3900 [==============================] - 2s 517us/sample - loss: 1.8623e-04 - acc: 1.0000 - val_loss: 0.0531 - val_acc: 0.9910\n",
      "Epoch 18/100\n",
      "3900/3900 [==============================] - 2s 514us/sample - loss: 1.5891e-04 - acc: 1.0000 - val_loss: 0.0541 - val_acc: 0.9910\n",
      "Epoch 19/100\n",
      "3900/3900 [==============================] - 2s 573us/sample - loss: 1.3550e-04 - acc: 1.0000 - val_loss: 0.0558 - val_acc: 0.9910\n",
      "Epoch 20/100\n",
      "3900/3900 [==============================] - 2s 534us/sample - loss: 1.1635e-04 - acc: 1.0000 - val_loss: 0.0571 - val_acc: 0.9910\n",
      "Epoch 21/100\n",
      "3900/3900 [==============================] - 2s 524us/sample - loss: 1.0089e-04 - acc: 1.0000 - val_loss: 0.0577 - val_acc: 0.9910\n",
      "Epoch 22/100\n",
      "3900/3900 [==============================] - 2s 531us/sample - loss: 8.7031e-05 - acc: 1.0000 - val_loss: 0.0586 - val_acc: 0.9910\n",
      "Epoch 23/100\n",
      "3900/3900 [==============================] - 2s 529us/sample - loss: 7.4837e-05 - acc: 1.0000 - val_loss: 0.0601 - val_acc: 0.9910\n",
      "Epoch 24/100\n",
      "3900/3900 [==============================] - 2s 545us/sample - loss: 6.4889e-05 - acc: 1.0000 - val_loss: 0.0613 - val_acc: 0.9910\n",
      "Epoch 25/100\n",
      "3900/3900 [==============================] - 2s 531us/sample - loss: 5.6827e-05 - acc: 1.0000 - val_loss: 0.0624 - val_acc: 0.9910\n",
      "Epoch 26/100\n",
      "3900/3900 [==============================] - 2s 518us/sample - loss: 4.8934e-05 - acc: 1.0000 - val_loss: 0.0636 - val_acc: 0.9910\n",
      "Epoch 27/100\n",
      "3900/3900 [==============================] - 2s 518us/sample - loss: 4.2394e-05 - acc: 1.0000 - val_loss: 0.0641 - val_acc: 0.9910\n",
      "Epoch 28/100\n",
      "3900/3900 [==============================] - 2s 532us/sample - loss: 3.6781e-05 - acc: 1.0000 - val_loss: 0.0651 - val_acc: 0.9910\n",
      "Epoch 29/100\n",
      "3900/3900 [==============================] - 2s 515us/sample - loss: 3.1909e-05 - acc: 1.0000 - val_loss: 0.0669 - val_acc: 0.9904\n",
      "Epoch 30/100\n",
      "3900/3900 [==============================] - 2s 531us/sample - loss: 2.8079e-05 - acc: 1.0000 - val_loss: 0.0669 - val_acc: 0.9910\n",
      "Epoch 31/100\n",
      "3900/3900 [==============================] - 2s 554us/sample - loss: 2.4454e-05 - acc: 1.0000 - val_loss: 0.0691 - val_acc: 0.9904\n",
      "Epoch 32/100\n",
      "3900/3900 [==============================] - 2s 547us/sample - loss: 2.1180e-05 - acc: 1.0000 - val_loss: 0.0696 - val_acc: 0.9904\n",
      "Epoch 33/100\n",
      "3900/3900 [==============================] - 2s 515us/sample - loss: 1.8454e-05 - acc: 1.0000 - val_loss: 0.0719 - val_acc: 0.9904\n",
      "Epoch 34/100\n",
      "3900/3900 [==============================] - 2s 518us/sample - loss: 1.6279e-05 - acc: 1.0000 - val_loss: 0.0731 - val_acc: 0.9904\n",
      "Epoch 35/100\n",
      "3900/3900 [==============================] - 2s 526us/sample - loss: 1.4140e-05 - acc: 1.0000 - val_loss: 0.0733 - val_acc: 0.9904\n",
      "Epoch 36/100\n",
      "3900/3900 [==============================] - 2s 529us/sample - loss: 1.2415e-05 - acc: 1.0000 - val_loss: 0.0746 - val_acc: 0.9904\n",
      "Epoch 37/100\n",
      "3900/3900 [==============================] - 2s 565us/sample - loss: 1.0759e-05 - acc: 1.0000 - val_loss: 0.0754 - val_acc: 0.9904\n",
      "Epoch 38/100\n",
      "3900/3900 [==============================] - 2s 529us/sample - loss: 9.2899e-06 - acc: 1.0000 - val_loss: 0.0776 - val_acc: 0.9904\n",
      "Epoch 39/100\n",
      "3900/3900 [==============================] - 2s 540us/sample - loss: 8.0491e-06 - acc: 1.0000 - val_loss: 0.0794 - val_acc: 0.9898\n",
      "Epoch 40/100\n",
      "3900/3900 [==============================] - 2s 533us/sample - loss: 6.9937e-06 - acc: 1.0000 - val_loss: 0.0791 - val_acc: 0.9904\n",
      "Epoch 41/100\n",
      "3900/3900 [==============================] - 2s 530us/sample - loss: 6.0597e-06 - acc: 1.0000 - val_loss: 0.0810 - val_acc: 0.9904\n",
      "Epoch 42/100\n",
      "3900/3900 [==============================] - 2s 529us/sample - loss: 5.3784e-06 - acc: 1.0000 - val_loss: 0.0811 - val_acc: 0.9904\n",
      "Epoch 43/100\n",
      "3900/3900 [==============================] - 2s 523us/sample - loss: 4.6658e-06 - acc: 1.0000 - val_loss: 0.0810 - val_acc: 0.9904\n",
      "Epoch 44/100\n",
      "3900/3900 [==============================] - 2s 522us/sample - loss: 4.0438e-06 - acc: 1.0000 - val_loss: 0.0843 - val_acc: 0.9898\n",
      "Epoch 45/100\n",
      "3900/3900 [==============================] - 2s 518us/sample - loss: 3.5437e-06 - acc: 1.0000 - val_loss: 0.0849 - val_acc: 0.9898\n",
      "Epoch 46/100\n",
      "3900/3900 [==============================] - 2s 535us/sample - loss: 3.1112e-06 - acc: 1.0000 - val_loss: 0.0857 - val_acc: 0.9904\n",
      "Epoch 47/100\n",
      "3900/3900 [==============================] - 2s 521us/sample - loss: 2.7437e-06 - acc: 1.0000 - val_loss: 0.0858 - val_acc: 0.9904\n",
      "Epoch 48/100\n",
      "3900/3900 [==============================] - 2s 527us/sample - loss: 2.3295e-06 - acc: 1.0000 - val_loss: 0.0877 - val_acc: 0.9892\n",
      "Epoch 49/100\n",
      "3900/3900 [==============================] - 2s 554us/sample - loss: 2.0260e-06 - acc: 1.0000 - val_loss: 0.0895 - val_acc: 0.9892\n",
      "Epoch 50/100\n",
      "3900/3900 [==============================] - 2s 549us/sample - loss: 1.8083e-06 - acc: 1.0000 - val_loss: 0.0874 - val_acc: 0.9904\n",
      "Epoch 51/100\n",
      "3900/3900 [==============================] - 2s 534us/sample - loss: 1.5319e-06 - acc: 1.0000 - val_loss: 0.0906 - val_acc: 0.9892\n",
      "Epoch 52/100\n",
      "3900/3900 [==============================] - 2s 513us/sample - loss: 1.3482e-06 - acc: 1.0000 - val_loss: 0.0898 - val_acc: 0.9898\n",
      "Epoch 53/100\n",
      "3900/3900 [==============================] - 2s 495us/sample - loss: 1.1593e-06 - acc: 1.0000 - val_loss: 0.0921 - val_acc: 0.9892\n",
      "Epoch 54/100\n",
      "3900/3900 [==============================] - 2s 513us/sample - loss: 1.0031e-06 - acc: 1.0000 - val_loss: 0.0932 - val_acc: 0.9892\n",
      "Epoch 55/100\n",
      "3900/3900 [==============================] - 2s 529us/sample - loss: 8.7673e-07 - acc: 1.0000 - val_loss: 0.0945 - val_acc: 0.9892\n",
      "Epoch 56/100\n",
      "3900/3900 [==============================] - 2s 547us/sample - loss: 7.6018e-07 - acc: 1.0000 - val_loss: 0.0948 - val_acc: 0.9892\n",
      "Epoch 57/100\n",
      "3900/3900 [==============================] - 2s 525us/sample - loss: 6.6470e-07 - acc: 1.0000 - val_loss: 0.0964 - val_acc: 0.9892\n"
     ]
    },
    {
     "name": "stdout",
     "output_type": "stream",
     "text": [
      "Epoch 58/100\n",
      "3900/3900 [==============================] - 2s 502us/sample - loss: 5.8371e-07 - acc: 1.0000 - val_loss: 0.0964 - val_acc: 0.9892\n",
      "Epoch 59/100\n",
      "3900/3900 [==============================] - 2s 510us/sample - loss: 5.0758e-07 - acc: 1.0000 - val_loss: 0.0973 - val_acc: 0.9892\n",
      "Epoch 60/100\n",
      "3900/3900 [==============================] - 2s 503us/sample - loss: 4.4874e-07 - acc: 1.0000 - val_loss: 0.0974 - val_acc: 0.9892\n",
      "Epoch 61/100\n",
      "3900/3900 [==============================] - 2s 520us/sample - loss: 3.8338e-07 - acc: 1.0000 - val_loss: 0.1000 - val_acc: 0.9880\n",
      "Epoch 62/100\n",
      "3900/3900 [==============================] - 2s 513us/sample - loss: 3.3385e-07 - acc: 1.0000 - val_loss: 0.0988 - val_acc: 0.9892\n",
      "Epoch 63/100\n",
      "3900/3900 [==============================] - 2s 542us/sample - loss: 2.8532e-07 - acc: 1.0000 - val_loss: 0.1021 - val_acc: 0.9880\n",
      "Epoch 64/100\n",
      "3900/3900 [==============================] - 2s 535us/sample - loss: 2.4512e-07 - acc: 1.0000 - val_loss: 0.1024 - val_acc: 0.9880\n",
      "Epoch 65/100\n",
      "3900/3900 [==============================] - 2s 580us/sample - loss: 2.1198e-07 - acc: 1.0000 - val_loss: 0.1035 - val_acc: 0.9880\n",
      "Epoch 66/100\n",
      "3900/3900 [==============================] - 2s 513us/sample - loss: 1.8545e-07 - acc: 1.0000 - val_loss: 0.1038 - val_acc: 0.9880\n",
      "Epoch 67/100\n",
      "3900/3900 [==============================] - 2s 536us/sample - loss: 1.6068e-07 - acc: 1.0000 - val_loss: 0.1028 - val_acc: 0.9880\n",
      "Epoch 68/100\n",
      "3900/3900 [==============================] - 2s 498us/sample - loss: 1.4019e-07 - acc: 1.0000 - val_loss: 0.1034 - val_acc: 0.9880\n",
      "Epoch 69/100\n",
      "3900/3900 [==============================] - 2s 485us/sample - loss: 1.2315e-07 - acc: 1.0000 - val_loss: 0.1052 - val_acc: 0.9880\n",
      "Epoch 70/100\n",
      "3900/3900 [==============================] - 2s 491us/sample - loss: 1.0765e-07 - acc: 1.0000 - val_loss: 0.1061 - val_acc: 0.9880\n",
      "Epoch 71/100\n",
      "3900/3900 [==============================] - 2s 514us/sample - loss: 9.4749e-08 - acc: 1.0000 - val_loss: 0.1064 - val_acc: 0.9880\n",
      "Epoch 72/100\n",
      "3900/3900 [==============================] - 2s 514us/sample - loss: 8.1650e-08 - acc: 1.0000 - val_loss: 0.1070 - val_acc: 0.9880\n",
      "Epoch 73/100\n",
      "3900/3900 [==============================] - 2s 540us/sample - loss: 7.0849e-08 - acc: 1.0000 - val_loss: 0.1079 - val_acc: 0.9874\n",
      "Epoch 74/100\n",
      "3900/3900 [==============================] - 2s 508us/sample - loss: 6.1503e-08 - acc: 1.0000 - val_loss: 0.1076 - val_acc: 0.9880\n",
      "Epoch 75/100\n",
      "3900/3900 [==============================] - 2s 502us/sample - loss: 5.3803e-08 - acc: 1.0000 - val_loss: 0.1070 - val_acc: 0.9880\n",
      "Epoch 76/100\n",
      "3900/3900 [==============================] - 2s 511us/sample - loss: 4.6897e-08 - acc: 1.0000 - val_loss: 0.1077 - val_acc: 0.9880\n",
      "Epoch 77/100\n",
      "3900/3900 [==============================] - 2s 497us/sample - loss: 4.1442e-08 - acc: 1.0000 - val_loss: 0.1091 - val_acc: 0.9874\n",
      "Epoch 78/100\n",
      "3900/3900 [==============================] - 2s 509us/sample - loss: 3.6314e-08 - acc: 1.0000 - val_loss: 0.1090 - val_acc: 0.9880\n",
      "Epoch 79/100\n",
      "3900/3900 [==============================] - 2s 512us/sample - loss: 3.2090e-08 - acc: 1.0000 - val_loss: 0.1096 - val_acc: 0.9874\n",
      "Epoch 80/100\n",
      "3900/3900 [==============================] - 2s 520us/sample - loss: 2.8554e-08 - acc: 1.0000 - val_loss: 0.1104 - val_acc: 0.9874\n",
      "Epoch 81/100\n",
      "3900/3900 [==============================] - 2s 536us/sample - loss: 2.5470e-08 - acc: 1.0000 - val_loss: 0.1114 - val_acc: 0.9874\n",
      "Epoch 82/100\n",
      "3900/3900 [==============================] - 2s 544us/sample - loss: 2.2961e-08 - acc: 1.0000 - val_loss: 0.1117 - val_acc: 0.9874\n",
      "Epoch 83/100\n",
      "3900/3900 [==============================] - 2s 572us/sample - loss: 2.0230e-08 - acc: 1.0000 - val_loss: 0.1118 - val_acc: 0.9874\n",
      "Epoch 84/100\n",
      "3900/3900 [==============================] - 2s 572us/sample - loss: 1.8183e-08 - acc: 1.0000 - val_loss: 0.1113 - val_acc: 0.9874\n",
      "Epoch 85/100\n",
      "3900/3900 [==============================] - 2s 553us/sample - loss: 1.6261e-08 - acc: 1.0000 - val_loss: 0.1112 - val_acc: 0.9874\n",
      "Epoch 86/100\n",
      "3900/3900 [==============================] - 2s 563us/sample - loss: 1.4574e-08 - acc: 1.0000 - val_loss: 0.1128 - val_acc: 0.9874\n",
      "Epoch 87/100\n",
      "3900/3900 [==============================] - 2s 570us/sample - loss: 1.3202e-08 - acc: 1.0000 - val_loss: 0.1130 - val_acc: 0.9874\n",
      "Epoch 88/100\n",
      "3900/3900 [==============================] - 2s 556us/sample - loss: 1.2030e-08 - acc: 1.0000 - val_loss: 0.1131 - val_acc: 0.9874\n",
      "Epoch 89/100\n",
      "3900/3900 [==============================] - 2s 568us/sample - loss: 1.0958e-08 - acc: 1.0000 - val_loss: 0.1123 - val_acc: 0.9874\n",
      "Epoch 90/100\n",
      "3900/3900 [==============================] - 2s 565us/sample - loss: 9.9220e-09 - acc: 1.0000 - val_loss: 0.1133 - val_acc: 0.9874\n",
      "Epoch 91/100\n",
      "3900/3900 [==============================] - 2s 569us/sample - loss: 9.1218e-09 - acc: 1.0000 - val_loss: 0.1141 - val_acc: 0.9874\n",
      "Epoch 92/100\n",
      "3900/3900 [==============================] - 2s 562us/sample - loss: 8.4046e-09 - acc: 1.0000 - val_loss: 0.1146 - val_acc: 0.9874\n",
      "Epoch 93/100\n",
      "3900/3900 [==============================] - 2s 549us/sample - loss: 7.8374e-09 - acc: 1.0000 - val_loss: 0.1139 - val_acc: 0.9874\n",
      "Epoch 94/100\n",
      "3900/3900 [==============================] - 2s 571us/sample - loss: 7.2394e-09 - acc: 1.0000 - val_loss: 0.1152 - val_acc: 0.9874\n",
      "Epoch 95/100\n",
      "3900/3900 [==============================] - 2s 577us/sample - loss: 6.8320e-09 - acc: 1.0000 - val_loss: 0.1146 - val_acc: 0.9874\n",
      "Epoch 96/100\n",
      "3900/3900 [==============================] - 2s 555us/sample - loss: 6.3519e-09 - acc: 1.0000 - val_loss: 0.1146 - val_acc: 0.9874\n",
      "Epoch 97/100\n",
      "3900/3900 [==============================] - 2s 568us/sample - loss: 5.9619e-09 - acc: 1.0000 - val_loss: 0.1142 - val_acc: 0.9874\n",
      "Epoch 98/100\n",
      "3900/3900 [==============================] - 2s 562us/sample - loss: 5.6489e-09 - acc: 1.0000 - val_loss: 0.1149 - val_acc: 0.9874\n",
      "Epoch 99/100\n",
      "3900/3900 [==============================] - 2s 573us/sample - loss: 5.3173e-09 - acc: 1.0000 - val_loss: 0.1152 - val_acc: 0.9874\n",
      "Epoch 100/100\n",
      "3900/3900 [==============================] - 2s 575us/sample - loss: 5.0703e-09 - acc: 1.0000 - val_loss: 0.1152 - val_acc: 0.9874\n"
     ]
    }
   ],
   "source": [
    "history = model.fit(tX_train, ty_train,\n",
    "                    epochs=100,                            ## 20\n",
    "                    verbose=True,\n",
    "                    validation_data=(tX_test, ty_test),    ## validation_data=(tX_test, ty_test) -> see ValueError, validation_split = 0.2\n",
    "                    batch_size=10)\n",
    "\n",
    "\n",
    "## ValueError: Error when checking input: expected dense_input to have \n",
    "## shape (7262,) but got array with shape (4421,)"
   ]
  },
  {
   "cell_type": "markdown",
   "metadata": {},
   "source": [
    "### Loss, Accuracy"
   ]
  },
  {
   "cell_type": "code",
   "execution_count": 17,
   "metadata": {},
   "outputs": [
    {
     "name": "stdout",
     "output_type": "stream",
     "text": [
      "Training Accuracy: 1.0000\n"
     ]
    }
   ],
   "source": [
    "loss, accuracy = model.evaluate(tX_train, ty_train, verbose=False)\n",
    "print(\"Training Accuracy: {:.4f}\".format(accuracy))"
   ]
  },
  {
   "cell_type": "code",
   "execution_count": 18,
   "metadata": {},
   "outputs": [
    {
     "name": "stdout",
     "output_type": "stream",
     "text": [
      "Testing Accuracy:  0.9874\n"
     ]
    }
   ],
   "source": [
    "## tX_test.shape (1672, 4421), tX_train.shape (3900, 7262)\n",
    "\n",
    "loss, accuracy = model.evaluate(tX_test, ty_test, verbose=False)\n",
    "print(\"Testing Accuracy:  {:.4f}\".format(accuracy))"
   ]
  },
  {
   "cell_type": "markdown",
   "metadata": {},
   "source": [
    "## Plot model performance"
   ]
  },
  {
   "cell_type": "code",
   "execution_count": 20,
   "metadata": {
    "scrolled": true
   },
   "outputs": [
    {
     "name": "stdout",
     "output_type": "stream",
     "text": [
      "dict_keys(['loss', 'acc', 'val_loss', 'val_acc'])\n"
     ]
    }
   ],
   "source": [
    "print(history.history.keys())"
   ]
  },
  {
   "cell_type": "markdown",
   "metadata": {},
   "source": [
    "### Accuracy"
   ]
  },
  {
   "cell_type": "code",
   "execution_count": 30,
   "metadata": {
    "scrolled": false
   },
   "outputs": [
    {
     "data": {
      "image/png": "[encoded data removed]",
      "text/plain": [
       "<Figure size 432x288 with 1 Axes>"
      ]
     },
     "metadata": {
      "needs_background": "light"
     },
     "output_type": "display_data"
    }
   ],
   "source": [
    "# Plot training performance\n",
    "import matplotlib.pyplot as plt\n",
    "%matplotlib inline\n",
    "acc = history.history['acc']\n",
    "val_acc = history.history['val_acc']\n",
    "epochs = range(1, len(mse) + 1)\n",
    "plt.plot(epochs, acc, 'bo', label='Training acc')\n",
    "plt.plot(epochs, val_acc, 'b', label='Validation acc')\n",
    "plt.title('Training and validation Accuracy')\n",
    "plt.legend()\n",
    "plt.show()"
   ]
  },
  {
   "cell_type": "markdown",
   "metadata": {},
   "source": [
    "### Interpretation:\n",
    "\n",
    "Relatively high accuracy because of obvious structure of SPAM mails (text).\n",
    "After **Epoche 7** accuracy of 1.00.\n",
    "\n",
    "Problem of **Overfitting**.\n",
    "\n",
    "VS.\n",
    "\n",
    "If you see your machine learning algorithm predicting too well, always wonder: am I including any feature duplicating the targets in my input dataset?"
   ]
  },
  {
   "cell_type": "markdown",
   "metadata": {},
   "source": [
    "### Loss"
   ]
  },
  {
   "cell_type": "code",
   "execution_count": 31,
   "metadata": {
    "scrolled": true
   },
   "outputs": [
    {
     "data": {
      "image/png": "[encoded data removed]",
      "text/plain": [
       "<Figure size 432x288 with 1 Axes>"
      ]
     },
     "metadata": {
      "needs_background": "light"
     },
     "output_type": "display_data"
    }
   ],
   "source": [
    "# summarize history for loss\n",
    "\n",
    "plt.plot(history.history['loss'])\n",
    "plt.plot(history.history['val_loss'])\n",
    "plt.title('model loss')\n",
    "plt.ylabel('loss')\n",
    "plt.xlabel('epoch')\n",
    "plt.legend(['train', 'test'], loc='upper left')\n",
    "plt.show()"
   ]
  },
  {
   "cell_type": "markdown",
   "metadata": {},
   "source": [
    "### Interpretation:\n",
    "\n",
    "Loss increases after first few epochs.\n",
    "Overfitting: Low Bias, high Variance...\n",
    "\n"
   ]
  },
  {
   "cell_type": "markdown",
   "metadata": {},
   "source": [
    "(...)"
   ]
  },
  {
   "cell_type": "markdown",
   "metadata": {},
   "source": [
    "# Build Model 2: Word Embedding instead of CountVectorizer"
   ]
  },
  {
   "cell_type": "code",
   "execution_count": 14,
   "metadata": {},
   "outputs": [],
   "source": [
    "# data pre-processing\n",
    "labels = df_ham['Category'].values\n",
    "messages = df_ham['Message'].values\n",
    "messages_train2, messages_test2, y_train2, y_test2 = train_test_split(messages, labels, test_size=0.3, random_state=42)"
   ]
  },
  {
   "cell_type": "code",
   "execution_count": 26,
   "metadata": {},
   "outputs": [
    {
     "data": {
      "text/plain": [
       "array([0, 0, 0, ..., 0, 0, 0])"
      ]
     },
     "execution_count": 26,
     "metadata": {},
     "output_type": "execute_result"
    }
   ],
   "source": [
    "y_train2"
   ]
  },
  {
   "cell_type": "code",
   "execution_count": 48,
   "metadata": {},
   "outputs": [
    {
     "name": "stdout",
     "output_type": "stream",
     "text": [
      "[19, 4, 1021, 112, 93, 6, 40, 358]\n",
      "on a Tuesday night r u 4 real\n"
     ]
    }
   ],
   "source": [
    "# Word Embeddings\n",
    "from keras.preprocessing.text import Tokenizer\n",
    "tokenizer=Tokenizer(num_words=5000, char_level=False)\n",
    "tokenizer.fit_on_texts(messages_train2) # just on the training set...\n",
    "\n",
    "X2_train = tokenizer.texts_to_sequences(messages_train2)\n",
    "X2_test = tokenizer.texts_to_sequences(messages_test2)\n",
    "\n",
    "vocab_size = len(tokenizer.word_index) + 1 # Adding 1\n",
    "\n",
    "print(X2_train[1])\n",
    "print(messages_train2[1])"
   ]
  },
  {
   "cell_type": "code",
   "execution_count": 49,
   "metadata": {},
   "outputs": [],
   "source": [
    "# pad sequences\n",
    "maxlen = 100\n",
    "\n",
    "X2_train = pad_sequences(X2_train, padding='post', maxlen=maxlen)\n",
    "X2_test = pad_sequences(X2_test, padding='post', maxlen=maxlen)"
   ]
  },
  {
   "cell_type": "code",
   "execution_count": 52,
   "metadata": {},
   "outputs": [
    {
     "name": "stdout",
     "output_type": "stream",
     "text": [
      "WARNING:tensorflow:From /Users/andiklausli/opt/miniconda3/lib/python3.7/site-packages/tensorflow/python/ops/nn_impl.py:180: add_dispatch_support.<locals>.wrapper (from tensorflow.python.ops.array_ops) is deprecated and will be removed in a future version.\n",
      "Instructions for updating:\n",
      "Use tf.where in 2.0, which has the same broadcast rule as np.where\n",
      "Model: \"sequential_1\"\n",
      "_________________________________________________________________\n",
      "Layer (type)                 Output Shape              Param #   \n",
      "=================================================================\n",
      "embedding_1 (Embedding)      (None, 100, 50)           375050    \n",
      "_________________________________________________________________\n",
      "flatten_1 (Flatten)          (None, 5000)              0         \n",
      "_________________________________________________________________\n",
      "dense_2 (Dense)              (None, 64)                320064    \n",
      "_________________________________________________________________\n",
      "dense_3 (Dense)              (None, 1)                 65        \n",
      "=================================================================\n",
      "Total params: 695,179\n",
      "Trainable params: 695,179\n",
      "Non-trainable params: 0\n",
      "_________________________________________________________________\n"
     ]
    }
   ],
   "source": [
    "# building the model2 with the Embedding Layer\n",
    "embedding_dim = 50 # the smaller the better for the computational performance...\n",
    "\n",
    "model2 = keras.Sequential()\n",
    "model2.add(layers.Embedding(input_dim=vocab_size,\n",
    "                           output_dim=embedding_dim,\n",
    "                           input_length=maxlen))\n",
    "model2.add(layers.Flatten()) #if after the embedding layer a Dense layer follows, the output has to be flattened\n",
    "model2.add(layers.Dense(64, activation='relu')) #same layers and parameters as in model 1\n",
    "model2.add(layers.Dense(1, activation='sigmoid'))\n",
    "model2.compile(optimizer='adam',\n",
    "              loss='binary_crossentropy',\n",
    "              metrics=['accuracy'])\n",
    "\n",
    "model2.summary()"
   ]
  },
  {
   "cell_type": "code",
   "execution_count": 73,
   "metadata": {},
   "outputs": [
    {
     "name": "stdout",
     "output_type": "stream",
     "text": [
      "Train on 3900 samples, validate on 1672 samples\n",
      "Epoch 1/100\n",
      "3900/3900 [==============================] - 2s 526us/sample - loss: 7.3491e-08 - acc: 1.0000 - val_loss: 0.1021 - val_acc: 0.9898\n",
      "Epoch 2/100\n",
      "3900/3900 [==============================] - 2s 538us/sample - loss: 5.6616e-08 - acc: 1.0000 - val_loss: 0.1045 - val_acc: 0.9886\n",
      "Epoch 3/100\n",
      "3900/3900 [==============================] - 2s 554us/sample - loss: 4.6466e-08 - acc: 1.0000 - val_loss: 0.1051 - val_acc: 0.9898\n",
      "Epoch 4/100\n",
      "3900/3900 [==============================] - 2s 554us/sample - loss: 3.8942e-08 - acc: 1.0000 - val_loss: 0.1062 - val_acc: 0.9898\n",
      "Epoch 5/100\n",
      "3900/3900 [==============================] - 2s 572us/sample - loss: 3.1920e-08 - acc: 1.0000 - val_loss: 0.1072 - val_acc: 0.9898\n",
      "Epoch 6/100\n",
      "3900/3900 [==============================] - 2s 577us/sample - loss: 2.6289e-08 - acc: 1.0000 - val_loss: 0.1101 - val_acc: 0.9886\n",
      "Epoch 7/100\n",
      "3900/3900 [==============================] - 2s 584us/sample - loss: 2.2632e-08 - acc: 1.0000 - val_loss: 0.1087 - val_acc: 0.9898\n",
      "Epoch 8/100\n",
      "3900/3900 [==============================] - 2s 574us/sample - loss: 1.8784e-08 - acc: 1.0000 - val_loss: 0.1117 - val_acc: 0.9886\n",
      "Epoch 9/100\n",
      "3900/3900 [==============================] - 2s 621us/sample - loss: 1.6170e-08 - acc: 1.0000 - val_loss: 0.1124 - val_acc: 0.9886\n",
      "Epoch 10/100\n",
      "3900/3900 [==============================] - 2s 592us/sample - loss: 1.3800e-08 - acc: 1.0000 - val_loss: 0.1131 - val_acc: 0.9886\n",
      "Epoch 11/100\n",
      "3900/3900 [==============================] - 2s 575us/sample - loss: 1.1589e-08 - acc: 1.0000 - val_loss: 0.1143 - val_acc: 0.9886\n",
      "Epoch 12/100\n",
      "3900/3900 [==============================] - 2s 563us/sample - loss: 9.8577e-09 - acc: 1.0000 - val_loss: 0.1163 - val_acc: 0.9886\n",
      "Epoch 13/100\n",
      "3900/3900 [==============================] - 2s 558us/sample - loss: 8.5008e-09 - acc: 1.0000 - val_loss: 0.1161 - val_acc: 0.9886\n",
      "Epoch 14/100\n",
      "3900/3900 [==============================] - 2s 552us/sample - loss: 7.4337e-09 - acc: 1.0000 - val_loss: 0.1180 - val_acc: 0.9886\n",
      "Epoch 15/100\n",
      "3900/3900 [==============================] - 2s 536us/sample - loss: 6.3676e-09 - acc: 1.0000 - val_loss: 0.1192 - val_acc: 0.9886\n",
      "Epoch 16/100\n",
      "3900/3900 [==============================] - 2s 548us/sample - loss: 5.5418e-09 - acc: 1.0000 - val_loss: 0.1203 - val_acc: 0.9886\n",
      "Epoch 17/100\n",
      "3900/3900 [==============================] - 2s 527us/sample - loss: 4.8518e-09 - acc: 1.0000 - val_loss: 0.1214 - val_acc: 0.9886\n",
      "Epoch 18/100\n",
      "3900/3900 [==============================] - 2s 536us/sample - loss: 4.2288e-09 - acc: 1.0000 - val_loss: 0.1227 - val_acc: 0.9886\n",
      "Epoch 19/100\n",
      "3900/3900 [==============================] - 2s 556us/sample - loss: 3.7394e-09 - acc: 1.0000 - val_loss: 0.1235 - val_acc: 0.9886\n",
      "Epoch 20/100\n",
      "3900/3900 [==============================] - 2s 574us/sample - loss: 3.3159e-09 - acc: 1.0000 - val_loss: 0.1250 - val_acc: 0.9886\n",
      "Epoch 21/100\n",
      "3900/3900 [==============================] - 2s 597us/sample - loss: 2.9405e-09 - acc: 1.0000 - val_loss: 0.1257 - val_acc: 0.9886\n",
      "Epoch 22/100\n",
      "3900/3900 [==============================] - 2s 615us/sample - loss: 2.5747e-09 - acc: 1.0000 - val_loss: 0.1273 - val_acc: 0.9886\n",
      "Epoch 23/100\n",
      "3900/3900 [==============================] - 3s 676us/sample - loss: 2.2870e-09 - acc: 1.0000 - val_loss: 0.1283 - val_acc: 0.9886\n",
      "Epoch 24/100\n",
      "3900/3900 [==============================] - 2s 597us/sample - loss: 2.0723e-09 - acc: 1.0000 - val_loss: 0.1294 - val_acc: 0.9886\n",
      "Epoch 25/100\n",
      "3900/3900 [==============================] - 2s 547us/sample - loss: 1.8598e-09 - acc: 1.0000 - val_loss: 0.1311 - val_acc: 0.9886\n",
      "Epoch 26/100\n",
      "3900/3900 [==============================] - 2s 546us/sample - loss: 1.7486e-09 - acc: 1.0000 - val_loss: 0.1318 - val_acc: 0.9886\n",
      "Epoch 27/100\n",
      "3900/3900 [==============================] - 2s 536us/sample - loss: 1.5750e-09 - acc: 1.0000 - val_loss: 0.1335 - val_acc: 0.9886\n",
      "Epoch 28/100\n",
      "3900/3900 [==============================] - 2s 557us/sample - loss: 1.5121e-09 - acc: 1.0000 - val_loss: 0.1340 - val_acc: 0.9886\n",
      "Epoch 29/100\n",
      "3900/3900 [==============================] - 2s 559us/sample - loss: 1.3454e-09 - acc: 1.0000 - val_loss: 0.1352 - val_acc: 0.9886\n",
      "Epoch 30/100\n",
      "3900/3900 [==============================] - 2s 558us/sample - loss: 1.3044e-09 - acc: 1.0000 - val_loss: 0.1362 - val_acc: 0.9886\n",
      "Epoch 31/100\n",
      "3900/3900 [==============================] - 2s 552us/sample - loss: 1.2504e-09 - acc: 1.0000 - val_loss: 0.1373 - val_acc: 0.9886\n",
      "Epoch 32/100\n",
      "3900/3900 [==============================] - 2s 551us/sample - loss: 1.1632e-09 - acc: 1.0000 - val_loss: 0.1382 - val_acc: 0.9886\n",
      "Epoch 33/100\n",
      "3900/3900 [==============================] - 2s 587us/sample - loss: 1.1081e-09 - acc: 1.0000 - val_loss: 0.1387 - val_acc: 0.9886\n",
      "Epoch 34/100\n",
      "3900/3900 [==============================] - 3s 680us/sample - loss: 1.0573e-09 - acc: 1.0000 - val_loss: 0.1401 - val_acc: 0.9886\n",
      "Epoch 35/100\n",
      "3900/3900 [==============================] - 3s 661us/sample - loss: 1.0438e-09 - acc: 1.0000 - val_loss: 0.1410 - val_acc: 0.9886\n",
      "Epoch 36/100\n",
      "3900/3900 [==============================] - 3s 707us/sample - loss: 9.8726e-10 - acc: 1.0000 - val_loss: 0.1417 - val_acc: 0.9886\n",
      "Epoch 37/100\n",
      "3900/3900 [==============================] - 3s 752us/sample - loss: 9.7641e-10 - acc: 1.0000 - val_loss: 0.1430 - val_acc: 0.9886\n",
      "Epoch 38/100\n",
      "3900/3900 [==============================] - 3s 669us/sample - loss: 9.2893e-10 - acc: 1.0000 - val_loss: 0.1436 - val_acc: 0.9886\n",
      "Epoch 39/100\n",
      "3900/3900 [==============================] - 3s 649us/sample - loss: 8.8070e-10 - acc: 1.0000 - val_loss: 0.1437 - val_acc: 0.9886\n",
      "Epoch 40/100\n",
      "3900/3900 [==============================] - 3s 666us/sample - loss: 8.3361e-10 - acc: 1.0000 - val_loss: 0.1453 - val_acc: 0.9880\n",
      "Epoch 41/100\n",
      "3900/3900 [==============================] - 3s 650us/sample - loss: 8.9642e-10 - acc: 1.0000 - val_loss: 0.1462 - val_acc: 0.9880\n",
      "Epoch 42/100\n",
      "3900/3900 [==============================] - 3s 668us/sample - loss: 8.6571e-10 - acc: 1.0000 - val_loss: 0.1457 - val_acc: 0.9880\n",
      "Epoch 43/100\n",
      "3900/3900 [==============================] - 2s 641us/sample - loss: 8.3507e-10 - acc: 1.0000 - val_loss: 0.1470 - val_acc: 0.9880\n",
      "Epoch 44/100\n",
      "3900/3900 [==============================] - 3s 670us/sample - loss: 8.4856e-10 - acc: 1.0000 - val_loss: 0.1472 - val_acc: 0.9880\n",
      "Epoch 45/100\n",
      "3900/3900 [==============================] - 3s 699us/sample - loss: 8.2695e-10 - acc: 1.0000 - val_loss: 0.1484 - val_acc: 0.9880\n",
      "Epoch 46/100\n",
      "3900/3900 [==============================] - 3s 756us/sample - loss: 7.8455e-10 - acc: 1.0000 - val_loss: 0.1483 - val_acc: 0.9880\n",
      "Epoch 47/100\n",
      "3900/3900 [==============================] - 3s 695us/sample - loss: 7.2411e-10 - acc: 1.0000 - val_loss: 0.1484 - val_acc: 0.9880\n",
      "Epoch 48/100\n",
      "3900/3900 [==============================] - 3s 774us/sample - loss: 7.6858e-10 - acc: 1.0000 - val_loss: 0.1489 - val_acc: 0.9880\n",
      "Epoch 49/100\n",
      "3900/3900 [==============================] - 3s 719us/sample - loss: 7.7373e-10 - acc: 1.0000 - val_loss: 0.1495 - val_acc: 0.9880\n",
      "Epoch 50/100\n",
      "3900/3900 [==============================] - 3s 672us/sample - loss: 7.8026e-10 - acc: 1.0000 - val_loss: 0.1492 - val_acc: 0.9880\n",
      "Epoch 51/100\n",
      "3900/3900 [==============================] - 3s 667us/sample - loss: 7.1935e-10 - acc: 1.0000 - val_loss: 0.1505 - val_acc: 0.9880\n",
      "Epoch 52/100\n",
      "3900/3900 [==============================] - 3s 662us/sample - loss: 7.4647e-10 - acc: 1.0000 - val_loss: 0.1505 - val_acc: 0.9880\n",
      "Epoch 53/100\n",
      "3900/3900 [==============================] - 3s 669us/sample - loss: 7.1220e-10 - acc: 1.0000 - val_loss: 0.1508 - val_acc: 0.9880\n",
      "Epoch 54/100\n",
      "3900/3900 [==============================] - 3s 668us/sample - loss: 7.4411e-10 - acc: 1.0000 - val_loss: 0.1507 - val_acc: 0.9880\n",
      "Epoch 55/100\n",
      "3900/3900 [==============================] - 3s 655us/sample - loss: 6.6593e-10 - acc: 1.0000 - val_loss: 0.1514 - val_acc: 0.9880\n",
      "Epoch 56/100\n",
      "3900/3900 [==============================] - 3s 660us/sample - loss: 7.0793e-10 - acc: 1.0000 - val_loss: 0.1520 - val_acc: 0.9880\n",
      "Epoch 57/100\n"
     ]
    },
    {
     "name": "stdout",
     "output_type": "stream",
     "text": [
      "3900/3900 [==============================] - 3s 669us/sample - loss: 7.0307e-10 - acc: 1.0000 - val_loss: 0.1523 - val_acc: 0.9880\n",
      "Epoch 58/100\n",
      "3900/3900 [==============================] - 3s 676us/sample - loss: 7.2813e-10 - acc: 1.0000 - val_loss: 0.1530 - val_acc: 0.9880\n",
      "Epoch 59/100\n",
      "3900/3900 [==============================] - 3s 696us/sample - loss: 7.4869e-10 - acc: 1.0000 - val_loss: 0.1536 - val_acc: 0.9880\n",
      "Epoch 60/100\n",
      "3900/3900 [==============================] - 3s 749us/sample - loss: 6.8978e-10 - acc: 1.0000 - val_loss: 0.1532 - val_acc: 0.9880\n",
      "Epoch 61/100\n",
      "3900/3900 [==============================] - 3s 664us/sample - loss: 6.7118e-10 - acc: 1.0000 - val_loss: 0.1533 - val_acc: 0.9880\n",
      "Epoch 62/100\n",
      "3900/3900 [==============================] - 2s 633us/sample - loss: 7.0320e-10 - acc: 1.0000 - val_loss: 0.1539 - val_acc: 0.9880\n",
      "Epoch 63/100\n",
      "3900/3900 [==============================] - 3s 649us/sample - loss: 7.0986e-10 - acc: 1.0000 - val_loss: 0.1541 - val_acc: 0.9880\n",
      "Epoch 64/100\n",
      "3900/3900 [==============================] - 2s 637us/sample - loss: 7.3078e-10 - acc: 1.0000 - val_loss: 0.1548 - val_acc: 0.9880\n",
      "Epoch 65/100\n",
      "3900/3900 [==============================] - 3s 657us/sample - loss: 6.8920e-10 - acc: 1.0000 - val_loss: 0.1542 - val_acc: 0.9880\n",
      "Epoch 66/100\n",
      "3900/3900 [==============================] - 2s 635us/sample - loss: 6.9258e-10 - acc: 1.0000 - val_loss: 0.1547 - val_acc: 0.9880\n",
      "Epoch 67/100\n",
      "3900/3900 [==============================] - 3s 659us/sample - loss: 7.1759e-10 - acc: 1.0000 - val_loss: 0.1553 - val_acc: 0.9880\n",
      "Epoch 68/100\n",
      "3900/3900 [==============================] - 3s 716us/sample - loss: 6.4781e-10 - acc: 1.0000 - val_loss: 0.1545 - val_acc: 0.9880\n",
      "Epoch 69/100\n",
      "3900/3900 [==============================] - 3s 717us/sample - loss: 6.4668e-10 - acc: 1.0000 - val_loss: 0.1554 - val_acc: 0.9880\n",
      "Epoch 70/100\n",
      "3900/3900 [==============================] - 3s 756us/sample - loss: 6.7629e-10 - acc: 1.0000 - val_loss: 0.1557 - val_acc: 0.9880\n",
      "Epoch 71/100\n",
      "3900/3900 [==============================] - 3s 783us/sample - loss: 6.6427e-10 - acc: 1.0000 - val_loss: 0.1559 - val_acc: 0.9880\n",
      "Epoch 72/100\n",
      "3900/3900 [==============================] - 3s 752us/sample - loss: 6.5481e-10 - acc: 1.0000 - val_loss: 0.1553 - val_acc: 0.9880\n",
      "Epoch 73/100\n",
      "3900/3900 [==============================] - 3s 691us/sample - loss: 6.5509e-10 - acc: 1.0000 - val_loss: 0.1562 - val_acc: 0.9880\n",
      "Epoch 74/100\n",
      "3900/3900 [==============================] - 3s 708us/sample - loss: 6.6784e-10 - acc: 1.0000 - val_loss: 0.1564 - val_acc: 0.9880\n",
      "Epoch 75/100\n",
      "3900/3900 [==============================] - 3s 691us/sample - loss: 7.0138e-10 - acc: 1.0000 - val_loss: 0.1567 - val_acc: 0.9880\n",
      "Epoch 76/100\n",
      "3900/3900 [==============================] - 3s 697us/sample - loss: 7.2298e-10 - acc: 1.0000 - val_loss: 0.1569 - val_acc: 0.9880\n",
      "Epoch 77/100\n",
      "3900/3900 [==============================] - 3s 663us/sample - loss: 7.2264e-10 - acc: 1.0000 - val_loss: 0.1576 - val_acc: 0.9880\n",
      "Epoch 78/100\n",
      "3900/3900 [==============================] - 3s 666us/sample - loss: 7.1130e-10 - acc: 1.0000 - val_loss: 0.1567 - val_acc: 0.9880\n",
      "Epoch 79/100\n",
      "3900/3900 [==============================] - 3s 702us/sample - loss: 6.6322e-10 - acc: 1.0000 - val_loss: 0.1568 - val_acc: 0.9880\n",
      "Epoch 80/100\n",
      "3900/3900 [==============================] - 3s 702us/sample - loss: 6.7183e-10 - acc: 1.0000 - val_loss: 0.1575 - val_acc: 0.9880\n",
      "Epoch 81/100\n",
      "3900/3900 [==============================] - 3s 732us/sample - loss: 7.0454e-10 - acc: 1.0000 - val_loss: 0.1578 - val_acc: 0.9880\n",
      "Epoch 82/100\n",
      "3900/3900 [==============================] - 3s 763us/sample - loss: 7.3195e-10 - acc: 1.0000 - val_loss: 0.1585 - val_acc: 0.9880\n",
      "Epoch 83/100\n",
      "3900/3900 [==============================] - 3s 720us/sample - loss: 7.3329e-10 - acc: 1.0000 - val_loss: 0.1584 - val_acc: 0.9880\n",
      "Epoch 84/100\n",
      "3900/3900 [==============================] - 3s 672us/sample - loss: 6.5621e-10 - acc: 1.0000 - val_loss: 0.1574 - val_acc: 0.9880\n",
      "Epoch 85/100\n",
      "3900/3900 [==============================] - 3s 674us/sample - loss: 6.6573e-10 - acc: 1.0000 - val_loss: 0.1581 - val_acc: 0.9880\n",
      "Epoch 86/100\n",
      "3900/3900 [==============================] - 3s 670us/sample - loss: 6.7492e-10 - acc: 1.0000 - val_loss: 0.1581 - val_acc: 0.9880\n",
      "Epoch 87/100\n",
      "3900/3900 [==============================] - 3s 667us/sample - loss: 6.9223e-10 - acc: 1.0000 - val_loss: 0.1583 - val_acc: 0.9880\n",
      "Epoch 88/100\n",
      "3900/3900 [==============================] - 3s 657us/sample - loss: 5.9869e-10 - acc: 1.0000 - val_loss: 0.1577 - val_acc: 0.9880\n",
      "Epoch 89/100\n",
      "3900/3900 [==============================] - 3s 653us/sample - loss: 6.0007e-10 - acc: 1.0000 - val_loss: 0.1579 - val_acc: 0.9880\n",
      "Epoch 90/100\n",
      "3900/3900 [==============================] - 3s 685us/sample - loss: 6.3270e-10 - acc: 1.0000 - val_loss: 0.1585 - val_acc: 0.9880\n",
      "Epoch 91/100\n",
      "3900/3900 [==============================] - 3s 690us/sample - loss: 6.5496e-10 - acc: 1.0000 - val_loss: 0.1592 - val_acc: 0.9880\n",
      "Epoch 92/100\n",
      "3900/3900 [==============================] - 3s 694us/sample - loss: 6.7745e-10 - acc: 1.0000 - val_loss: 0.1592 - val_acc: 0.9880\n",
      "Epoch 93/100\n",
      "3900/3900 [==============================] - 3s 737us/sample - loss: 6.7835e-10 - acc: 1.0000 - val_loss: 0.1590 - val_acc: 0.9880\n",
      "Epoch 94/100\n",
      "3900/3900 [==============================] - 3s 725us/sample - loss: 6.6923e-10 - acc: 1.0000 - val_loss: 0.1596 - val_acc: 0.9886\n",
      "Epoch 95/100\n",
      "3900/3900 [==============================] - 3s 692us/sample - loss: 6.7488e-10 - acc: 1.0000 - val_loss: 0.1595 - val_acc: 0.9880\n",
      "Epoch 96/100\n",
      "3900/3900 [==============================] - 3s 661us/sample - loss: 6.8878e-10 - acc: 1.0000 - val_loss: 0.1601 - val_acc: 0.9880\n",
      "Epoch 97/100\n",
      "3900/3900 [==============================] - 3s 670us/sample - loss: 6.1531e-10 - acc: 1.0000 - val_loss: 0.1588 - val_acc: 0.9880\n",
      "Epoch 98/100\n",
      "3900/3900 [==============================] - 3s 661us/sample - loss: 5.9763e-10 - acc: 1.0000 - val_loss: 0.1587 - val_acc: 0.9880\n",
      "Epoch 99/100\n",
      "3900/3900 [==============================] - 3s 669us/sample - loss: 5.9680e-10 - acc: 1.0000 - val_loss: 0.1593 - val_acc: 0.9880\n",
      "Epoch 100/100\n",
      "3900/3900 [==============================] - 3s 666us/sample - loss: 6.2039e-10 - acc: 1.0000 - val_loss: 0.1593 - val_acc: 0.9880\n"
     ]
    }
   ],
   "source": [
    "# fitting model2\n",
    "history2 = model2.fit(X2_train, y_train2,\n",
    "                    epochs=100,\n",
    "                    verbose=True,\n",
    "                    validation_data=(X2_test, y_test2),\n",
    "                    batch_size=10)\n"
   ]
  },
  {
   "cell_type": "code",
   "execution_count": 74,
   "metadata": {},
   "outputs": [
    {
     "name": "stdout",
     "output_type": "stream",
     "text": [
      "Training Accuracy: 1.0000\n",
      "Testing Accuracy:  0.9880\n"
     ]
    }
   ],
   "source": [
    "loss, accuracy = model2.evaluate(X2_train, y_train2, verbose=False)\n",
    "print(\"Training Accuracy: {:.4f}\".format(accuracy))\n",
    "loss, accuracy = model2.evaluate(X2_test, y_test2, verbose=False)\n",
    "print(\"Testing Accuracy:  {:.4f}\".format(accuracy))"
   ]
  },
  {
   "cell_type": "code",
   "execution_count": 75,
   "metadata": {},
   "outputs": [
    {
     "name": "stdout",
     "output_type": "stream",
     "text": [
      "dict_keys(['loss', 'acc', 'val_loss', 'val_acc'])\n"
     ]
    }
   ],
   "source": [
    "print(history2.history.keys())"
   ]
  },
  {
   "cell_type": "code",
   "execution_count": 77,
   "metadata": {},
   "outputs": [
    {
     "data": {
      "image/png": "[encoded data removed]",
      "text/plain": [
       "<Figure size 576x360 with 1 Axes>"
      ]
     },
     "metadata": {
      "needs_background": "light"
     },
     "output_type": "display_data"
    }
   ],
   "source": [
    "pd.DataFrame(history2.history).plot(figsize=(8,5))\n",
    "plt.show()"
   ]
  },
  {
   "cell_type": "code",
   "execution_count": 78,
   "metadata": {},
   "outputs": [
    {
     "data": {
      "image/png": "[encoded data removed]",
      "text/plain": [
       "<Figure size 432x288 with 1 Axes>"
      ]
     },
     "metadata": {
      "needs_background": "light"
     },
     "output_type": "display_data"
    }
   ],
   "source": [
    "# loss vs. epoch plot\n",
    "plt.plot(history2.history['loss'])\n",
    "plt.plot(history2.history['val_loss'])\n",
    "plt.title('model loss')\n",
    "plt.ylabel('loss')\n",
    "plt.xlabel('epoch')\n",
    "plt.legend(['train', 'test'], loc='upper left')\n",
    "plt.show()"
   ]
  },
  {
   "cell_type": "markdown",
   "metadata": {},
   "source": [
    "## Interpretation\n",
    "Accuracy is a bit higher than with the base model. However, there is no loss at training which rises the question how the model can learn. It seems as if there is a serious overfitting in the model."
   ]
  },
  {
   "cell_type": "code",
   "execution_count": 1,
   "metadata": {},
   "outputs": [
    {
     "ename": "NameError",
     "evalue": "name 'scaler' is not defined",
     "output_type": "error",
     "traceback": [
      "\u001b[0;31m---------------------------------------------------------------------------\u001b[0m",
      "\u001b[0;31mNameError\u001b[0m                                 Traceback (most recent call last)",
      "\u001b[0;32m/var/folders/yf/yvj83_d96dqfvfm7h4zzb_6c0000gn/T/ipykernel_8753/1544943593.py\u001b[0m in \u001b[0;36m<module>\u001b[0;34m\u001b[0m\n\u001b[1;32m      1\u001b[0m \u001b[0;31m# Make predictions\u001b[0m\u001b[0;34m\u001b[0m\u001b[0;34m\u001b[0m\u001b[0;34m\u001b[0m\u001b[0m\n\u001b[0;32m----> 2\u001b[0;31m \u001b[0mtX_test\u001b[0m \u001b[0;34m=\u001b[0m \u001b[0mscaler\u001b[0m\u001b[0;34m\u001b[0m\u001b[0;34m\u001b[0m\u001b[0m\n\u001b[0m\u001b[1;32m      3\u001b[0m \u001b[0;34m\u001b[0m\u001b[0m\n\u001b[1;32m      4\u001b[0m \u001b[0mtest_predictions\u001b[0m \u001b[0;34m=\u001b[0m \u001b[0mmodel\u001b[0m\u001b[0;34m.\u001b[0m\u001b[0mpredict\u001b[0m\u001b[0;34m(\u001b[0m\u001b[0mtX_test\u001b[0m\u001b[0;34m)\u001b[0m\u001b[0;34m.\u001b[0m\u001b[0mflatten\u001b[0m\u001b[0;34m(\u001b[0m\u001b[0;34m)\u001b[0m\u001b[0;34m\u001b[0m\u001b[0;34m\u001b[0m\u001b[0m\n\u001b[1;32m      5\u001b[0m \u001b[0;34m\u001b[0m\u001b[0m\n",
      "\u001b[0;31mNameError\u001b[0m: name 'scaler' is not defined"
     ]
    }
   ],
   "source": [
    "# Make predictions\n",
    "tX_test = scaler \n",
    "\n",
    "test_predictions = model.predict(tX_test).flatten()\n",
    "\n",
    "a = plt.axes(aspect='equal')\n",
    "plt.scatter(y_test, test_predictions)\n",
    "plt.xlabel('True Values [MPG]')\n",
    "plt.ylabel('Predictions [MPG]')\n",
    "lims = [0, 50]\n",
    "plt.xlim(lims)\n",
    "plt.ylim(lims)\n",
    "_ = plt.plot(lims, lims)"
   ]
  }
 ],
 "metadata": {
  "kernelspec": {
   "display_name": "Python 3 (ipykernel)",
   "language": "python",
   "name": "python3"
  },
  "language_info": {
   "codemirror_mode": {
    "name": "ipython",
    "version": 3
   },
   "file_extension": ".py",
   "mimetype": "text/x-python",
   "name": "python",
   "nbconvert_exporter": "python",
   "pygments_lexer": "ipython3",
   "version": "3.7.9"
  }
 },
 "nbformat": 4,
 "nbformat_minor": 2
}
