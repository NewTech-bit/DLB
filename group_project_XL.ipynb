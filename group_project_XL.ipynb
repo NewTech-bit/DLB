{
  "nbformat": 4,
  "nbformat_minor": 5,
  "metadata": {
    "kernelspec": {
      "display_name": "Python 3",
      "language": "python",
      "name": "python3"
    },
    "language_info": {
      "codemirror_mode": {
        "name": "ipython",
        "version": 3
      },
      "file_extension": ".py",
      "mimetype": "text/x-python",
      "name": "python",
      "nbconvert_exporter": "python",
      "pygments_lexer": "ipython3",
      "version": "3.7.10"
    },
    "colab": {
      "name": "group_project_XL.ipynb",
      "provenance": [],
      "collapsed_sections": []
    },
    "accelerator": "GPU"
  },
  "cells": [
    {
      "cell_type": "code",
      "metadata": {
        "id": "4de70cae"
      },
      "source": [
        "# pip install mlxtend"
      ],
      "id": "4de70cae",
      "execution_count": 1,
      "outputs": []
    },
    {
      "cell_type": "code",
      "metadata": {
        "id": "fc75a1aa"
      },
      "source": [
        "import matplotlib.pyplot as plt\n",
        "import numpy as np\n",
        "import pandas as pd\n",
        "import seaborn as sns\n",
        "\n",
        "import tensorflow as tf\n",
        "from tensorflow.keras.layers import Flatten, Dense, Conv2D, Dropout, LSTM, Embedding, Activation, Bidirectional\n",
        "from tensorflow.keras.models import Sequential\n",
        "from tensorflow.keras.optimizers import SGD, RMSprop, Adam\n",
        "from keras import metrics\n",
        "\n",
        "import sklearn\n",
        "from sklearn.model_selection import train_test_split\n",
        "from sklearn import preprocessing\n",
        "from sklearn.feature_extraction.text import TfidfVectorizer\n",
        "\n",
        "from mlxtend.plotting import plot_confusion_matrix\n",
        "from sklearn.metrics import confusion_matrix\n",
        "\n",
        "import random"
      ],
      "id": "fc75a1aa",
      "execution_count": 47,
      "outputs": []
    },
    {
      "cell_type": "code",
      "metadata": {
        "id": "af03f323"
      },
      "source": [
        "# load the dataset\n",
        "def load_dataset(filename):\n",
        "    df = pd.read_csv(filename)\n",
        "    \n",
        "    y = df['Category'] # y: 'Category' column\n",
        "    y = np.array(y)\n",
        "    \n",
        "    x = df['Message'] #x: 'Message' column\n",
        "    x = np.array(x)\n",
        "    \n",
        "    return df, x, y"
      ],
      "id": "af03f323",
      "execution_count": 48,
      "outputs": []
    },
    {
      "cell_type": "code",
      "metadata": {
        "colab": {
          "base_uri": "https://localhost:8080/",
          "height": 204
        },
        "id": "08f31637",
        "outputId": "d80f1741-84ab-46c3-ba73-7de87ca23993"
      },
      "source": [
        "df, x, y = load_dataset('SPAM text message 20170820 - Data.csv')\n",
        "df.head()"
      ],
      "id": "08f31637",
      "execution_count": 49,
      "outputs": [
        {
          "output_type": "execute_result",
          "data": {
            "text/html": [
              "<div>\n",
              "<style scoped>\n",
              "    .dataframe tbody tr th:only-of-type {\n",
              "        vertical-align: middle;\n",
              "    }\n",
              "\n",
              "    .dataframe tbody tr th {\n",
              "        vertical-align: top;\n",
              "    }\n",
              "\n",
              "    .dataframe thead th {\n",
              "        text-align: right;\n",
              "    }\n",
              "</style>\n",
              "<table border=\"1\" class=\"dataframe\">\n",
              "  <thead>\n",
              "    <tr style=\"text-align: right;\">\n",
              "      <th></th>\n",
              "      <th>Category</th>\n",
              "      <th>Message</th>\n",
              "    </tr>\n",
              "  </thead>\n",
              "  <tbody>\n",
              "    <tr>\n",
              "      <th>0</th>\n",
              "      <td>ham</td>\n",
              "      <td>Go until jurong point, crazy.. Available only ...</td>\n",
              "    </tr>\n",
              "    <tr>\n",
              "      <th>1</th>\n",
              "      <td>ham</td>\n",
              "      <td>Ok lar... Joking wif u oni...</td>\n",
              "    </tr>\n",
              "    <tr>\n",
              "      <th>2</th>\n",
              "      <td>spam</td>\n",
              "      <td>Free entry in 2 a wkly comp to win FA Cup fina...</td>\n",
              "    </tr>\n",
              "    <tr>\n",
              "      <th>3</th>\n",
              "      <td>ham</td>\n",
              "      <td>U dun say so early hor... U c already then say...</td>\n",
              "    </tr>\n",
              "    <tr>\n",
              "      <th>4</th>\n",
              "      <td>ham</td>\n",
              "      <td>Nah I don't think he goes to usf, he lives aro...</td>\n",
              "    </tr>\n",
              "  </tbody>\n",
              "</table>\n",
              "</div>"
            ],
            "text/plain": [
              "  Category                                            Message\n",
              "0      ham  Go until jurong point, crazy.. Available only ...\n",
              "1      ham                      Ok lar... Joking wif u oni...\n",
              "2     spam  Free entry in 2 a wkly comp to win FA Cup fina...\n",
              "3      ham  U dun say so early hor... U c already then say...\n",
              "4      ham  Nah I don't think he goes to usf, he lives aro..."
            ]
          },
          "metadata": {},
          "execution_count": 49
        }
      ]
    },
    {
      "cell_type": "markdown",
      "metadata": {
        "id": "6fd5c43f"
      },
      "source": [
        "## Load data & Pre-processing the raw data"
      ],
      "id": "6fd5c43f"
    },
    {
      "cell_type": "code",
      "metadata": {
        "colab": {
          "base_uri": "https://localhost:8080/"
        },
        "id": "06a68479",
        "outputId": "12243ba5-36e4-47de-93df-7e3e787caa4e"
      },
      "source": [
        "# check NAs\n",
        "df.isna().sum()"
      ],
      "id": "06a68479",
      "execution_count": 50,
      "outputs": [
        {
          "output_type": "execute_result",
          "data": {
            "text/plain": [
              "Category    0\n",
              "Message     0\n",
              "dtype: int64"
            ]
          },
          "metadata": {},
          "execution_count": 50
        }
      ]
    },
    {
      "cell_type": "code",
      "metadata": {
        "id": "753abc17"
      },
      "source": [
        "# convert string in \"Category\" column to numerical binary encoding\n",
        "# reference: https://scikit-learn.org/stable/modules/generated/sklearn.preprocessing.LabelEncoder.html\n",
        "\n",
        "def label_encoder(data):\n",
        "    le = preprocessing.LabelEncoder()\n",
        "    le.fit(data) # first fit lable encoder\n",
        "    enc = le.transform(data) # then transform labels to normalized encoding\n",
        "    return enc\n",
        "\n",
        "df['Category'] = label_encoder(df['Category'])"
      ],
      "id": "753abc17",
      "execution_count": 51,
      "outputs": []
    },
    {
      "cell_type": "code",
      "metadata": {
        "colab": {
          "base_uri": "https://localhost:8080/",
          "height": 204
        },
        "id": "b001aaa3",
        "outputId": "606ab6da-03b4-4d63-d029-0fd373567b17"
      },
      "source": [
        "# df.head()\n",
        "# y = df['Category']\n",
        "# x = df['Message']"
      ],
      "id": "b001aaa3",
      "execution_count": 52,
      "outputs": [
        {
          "output_type": "execute_result",
          "data": {
            "text/html": [
              "<div>\n",
              "<style scoped>\n",
              "    .dataframe tbody tr th:only-of-type {\n",
              "        vertical-align: middle;\n",
              "    }\n",
              "\n",
              "    .dataframe tbody tr th {\n",
              "        vertical-align: top;\n",
              "    }\n",
              "\n",
              "    .dataframe thead th {\n",
              "        text-align: right;\n",
              "    }\n",
              "</style>\n",
              "<table border=\"1\" class=\"dataframe\">\n",
              "  <thead>\n",
              "    <tr style=\"text-align: right;\">\n",
              "      <th></th>\n",
              "      <th>Category</th>\n",
              "      <th>Message</th>\n",
              "    </tr>\n",
              "  </thead>\n",
              "  <tbody>\n",
              "    <tr>\n",
              "      <th>0</th>\n",
              "      <td>0</td>\n",
              "      <td>Go until jurong point, crazy.. Available only ...</td>\n",
              "    </tr>\n",
              "    <tr>\n",
              "      <th>1</th>\n",
              "      <td>0</td>\n",
              "      <td>Ok lar... Joking wif u oni...</td>\n",
              "    </tr>\n",
              "    <tr>\n",
              "      <th>2</th>\n",
              "      <td>1</td>\n",
              "      <td>Free entry in 2 a wkly comp to win FA Cup fina...</td>\n",
              "    </tr>\n",
              "    <tr>\n",
              "      <th>3</th>\n",
              "      <td>0</td>\n",
              "      <td>U dun say so early hor... U c already then say...</td>\n",
              "    </tr>\n",
              "    <tr>\n",
              "      <th>4</th>\n",
              "      <td>0</td>\n",
              "      <td>Nah I don't think he goes to usf, he lives aro...</td>\n",
              "    </tr>\n",
              "  </tbody>\n",
              "</table>\n",
              "</div>"
            ],
            "text/plain": [
              "   Category                                            Message\n",
              "0         0  Go until jurong point, crazy.. Available only ...\n",
              "1         0                      Ok lar... Joking wif u oni...\n",
              "2         1  Free entry in 2 a wkly comp to win FA Cup fina...\n",
              "3         0  U dun say so early hor... U c already then say...\n",
              "4         0  Nah I don't think he goes to usf, he lives aro..."
            ]
          },
          "metadata": {},
          "execution_count": 52
        }
      ]
    },
    {
      "cell_type": "code",
      "metadata": {
        "id": "f3003687"
      },
      "source": [
        "# convert x to iterable object for vectorization\n",
        "x = list(x)\n",
        "# x[:5]\n",
        "tfidfvectorizer = TfidfVectorizer(stop_words='english', use_idf=True)\n",
        "x = tfidfvectorizer.fit_transform(x)\n",
        "x = x.toarray()"
      ],
      "id": "f3003687",
      "execution_count": 56,
      "outputs": []
    },
    {
      "cell_type": "code",
      "metadata": {
        "colab": {
          "base_uri": "https://localhost:8080/"
        },
        "id": "06cb5790",
        "outputId": "9578ece4-81c5-40c6-a197-24094a97eb13"
      },
      "source": [
        "print(x.shape)\n",
        "print(y.shape)"
      ],
      "id": "06cb5790",
      "execution_count": 58,
      "outputs": [
        {
          "output_type": "stream",
          "name": "stdout",
          "text": [
            "(5572, 8440)\n",
            "(5572,)\n"
          ]
        }
      ]
    },
    {
      "cell_type": "code",
      "metadata": {
        "id": "1ca72c81"
      },
      "source": [
        "# split the dataset into train and test sets\n",
        "x_train, x_test, y_train, y_test = train_test_split(x, y, test_size=0.3, random_state=42)\n",
        "# check the split results\n",
        "print(len(y_train))\n",
        "print(len(y_test))"
      ],
      "id": "1ca72c81",
      "execution_count": 59,
      "outputs": []
    },
    {
      "cell_type": "markdown",
      "metadata": {
        "id": "30878e47"
      },
      "source": [
        "## Build the model"
      ],
      "id": "30878e47"
    },
    {
      "cell_type": "code",
      "metadata": {
        "id": "65683c92"
      },
      "source": [
        "input_dim = x_train.shape[1]\n",
        "batch_size = 100"
      ],
      "id": "65683c92",
      "execution_count": 61,
      "outputs": []
    },
    {
      "cell_type": "code",
      "metadata": {
        "id": "3592499f"
      },
      "source": [
        "# first simple sequential model\n",
        "model_1=tf.keras.Sequential()\n",
        "model_1.add(Dense(16, input_dim=input_dim, activation='relu'))\n",
        "model_1.add(Dense(1, activation='sigmoid'))"
      ],
      "id": "3592499f",
      "execution_count": 63,
      "outputs": []
    },
    {
      "cell_type": "code",
      "metadata": {
        "colab": {
          "base_uri": "https://localhost:8080/"
        },
        "id": "6e945421",
        "outputId": "19df9fab-fe79-4883-a4ef-178242d10030"
      },
      "source": [
        "model_1.compile(loss='binary_crossentropy', \n",
        "              optimizer='adam', \n",
        "              metrics=['accuracy'])\n",
        "model_1.summary()"
      ],
      "id": "6e945421",
      "execution_count": 64,
      "outputs": [
        {
          "output_type": "stream",
          "name": "stdout",
          "text": [
            "Model: \"sequential_5\"\n",
            "_________________________________________________________________\n",
            "Layer (type)                 Output Shape              Param #   \n",
            "=================================================================\n",
            "dense_10 (Dense)             (None, 16)                135056    \n",
            "_________________________________________________________________\n",
            "dense_11 (Dense)             (None, 1)                 17        \n",
            "=================================================================\n",
            "Total params: 135,073\n",
            "Trainable params: 135,073\n",
            "Non-trainable params: 0\n",
            "_________________________________________________________________\n"
          ]
        }
      ]
    },
    {
      "cell_type": "code",
      "metadata": {
        "colab": {
          "base_uri": "https://localhost:8080/"
        },
        "id": "ddc12c33",
        "outputId": "05ca8b20-fc6d-4e63-df8f-a72412185fc9"
      },
      "source": [
        "history_11 = model_1.fit(x_train, y_train,\n",
        "                    epochs=10,\n",
        "                    verbose=True,\n",
        "                    validation_data=(x_test, y_test),\n",
        "                    batch_size=batch_size)"
      ],
      "id": "ddc12c33",
      "execution_count": 65,
      "outputs": [
        {
          "output_type": "stream",
          "name": "stdout",
          "text": [
            "Epoch 1/10\n",
            "39/39 [==============================] - 1s 14ms/step - loss: 0.6450 - accuracy: 0.8623 - val_loss: 0.5881 - val_accuracy: 0.8822\n",
            "Epoch 2/10\n",
            "39/39 [==============================] - 0s 6ms/step - loss: 0.5245 - accuracy: 0.9085 - val_loss: 0.4709 - val_accuracy: 0.9240\n",
            "Epoch 3/10\n",
            "39/39 [==============================] - 0s 6ms/step - loss: 0.4049 - accuracy: 0.9428 - val_loss: 0.3664 - val_accuracy: 0.9432\n",
            "Epoch 4/10\n",
            "39/39 [==============================] - 0s 6ms/step - loss: 0.3048 - accuracy: 0.9590 - val_loss: 0.2852 - val_accuracy: 0.9510\n",
            "Epoch 5/10\n",
            "39/39 [==============================] - 0s 6ms/step - loss: 0.2296 - accuracy: 0.9703 - val_loss: 0.2265 - val_accuracy: 0.9623\n",
            "Epoch 6/10\n",
            "39/39 [==============================] - 0s 6ms/step - loss: 0.1756 - accuracy: 0.9790 - val_loss: 0.1845 - val_accuracy: 0.9707\n",
            "Epoch 7/10\n",
            "39/39 [==============================] - 0s 5ms/step - loss: 0.1370 - accuracy: 0.9831 - val_loss: 0.1543 - val_accuracy: 0.9737\n",
            "Epoch 8/10\n",
            "39/39 [==============================] - 0s 7ms/step - loss: 0.1092 - accuracy: 0.9869 - val_loss: 0.1326 - val_accuracy: 0.9749\n",
            "Epoch 9/10\n",
            "39/39 [==============================] - 0s 6ms/step - loss: 0.0888 - accuracy: 0.9890 - val_loss: 0.1166 - val_accuracy: 0.9773\n",
            "Epoch 10/10\n",
            "39/39 [==============================] - 0s 7ms/step - loss: 0.0735 - accuracy: 0.9913 - val_loss: 0.1041 - val_accuracy: 0.9797\n"
          ]
        }
      ]
    },
    {
      "cell_type": "code",
      "metadata": {
        "id": "c116513d"
      },
      "source": [
        "# change optimizer from adam to sgd\n",
        "optimizer = SGD(learning_rate=0.01, momentum=0.9)\n",
        "model_1.compile(loss='binary_crossentropy', \n",
        "              optimizer=optimizer, \n",
        "              metrics=['accuracy'])"
      ],
      "id": "c116513d",
      "execution_count": 66,
      "outputs": []
    },
    {
      "cell_type": "code",
      "metadata": {
        "colab": {
          "base_uri": "https://localhost:8080/"
        },
        "id": "cdf819fc",
        "outputId": "7adaf42a-2920-4cc4-e2fc-869d67a401b4"
      },
      "source": [
        "history_12 = model_1.fit(x_train, y_train,\n",
        "                        epochs=10,\n",
        "                        verbose=True, \n",
        "                        validation_data=(x_test, y_test),\n",
        "                        batch_size=batch_size,\n",
        "                       )"
      ],
      "id": "cdf819fc",
      "execution_count": 67,
      "outputs": [
        {
          "output_type": "stream",
          "name": "stdout",
          "text": [
            "Epoch 1/20\n",
            "39/39 [==============================] - 1s 11ms/step - loss: 0.0614 - accuracy: 0.9915 - val_loss: 0.0948 - val_accuracy: 0.9743\n",
            "Epoch 2/20\n",
            "39/39 [==============================] - 0s 6ms/step - loss: 0.0542 - accuracy: 0.9903 - val_loss: 0.0898 - val_accuracy: 0.9743\n",
            "Epoch 3/20\n",
            "39/39 [==============================] - 0s 6ms/step - loss: 0.0498 - accuracy: 0.9910 - val_loss: 0.0860 - val_accuracy: 0.9749\n",
            "Epoch 4/20\n",
            "39/39 [==============================] - 0s 6ms/step - loss: 0.0464 - accuracy: 0.9913 - val_loss: 0.0829 - val_accuracy: 0.9755\n",
            "Epoch 5/20\n",
            "39/39 [==============================] - 0s 5ms/step - loss: 0.0437 - accuracy: 0.9915 - val_loss: 0.0804 - val_accuracy: 0.9761\n",
            "Epoch 6/20\n",
            "39/39 [==============================] - 0s 6ms/step - loss: 0.0413 - accuracy: 0.9915 - val_loss: 0.0782 - val_accuracy: 0.9767\n",
            "Epoch 7/20\n",
            "39/39 [==============================] - 0s 5ms/step - loss: 0.0393 - accuracy: 0.9913 - val_loss: 0.0762 - val_accuracy: 0.9779\n",
            "Epoch 8/20\n",
            "39/39 [==============================] - 0s 6ms/step - loss: 0.0375 - accuracy: 0.9915 - val_loss: 0.0744 - val_accuracy: 0.9779\n",
            "Epoch 9/20\n",
            "39/39 [==============================] - 0s 6ms/step - loss: 0.0359 - accuracy: 0.9923 - val_loss: 0.0729 - val_accuracy: 0.9791\n",
            "Epoch 10/20\n",
            "39/39 [==============================] - 0s 6ms/step - loss: 0.0345 - accuracy: 0.9928 - val_loss: 0.0715 - val_accuracy: 0.9797\n",
            "Epoch 11/20\n",
            "39/39 [==============================] - 0s 5ms/step - loss: 0.0332 - accuracy: 0.9928 - val_loss: 0.0703 - val_accuracy: 0.9809\n",
            "Epoch 12/20\n",
            "39/39 [==============================] - 0s 6ms/step - loss: 0.0321 - accuracy: 0.9928 - val_loss: 0.0692 - val_accuracy: 0.9809\n",
            "Epoch 13/20\n",
            "39/39 [==============================] - 0s 6ms/step - loss: 0.0310 - accuracy: 0.9928 - val_loss: 0.0680 - val_accuracy: 0.9821\n",
            "Epoch 14/20\n",
            "39/39 [==============================] - 0s 6ms/step - loss: 0.0301 - accuracy: 0.9938 - val_loss: 0.0671 - val_accuracy: 0.9821\n",
            "Epoch 15/20\n",
            "39/39 [==============================] - 0s 6ms/step - loss: 0.0292 - accuracy: 0.9936 - val_loss: 0.0663 - val_accuracy: 0.9821\n",
            "Epoch 16/20\n",
            "39/39 [==============================] - 0s 5ms/step - loss: 0.0283 - accuracy: 0.9941 - val_loss: 0.0654 - val_accuracy: 0.9827\n",
            "Epoch 17/20\n",
            "39/39 [==============================] - 0s 6ms/step - loss: 0.0275 - accuracy: 0.9951 - val_loss: 0.0646 - val_accuracy: 0.9827\n",
            "Epoch 18/20\n",
            "39/39 [==============================] - 0s 5ms/step - loss: 0.0268 - accuracy: 0.9951 - val_loss: 0.0639 - val_accuracy: 0.9827\n",
            "Epoch 19/20\n",
            "39/39 [==============================] - 0s 6ms/step - loss: 0.0261 - accuracy: 0.9954 - val_loss: 0.0633 - val_accuracy: 0.9827\n",
            "Epoch 20/20\n",
            "39/39 [==============================] - 0s 6ms/step - loss: 0.0255 - accuracy: 0.9951 - val_loss: 0.0626 - val_accuracy: 0.9827\n"
          ]
        }
      ]
    },
    {
      "cell_type": "code",
      "metadata": {
        "id": "1d7d91fe"
      },
      "source": [
        "# build model 2 with more layers\n",
        "def build_model_2():\n",
        "    seq_model = Sequential([\n",
        "        Dense(32, input_dim=input_dim, activation='relu'),\n",
        "        Dense(16, activation='relu'),\n",
        "        Dense(1, activation='sigmoid')\n",
        "    ])\n",
        "    return seq_model"
      ],
      "id": "1d7d91fe",
      "execution_count": 69,
      "outputs": []
    },
    {
      "cell_type": "code",
      "metadata": {
        "id": "08cede61"
      },
      "source": [
        "model_2 = build_model_2()\n",
        "model_2.compile(loss='binary_crossentropy', \n",
        "              optimizer='adam', \n",
        "              metrics=['accuracy'])\n",
        "model_2.summary()"
      ],
      "id": "08cede61",
      "execution_count": 70,
      "outputs": []
    },
    {
      "cell_type": "code",
      "metadata": {
        "colab": {
          "base_uri": "https://localhost:8080/"
        },
        "id": "9766baaf",
        "outputId": "a1b8e76a-7dfc-4e9a-8565-bfe5c04a132c"
      },
      "source": [
        "history_2 = model_2.fit(x_train, y_train,\n",
        "                        epochs=10,\n",
        "                        verbose=True, \n",
        "                        validation_data=(x_test, y_test),\n",
        "                        batch_size=batch_size,\n",
        "                       )"
      ],
      "id": "9766baaf",
      "execution_count": 72,
      "outputs": [
        {
          "output_type": "stream",
          "name": "stdout",
          "text": [
            "Epoch 1/10\n",
            "39/39 [==============================] - 1s 12ms/step - loss: 0.6557 - accuracy: 0.8244 - val_loss: 0.5961 - val_accuracy: 0.8678\n",
            "Epoch 2/10\n",
            "39/39 [==============================] - 0s 6ms/step - loss: 0.4864 - accuracy: 0.9013 - val_loss: 0.3633 - val_accuracy: 0.9384\n",
            "Epoch 3/10\n",
            "39/39 [==============================] - 0s 6ms/step - loss: 0.2376 - accuracy: 0.9641 - val_loss: 0.1652 - val_accuracy: 0.9719\n",
            "Epoch 4/10\n",
            "39/39 [==============================] - 0s 6ms/step - loss: 0.0963 - accuracy: 0.9867 - val_loss: 0.0923 - val_accuracy: 0.9839\n",
            "Epoch 5/10\n",
            "39/39 [==============================] - 0s 6ms/step - loss: 0.0473 - accuracy: 0.9931 - val_loss: 0.0685 - val_accuracy: 0.9844\n",
            "Epoch 6/10\n",
            "39/39 [==============================] - 0s 6ms/step - loss: 0.0279 - accuracy: 0.9962 - val_loss: 0.0574 - val_accuracy: 0.9862\n",
            "Epoch 7/10\n",
            "39/39 [==============================] - 0s 6ms/step - loss: 0.0182 - accuracy: 0.9977 - val_loss: 0.0519 - val_accuracy: 0.9874\n",
            "Epoch 8/10\n",
            "39/39 [==============================] - 0s 7ms/step - loss: 0.0126 - accuracy: 0.9985 - val_loss: 0.0491 - val_accuracy: 0.9886\n",
            "Epoch 9/10\n",
            "39/39 [==============================] - 0s 6ms/step - loss: 0.0092 - accuracy: 1.0000 - val_loss: 0.0472 - val_accuracy: 0.9892\n",
            "Epoch 10/10\n",
            "39/39 [==============================] - 0s 6ms/step - loss: 0.0069 - accuracy: 1.0000 - val_loss: 0.0463 - val_accuracy: 0.9892\n"
          ]
        }
      ]
    },
    {
      "cell_type": "code",
      "metadata": {
        "id": "b674f3d2"
      },
      "source": [
        "# add dropout layer to model 2\n",
        "def build_model_2_drop():\n",
        "    model = Sequential([\n",
        "        Dense(32, input_dim=input_dim, activation='relu'),\n",
        "        Dropout(0.2),\n",
        "        Dense(16, activation='relu'),\n",
        "        Dense(1, activation='sigmoid')\n",
        "    ])\n",
        "    return model"
      ],
      "id": "b674f3d2",
      "execution_count": 73,
      "outputs": []
    },
    {
      "cell_type": "code",
      "metadata": {
        "colab": {
          "base_uri": "https://localhost:8080/"
        },
        "id": "75c0636d",
        "outputId": "577fd815-4c64-44ff-cba5-3195d9336915"
      },
      "source": [
        "model_3_drop = build_model_3_drop()\n",
        "\n",
        "model_3_drop.compile(loss='binary_crossentropy', \n",
        "              optimizer='adam', \n",
        "              metrics=['accuracy'])\n",
        "\n",
        "model_3_drop.summary()"
      ],
      "id": "75c0636d",
      "execution_count": 74,
      "outputs": [
        {
          "output_type": "stream",
          "name": "stdout",
          "text": [
            "Model: \"sequential_7\"\n",
            "_________________________________________________________________\n",
            "Layer (type)                 Output Shape              Param #   \n",
            "=================================================================\n",
            "dense_15 (Dense)             (None, 32)                270112    \n",
            "_________________________________________________________________\n",
            "dropout_2 (Dropout)          (None, 32)                0         \n",
            "_________________________________________________________________\n",
            "dense_16 (Dense)             (None, 16)                528       \n",
            "_________________________________________________________________\n",
            "dense_17 (Dense)             (None, 1)                 17        \n",
            "=================================================================\n",
            "Total params: 270,657\n",
            "Trainable params: 270,657\n",
            "Non-trainable params: 0\n",
            "_________________________________________________________________\n"
          ]
        }
      ]
    },
    {
      "cell_type": "code",
      "metadata": {
        "colab": {
          "base_uri": "https://localhost:8080/"
        },
        "id": "e100eb1c",
        "outputId": "47ecd62b-4353-4fb5-b381-8b8a47452367"
      },
      "source": [
        "history_2_drop = model_2_drop.fit(x_train, y_train,\n",
        "                        epochs=10,\n",
        "                        verbose=True, \n",
        "                        validation_data=(x_test, y_test),\n",
        "                        batch_size=batch_size,\n",
        "                       )"
      ],
      "id": "e100eb1c",
      "execution_count": 75,
      "outputs": [
        {
          "output_type": "stream",
          "name": "stdout",
          "text": [
            "Epoch 1/10\n",
            "39/39 [==============================] - 1s 10ms/step - loss: 0.6081 - accuracy: 0.8633 - val_loss: 0.4930 - val_accuracy: 0.8660\n",
            "Epoch 2/10\n",
            "39/39 [==============================] - 0s 6ms/step - loss: 0.3632 - accuracy: 0.8774 - val_loss: 0.2599 - val_accuracy: 0.9025\n",
            "Epoch 3/10\n",
            "39/39 [==============================] - 0s 6ms/step - loss: 0.1921 - accuracy: 0.9369 - val_loss: 0.1638 - val_accuracy: 0.9510\n",
            "Epoch 4/10\n",
            "39/39 [==============================] - 0s 6ms/step - loss: 0.1153 - accuracy: 0.9785 - val_loss: 0.1091 - val_accuracy: 0.9749\n",
            "Epoch 5/10\n",
            "39/39 [==============================] - 0s 6ms/step - loss: 0.0652 - accuracy: 0.9908 - val_loss: 0.0771 - val_accuracy: 0.9833\n",
            "Epoch 6/10\n",
            "39/39 [==============================] - 0s 6ms/step - loss: 0.0370 - accuracy: 0.9954 - val_loss: 0.0616 - val_accuracy: 0.9850\n",
            "Epoch 7/10\n",
            "39/39 [==============================] - 0s 6ms/step - loss: 0.0245 - accuracy: 0.9967 - val_loss: 0.0542 - val_accuracy: 0.9856\n",
            "Epoch 8/10\n",
            "39/39 [==============================] - 0s 7ms/step - loss: 0.0169 - accuracy: 0.9977 - val_loss: 0.0503 - val_accuracy: 0.9874\n",
            "Epoch 9/10\n",
            "39/39 [==============================] - 0s 6ms/step - loss: 0.0119 - accuracy: 0.9992 - val_loss: 0.0485 - val_accuracy: 0.9874\n",
            "Epoch 10/10\n",
            "39/39 [==============================] - 0s 6ms/step - loss: 0.0087 - accuracy: 0.9995 - val_loss: 0.0468 - val_accuracy: 0.9880\n"
          ]
        }
      ]
    },
    {
      "cell_type": "markdown",
      "metadata": {
        "id": "68029035"
      },
      "source": [
        "## Evaluate the model"
      ],
      "id": "68029035"
    },
    {
      "cell_type": "code",
      "metadata": {
        "colab": {
          "base_uri": "https://localhost:8080/"
        },
        "id": "d82f804b",
        "outputId": "0351d680-db19-40fa-bd93-9a0284a2cf21"
      },
      "source": [
        "_, train_mse = model_3.evaluate(x_train, y_train, verbose=0)\n",
        "_, test_mse = model_3.evaluate(x_test, y_test, verbose=0)\n",
        "print('Train: %.3f, Test: %.3f' % (train_mse, test_mse))"
      ],
      "id": "d82f804b",
      "execution_count": 76,
      "outputs": [
        {
          "output_type": "stream",
          "name": "stdout",
          "text": [
            "Train: 1.000, Test: 0.989\n"
          ]
        }
      ]
    },
    {
      "cell_type": "markdown",
      "metadata": {
        "id": "4fa51c1f"
      },
      "source": [
        "## Plot loss and mse during the training"
      ],
      "id": "4fa51c1f"
    },
    {
      "cell_type": "code",
      "metadata": {
        "colab": {
          "base_uri": "https://localhost:8080/",
          "height": 180
        },
        "id": "9d430a7f",
        "outputId": "e94210bd-529a-494b-e302-b0067956be2d"
      },
      "source": [
        "# plot losses based on the model 2 with dropout layer\n",
        "plt.subplot(211)\n",
        "plt.title('Loss')\n",
        "plt.plot(history_2_drop.history['loss'], label=\"Train\")\n",
        "plt.plot(history_2_drop.history['val_loss'], label=\"Test\")\n",
        "plt.legend()"
      ],
      "id": "9d430a7f",
      "execution_count": 77,
      "outputs": [
        {
          "output_type": "execute_result",
          "data": {
            "text/plain": [
              "<matplotlib.legend.Legend at 0x7f43ecaa36d0>"
            ]
          },
          "metadata": {},
          "execution_count": 77
        },
        {
          "output_type": "display_data",
          "data": {
            "image/png": "[encoded data removed]",
            "text/plain": [
              "<Figure size 432x288 with 1 Axes>"
            ]
          },
          "metadata": {
            "needs_background": "light"
          }
        }
      ]
    },
    {
      "cell_type": "code",
      "metadata": {
        "colab": {
          "base_uri": "https://localhost:8080/",
          "height": 163
        },
        "id": "65e3859c",
        "outputId": "b1c4c2bd-a4c4-429a-f0c1-784876964b56"
      },
      "source": [
        "# plot mse\n",
        "plt.subplot(212)\n",
        "plt.title('Accuracy')\n",
        "plt.plot(history_2_drop.history['accuracy'], label='Train')\n",
        "plt.plot(history_2_drop.history['val_accuracy'], label='Test')\n",
        "plt.legend()\n",
        "plt.show()"
      ],
      "id": "65e3859c",
      "execution_count": 78,
      "outputs": [
        {
          "output_type": "display_data",
          "data": {
            "image/png": "[encoded data removed]",
            "text/plain": [
              "<Figure size 432x288 with 1 Axes>"
            ]
          },
          "metadata": {
            "needs_background": "light"
          }
        }
      ]
    },
    {
      "cell_type": "markdown",
      "metadata": {
        "id": "5ee4d0cb"
      },
      "source": [
        "## Prediction & Confusion matrix"
      ],
      "id": "5ee4d0cb"
    },
    {
      "cell_type": "code",
      "metadata": {
        "colab": {
          "base_uri": "https://localhost:8080/",
          "height": 283
        },
        "id": "3591c0f1",
        "outputId": "4a267402-fd0a-4717-cc1a-b346466dc470"
      },
      "source": [
        "# Make predictions\n",
        "test_predictions = model_2_drop.predict(x_test).flatten()\n",
        "test_predictions = (test_predictions > .5).astype(int)\n",
        "\n",
        "a = plt.axes(aspect='equal')\n",
        "plt.scatter(y_test, test_predictions)\n",
        "plt.xlabel('True Values [MPG]')\n",
        "plt.ylabel('Predictions [MPG]')\n",
        "lims = [-1, 2]\n",
        "plt.xlim(lims)\n",
        "plt.ylim(lims)\n",
        "_ = plt.plot(lims, lims)"
      ],
      "id": "3591c0f1",
      "execution_count": 79,
      "outputs": [
        {
          "output_type": "display_data",
          "data": {
            "image/png": "[encoded data removed]",
            "text/plain": [
              "<Figure size 432x288 with 1 Axes>"
            ]
          },
          "metadata": {
            "needs_background": "light"
          }
        }
      ]
    },
    {
      "cell_type": "code",
      "metadata": {
        "colab": {
          "base_uri": "https://localhost:8080/",
          "height": 313
        },
        "id": "87dfe574",
        "outputId": "4999d204-9095-4b1d-f3c4-ad63e67c03a4"
      },
      "source": [
        "conf_matrix = tf.math.confusion_matrix(labels=y_test,\n",
        "                                       predictions=test_predictions)\n",
        "conf_matrix\n",
        "\n",
        "mat = confusion_matrix(y_test, test_predictions)\n",
        "plot_confusion_matrix(conf_mat=mat)"
      ],
      "id": "87dfe574",
      "execution_count": 80,
      "outputs": [
        {
          "output_type": "execute_result",
          "data": {
            "text/plain": [
              "(<Figure size 432x288 with 1 Axes>,\n",
              " <matplotlib.axes._subplots.AxesSubplot at 0x7f43eca0cf50>)"
            ]
          },
          "metadata": {},
          "execution_count": 80
        },
        {
          "output_type": "display_data",
          "data": {
            "image/png": "[encoded data removed]",
            "text/plain": [
              "<Figure size 432x288 with 1 Axes>"
            ]
          },
          "metadata": {
            "needs_background": "light"
          }
        }
      ]
    },
    {
      "cell_type": "markdown",
      "metadata": {
        "id": "55ef03c2"
      },
      "source": [
        "## RNN"
      ],
      "id": "55ef03c2"
    },
    {
      "cell_type": "code",
      "metadata": {
        "id": "71c44552"
      },
      "source": [
        "# Padding\n",
        "from keras.preprocessing.sequence import pad_sequences\n",
        "max_len=50000\n",
        "x_train = pad_sequences(x_train,maxlen=max_len)\n",
        "x_test = pad_sequences(x_test,maxlen=max_len)"
      ],
      "id": "71c44552",
      "execution_count": 82,
      "outputs": []
    },
    {
      "cell_type": "code",
      "metadata": {
        "id": "f2e33134"
      },
      "source": [
        "import tensorflow as tf\n",
        "from keras.layers import Dense,LSTM, Embedding, Dropout, Activation, Bidirectional"
      ],
      "id": "f2e33134",
      "execution_count": 86,
      "outputs": []
    },
    {
      "cell_type": "code",
      "metadata": {
        "id": "795ac7df"
      },
      "source": [
        "max_feature = 50000 #number of unique words to consider\n",
        "#size of the output vector from each layer\n",
        "embedding_vector_length = 32"
      ],
      "id": "795ac7df",
      "execution_count": 87,
      "outputs": []
    },
    {
      "cell_type": "code",
      "metadata": {
        "id": "3d833365"
      },
      "source": [
        "def model_rnn():\n",
        "  #Creating a sequential model\n",
        "  model_rnn = tf.keras.Sequential()\n",
        "  #Creating an embedding layer to vectorize\n",
        "  model_rnn.add(Embedding(max_feature, embedding_vector_length, input_length=max_len))\n",
        "  #Adding Bi-directional LSTM\n",
        "  model_rnn.add(Bidirectional(tf.keras.layers.LSTM(8)))\n",
        "  #Relu allows converging quickly and allows backpropagation\n",
        "  model_rnn.add(Dense(2, activation='relu'))\n",
        "  #Deep Learninng models can be overfit easily, to avoid this, we add randomization using drop out\n",
        "  model_rnn.add(Dropout(0.1))\n",
        "  #Adding sigmoid activation function to normalize the output\n",
        "  model_rnn.add(Dense(1, activation='sigmoid'))\n",
        "\n",
        "  return model_rnn"
      ],
      "id": "3d833365",
      "execution_count": 88,
      "outputs": []
    },
    {
      "cell_type": "code",
      "metadata": {
        "colab": {
          "base_uri": "https://localhost:8080/"
        },
        "id": "93c319c8",
        "outputId": "84d6a988-9313-4936-b5cf-4278c71a83ec"
      },
      "source": [
        "model_rnn = model_rnn()\n",
        "\n",
        "model_rnn.compile(loss='binary_crossentropy', optimizer='adam', metrics=['accuracy'])\n",
        "print(model_rnn.summary())"
      ],
      "id": "93c319c8",
      "execution_count": 89,
      "outputs": [
        {
          "output_type": "stream",
          "name": "stdout",
          "text": [
            "Model: \"sequential_8\"\n",
            "_________________________________________________________________\n",
            "Layer (type)                 Output Shape              Param #   \n",
            "=================================================================\n",
            "embedding_1 (Embedding)      (None, 50000, 32)         1600000   \n",
            "_________________________________________________________________\n",
            "bidirectional_1 (Bidirection (None, 16)                2624      \n",
            "_________________________________________________________________\n",
            "dense_18 (Dense)             (None, 2)                 34        \n",
            "_________________________________________________________________\n",
            "dropout_3 (Dropout)          (None, 2)                 0         \n",
            "_________________________________________________________________\n",
            "dense_19 (Dense)             (None, 1)                 3         \n",
            "=================================================================\n",
            "Total params: 1,602,661\n",
            "Trainable params: 1,602,661\n",
            "Non-trainable params: 0\n",
            "_________________________________________________________________\n",
            "None\n"
          ]
        }
      ]
    },
    {
      "cell_type": "code",
      "metadata": {
        "colab": {
          "base_uri": "https://localhost:8080/"
        },
        "id": "fc9099af",
        "outputId": "29e83e7e-ca9e-4069-90ed-b509026676ec"
      },
      "source": [
        "history_rnn = model_rnn.fit(\n",
        "    x_train, y_train, \n",
        "    batch_size=100, \n",
        "    epochs=1, # reduced epochs due to time limit \n",
        "    validation_data=(x_test, y_test))\n",
        "\n",
        "y_predict_rnn = [1 if o>0.5 else 0 for o in model_rnn.predict(x_test)]"
      ],
      "id": "fc9099af",
      "execution_count": 43,
      "outputs": [
        {
          "output_type": "stream",
          "name": "stdout",
          "text": [
            "39/39 [==============================] - 334s 9s/step - loss: 0.6863 - accuracy: 0.8659 - val_loss: 0.6792 - val_accuracy: 0.8660\n"
          ]
        }
      ]
    },
    {
      "cell_type": "code",
      "metadata": {
        "colab": {
          "base_uri": "https://localhost:8080/",
          "height": 313
        },
        "id": "IS4iWSXnD-7Y",
        "outputId": "c4ff55a6-32f1-44c8-b329-693fe7be88cd"
      },
      "source": [
        "conf_matrix = tf.math.confusion_matrix(labels=y_test, predictions=y_predict_rnn)\n",
        "conf_matrix\n",
        "\n",
        "mat = confusion_matrix(y_test, y_predict_rnn)\n",
        "plot_confusion_matrix(conf_mat=mat)"
      ],
      "id": "IS4iWSXnD-7Y",
      "execution_count": 92,
      "outputs": [
        {
          "output_type": "execute_result",
          "data": {
            "text/plain": [
              "(<Figure size 432x288 with 1 Axes>,\n",
              " <matplotlib.axes._subplots.AxesSubplot at 0x7f43ea47c9d0>)"
            ]
          },
          "metadata": {},
          "execution_count": 92
        },
        {
          "output_type": "display_data",
          "data": {
            "image/png": "[encoded data removed]",
            "text/plain": [
              "<Figure size 432x288 with 1 Axes>"
            ]
          },
          "metadata": {
            "needs_background": "light"
          }
        }
      ]
    }
  ]
}