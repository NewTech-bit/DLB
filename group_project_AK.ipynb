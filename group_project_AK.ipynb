{
 "cells": [
  {
   "cell_type": "code",
   "execution_count": 1,
   "id": "62e9049c",
   "metadata": {},
   "outputs": [
    {
     "name": "stderr",
     "output_type": "stream",
     "text": [
      "/Users/andiklausli/opt/miniconda3/lib/python3.7/site-packages/tensorflow/python/framework/dtypes.py:516: FutureWarning: Passing (type, 1) or '1type' as a synonym of type is deprecated; in a future version of numpy, it will be understood as (type, (1,)) / '(1,)type'.\n",
      "  _np_qint8 = np.dtype([(\"qint8\", np.int8, 1)])\n",
      "/Users/andiklausli/opt/miniconda3/lib/python3.7/site-packages/tensorflow/python/framework/dtypes.py:517: FutureWarning: Passing (type, 1) or '1type' as a synonym of type is deprecated; in a future version of numpy, it will be understood as (type, (1,)) / '(1,)type'.\n",
      "  _np_quint8 = np.dtype([(\"quint8\", np.uint8, 1)])\n",
      "/Users/andiklausli/opt/miniconda3/lib/python3.7/site-packages/tensorflow/python/framework/dtypes.py:518: FutureWarning: Passing (type, 1) or '1type' as a synonym of type is deprecated; in a future version of numpy, it will be understood as (type, (1,)) / '(1,)type'.\n",
      "  _np_qint16 = np.dtype([(\"qint16\", np.int16, 1)])\n",
      "/Users/andiklausli/opt/miniconda3/lib/python3.7/site-packages/tensorflow/python/framework/dtypes.py:519: FutureWarning: Passing (type, 1) or '1type' as a synonym of type is deprecated; in a future version of numpy, it will be understood as (type, (1,)) / '(1,)type'.\n",
      "  _np_quint16 = np.dtype([(\"quint16\", np.uint16, 1)])\n",
      "/Users/andiklausli/opt/miniconda3/lib/python3.7/site-packages/tensorflow/python/framework/dtypes.py:520: FutureWarning: Passing (type, 1) or '1type' as a synonym of type is deprecated; in a future version of numpy, it will be understood as (type, (1,)) / '(1,)type'.\n",
      "  _np_qint32 = np.dtype([(\"qint32\", np.int32, 1)])\n",
      "/Users/andiklausli/opt/miniconda3/lib/python3.7/site-packages/tensorflow/python/framework/dtypes.py:525: FutureWarning: Passing (type, 1) or '1type' as a synonym of type is deprecated; in a future version of numpy, it will be understood as (type, (1,)) / '(1,)type'.\n",
      "  np_resource = np.dtype([(\"resource\", np.ubyte, 1)])\n",
      "/Users/andiklausli/opt/miniconda3/lib/python3.7/site-packages/tensorboard/compat/tensorflow_stub/dtypes.py:541: FutureWarning: Passing (type, 1) or '1type' as a synonym of type is deprecated; in a future version of numpy, it will be understood as (type, (1,)) / '(1,)type'.\n",
      "  _np_qint8 = np.dtype([(\"qint8\", np.int8, 1)])\n",
      "/Users/andiklausli/opt/miniconda3/lib/python3.7/site-packages/tensorboard/compat/tensorflow_stub/dtypes.py:542: FutureWarning: Passing (type, 1) or '1type' as a synonym of type is deprecated; in a future version of numpy, it will be understood as (type, (1,)) / '(1,)type'.\n",
      "  _np_quint8 = np.dtype([(\"quint8\", np.uint8, 1)])\n",
      "/Users/andiklausli/opt/miniconda3/lib/python3.7/site-packages/tensorboard/compat/tensorflow_stub/dtypes.py:543: FutureWarning: Passing (type, 1) or '1type' as a synonym of type is deprecated; in a future version of numpy, it will be understood as (type, (1,)) / '(1,)type'.\n",
      "  _np_qint16 = np.dtype([(\"qint16\", np.int16, 1)])\n",
      "/Users/andiklausli/opt/miniconda3/lib/python3.7/site-packages/tensorboard/compat/tensorflow_stub/dtypes.py:544: FutureWarning: Passing (type, 1) or '1type' as a synonym of type is deprecated; in a future version of numpy, it will be understood as (type, (1,)) / '(1,)type'.\n",
      "  _np_quint16 = np.dtype([(\"quint16\", np.uint16, 1)])\n",
      "/Users/andiklausli/opt/miniconda3/lib/python3.7/site-packages/tensorboard/compat/tensorflow_stub/dtypes.py:545: FutureWarning: Passing (type, 1) or '1type' as a synonym of type is deprecated; in a future version of numpy, it will be understood as (type, (1,)) / '(1,)type'.\n",
      "  _np_qint32 = np.dtype([(\"qint32\", np.int32, 1)])\n",
      "/Users/andiklausli/opt/miniconda3/lib/python3.7/site-packages/tensorboard/compat/tensorflow_stub/dtypes.py:550: FutureWarning: Passing (type, 1) or '1type' as a synonym of type is deprecated; in a future version of numpy, it will be understood as (type, (1,)) / '(1,)type'.\n",
      "  np_resource = np.dtype([(\"resource\", np.ubyte, 1)])\n",
      "Using TensorFlow backend.\n"
     ]
    }
   ],
   "source": [
    "import matplotlib.pyplot as plt\n",
    "import numpy as np\n",
    "import pandas as pd\n",
    "import seaborn as sns\n",
    "import pandas as pd\n",
    "from tensorflow import keras\n",
    "from tensorflow.keras import layers\n",
    "\n",
    "from sklearn.feature_extraction.text import CountVectorizer\n",
    "from sklearn.model_selection import train_test_split\n",
    "from sklearn.linear_model import LogisticRegression\n",
    "from sklearn.preprocessing import LabelEncoder\n",
    "from sklearn.preprocessing import OneHotEncoder\n",
    "from sklearn.model_selection import RandomizedSearchCV\n",
    "\n",
    "from keras.models import Sequential\n",
    "from keras import layers\n",
    "from keras.preprocessing.text import Tokenizer\n",
    "from keras.preprocessing.sequence import pad_sequences\n",
    "from keras.wrappers.scikit_learn import KerasClassifier"
   ]
  },
  {
   "cell_type": "code",
   "execution_count": 2,
   "id": "3cd88b8f",
   "metadata": {},
   "outputs": [
    {
     "data": {
      "text/html": [
       "<div>\n",
       "<style scoped>\n",
       "    .dataframe tbody tr th:only-of-type {\n",
       "        vertical-align: middle;\n",
       "    }\n",
       "\n",
       "    .dataframe tbody tr th {\n",
       "        vertical-align: top;\n",
       "    }\n",
       "\n",
       "    .dataframe thead th {\n",
       "        text-align: right;\n",
       "    }\n",
       "</style>\n",
       "<table border=\"1\" class=\"dataframe\">\n",
       "  <thead>\n",
       "    <tr style=\"text-align: right;\">\n",
       "      <th></th>\n",
       "      <th>Category</th>\n",
       "      <th>Message</th>\n",
       "    </tr>\n",
       "  </thead>\n",
       "  <tbody>\n",
       "    <tr>\n",
       "      <th>0</th>\n",
       "      <td>ham</td>\n",
       "      <td>Go until jurong point, crazy.. Available only ...</td>\n",
       "    </tr>\n",
       "    <tr>\n",
       "      <th>1</th>\n",
       "      <td>ham</td>\n",
       "      <td>Ok lar... Joking wif u oni...</td>\n",
       "    </tr>\n",
       "    <tr>\n",
       "      <th>2</th>\n",
       "      <td>spam</td>\n",
       "      <td>Free entry in 2 a wkly comp to win FA Cup fina...</td>\n",
       "    </tr>\n",
       "    <tr>\n",
       "      <th>3</th>\n",
       "      <td>ham</td>\n",
       "      <td>U dun say so early hor... U c already then say...</td>\n",
       "    </tr>\n",
       "    <tr>\n",
       "      <th>4</th>\n",
       "      <td>ham</td>\n",
       "      <td>Nah I don't think he goes to usf, he lives aro...</td>\n",
       "    </tr>\n",
       "  </tbody>\n",
       "</table>\n",
       "</div>"
      ],
      "text/plain": [
       "  Category                                            Message\n",
       "0      ham  Go until jurong point, crazy.. Available only ...\n",
       "1      ham                      Ok lar... Joking wif u oni...\n",
       "2     spam  Free entry in 2 a wkly comp to win FA Cup fina...\n",
       "3      ham  U dun say so early hor... U c already then say...\n",
       "4      ham  Nah I don't think he goes to usf, he lives aro..."
      ]
     },
     "execution_count": 2,
     "metadata": {},
     "output_type": "execute_result"
    }
   ],
   "source": [
    "df = pd.read_csv('data_spam.csv')\n",
    "df.head()"
   ]
  },
  {
   "cell_type": "markdown",
   "id": "abf3358c",
   "metadata": {},
   "source": [
    "# Data Cleansing"
   ]
  },
  {
   "cell_type": "code",
   "execution_count": 3,
   "id": "d0be8750",
   "metadata": {},
   "outputs": [
    {
     "name": "stdout",
     "output_type": "stream",
     "text": [
      "<class 'pandas.core.frame.DataFrame'>\n",
      "RangeIndex: 5572 entries, 0 to 5571\n",
      "Data columns (total 2 columns):\n",
      " #   Column    Non-Null Count  Dtype \n",
      "---  ------    --------------  ----- \n",
      " 0   Category  5572 non-null   object\n",
      " 1   Message   5572 non-null   object\n",
      "dtypes: object(2)\n",
      "memory usage: 87.2+ KB\n"
     ]
    }
   ],
   "source": [
    "df.info() # non NaN"
   ]
  },
  {
   "cell_type": "code",
   "execution_count": 50,
   "id": "623dbec3",
   "metadata": {},
   "outputs": [
    {
     "ename": "KeyError",
     "evalue": "\"None of [Index(['Category'], dtype='object')] are in the [columns]\"",
     "output_type": "error",
     "traceback": [
      "\u001b[0;31m---------------------------------------------------------------------------\u001b[0m",
      "\u001b[0;31mKeyError\u001b[0m                                  Traceback (most recent call last)",
      "\u001b[0;32m/var/folders/yf/yvj83_d96dqfvfm7h4zzb_6c0000gn/T/ipykernel_5592/886891830.py\u001b[0m in \u001b[0;36m<module>\u001b[0;34m\u001b[0m\n\u001b[0;32m----> 1\u001b[0;31m \u001b[0mdf\u001b[0m \u001b[0;34m=\u001b[0m \u001b[0mpd\u001b[0m\u001b[0;34m.\u001b[0m\u001b[0mget_dummies\u001b[0m\u001b[0;34m(\u001b[0m\u001b[0mdf\u001b[0m\u001b[0;34m,\u001b[0m \u001b[0mcolumns\u001b[0m\u001b[0;34m=\u001b[0m\u001b[0;34m[\u001b[0m\u001b[0;34m'Category'\u001b[0m\u001b[0;34m]\u001b[0m\u001b[0;34m)\u001b[0m\u001b[0;34m\u001b[0m\u001b[0;34m\u001b[0m\u001b[0m\n\u001b[0m\u001b[1;32m      2\u001b[0m \u001b[0mdf\u001b[0m\u001b[0;34m.\u001b[0m\u001b[0mhead\u001b[0m\u001b[0;34m(\u001b[0m\u001b[0;34m)\u001b[0m\u001b[0;34m\u001b[0m\u001b[0;34m\u001b[0m\u001b[0m\n",
      "\u001b[0;32m~/opt/miniconda3/lib/python3.7/site-packages/pandas/core/reshape/reshape.py\u001b[0m in \u001b[0;36mget_dummies\u001b[0;34m(data, prefix, prefix_sep, dummy_na, columns, sparse, drop_first, dtype)\u001b[0m\n\u001b[1;32m    888\u001b[0m             \u001b[0;32mraise\u001b[0m \u001b[0mTypeError\u001b[0m\u001b[0;34m(\u001b[0m\u001b[0;34m\"Input must be a list-like for parameter `columns`\"\u001b[0m\u001b[0;34m)\u001b[0m\u001b[0;34m\u001b[0m\u001b[0;34m\u001b[0m\u001b[0m\n\u001b[1;32m    889\u001b[0m         \u001b[0;32melse\u001b[0m\u001b[0;34m:\u001b[0m\u001b[0;34m\u001b[0m\u001b[0;34m\u001b[0m\u001b[0m\n\u001b[0;32m--> 890\u001b[0;31m             \u001b[0mdata_to_encode\u001b[0m \u001b[0;34m=\u001b[0m \u001b[0mdata\u001b[0m\u001b[0;34m[\u001b[0m\u001b[0mcolumns\u001b[0m\u001b[0;34m]\u001b[0m\u001b[0;34m\u001b[0m\u001b[0;34m\u001b[0m\u001b[0m\n\u001b[0m\u001b[1;32m    891\u001b[0m \u001b[0;34m\u001b[0m\u001b[0m\n\u001b[1;32m    892\u001b[0m         \u001b[0;31m# validate prefixes and separator to avoid silently dropping cols\u001b[0m\u001b[0;34m\u001b[0m\u001b[0;34m\u001b[0m\u001b[0;34m\u001b[0m\u001b[0m\n",
      "\u001b[0;32m~/opt/miniconda3/lib/python3.7/site-packages/pandas/core/frame.py\u001b[0m in \u001b[0;36m__getitem__\u001b[0;34m(self, key)\u001b[0m\n\u001b[1;32m   3459\u001b[0m             \u001b[0;32mif\u001b[0m \u001b[0mis_iterator\u001b[0m\u001b[0;34m(\u001b[0m\u001b[0mkey\u001b[0m\u001b[0;34m)\u001b[0m\u001b[0;34m:\u001b[0m\u001b[0;34m\u001b[0m\u001b[0;34m\u001b[0m\u001b[0m\n\u001b[1;32m   3460\u001b[0m                 \u001b[0mkey\u001b[0m \u001b[0;34m=\u001b[0m \u001b[0mlist\u001b[0m\u001b[0;34m(\u001b[0m\u001b[0mkey\u001b[0m\u001b[0;34m)\u001b[0m\u001b[0;34m\u001b[0m\u001b[0;34m\u001b[0m\u001b[0m\n\u001b[0;32m-> 3461\u001b[0;31m             \u001b[0mindexer\u001b[0m \u001b[0;34m=\u001b[0m \u001b[0mself\u001b[0m\u001b[0;34m.\u001b[0m\u001b[0mloc\u001b[0m\u001b[0;34m.\u001b[0m\u001b[0m_get_listlike_indexer\u001b[0m\u001b[0;34m(\u001b[0m\u001b[0mkey\u001b[0m\u001b[0;34m,\u001b[0m \u001b[0maxis\u001b[0m\u001b[0;34m=\u001b[0m\u001b[0;36m1\u001b[0m\u001b[0;34m)\u001b[0m\u001b[0;34m[\u001b[0m\u001b[0;36m1\u001b[0m\u001b[0;34m]\u001b[0m\u001b[0;34m\u001b[0m\u001b[0;34m\u001b[0m\u001b[0m\n\u001b[0m\u001b[1;32m   3462\u001b[0m \u001b[0;34m\u001b[0m\u001b[0m\n\u001b[1;32m   3463\u001b[0m         \u001b[0;31m# take() does not accept boolean indexers\u001b[0m\u001b[0;34m\u001b[0m\u001b[0;34m\u001b[0m\u001b[0;34m\u001b[0m\u001b[0m\n",
      "\u001b[0;32m~/opt/miniconda3/lib/python3.7/site-packages/pandas/core/indexing.py\u001b[0m in \u001b[0;36m_get_listlike_indexer\u001b[0;34m(self, key, axis)\u001b[0m\n\u001b[1;32m   1312\u001b[0m             \u001b[0mkeyarr\u001b[0m\u001b[0;34m,\u001b[0m \u001b[0mindexer\u001b[0m\u001b[0;34m,\u001b[0m \u001b[0mnew_indexer\u001b[0m \u001b[0;34m=\u001b[0m \u001b[0max\u001b[0m\u001b[0;34m.\u001b[0m\u001b[0m_reindex_non_unique\u001b[0m\u001b[0;34m(\u001b[0m\u001b[0mkeyarr\u001b[0m\u001b[0;34m)\u001b[0m\u001b[0;34m\u001b[0m\u001b[0;34m\u001b[0m\u001b[0m\n\u001b[1;32m   1313\u001b[0m \u001b[0;34m\u001b[0m\u001b[0m\n\u001b[0;32m-> 1314\u001b[0;31m         \u001b[0mself\u001b[0m\u001b[0;34m.\u001b[0m\u001b[0m_validate_read_indexer\u001b[0m\u001b[0;34m(\u001b[0m\u001b[0mkeyarr\u001b[0m\u001b[0;34m,\u001b[0m \u001b[0mindexer\u001b[0m\u001b[0;34m,\u001b[0m \u001b[0maxis\u001b[0m\u001b[0;34m)\u001b[0m\u001b[0;34m\u001b[0m\u001b[0;34m\u001b[0m\u001b[0m\n\u001b[0m\u001b[1;32m   1315\u001b[0m \u001b[0;34m\u001b[0m\u001b[0m\n\u001b[1;32m   1316\u001b[0m         if needs_i8_conversion(ax.dtype) or isinstance(\n",
      "\u001b[0;32m~/opt/miniconda3/lib/python3.7/site-packages/pandas/core/indexing.py\u001b[0m in \u001b[0;36m_validate_read_indexer\u001b[0;34m(self, key, indexer, axis)\u001b[0m\n\u001b[1;32m   1372\u001b[0m                 \u001b[0;32mif\u001b[0m \u001b[0muse_interval_msg\u001b[0m\u001b[0;34m:\u001b[0m\u001b[0;34m\u001b[0m\u001b[0;34m\u001b[0m\u001b[0m\n\u001b[1;32m   1373\u001b[0m                     \u001b[0mkey\u001b[0m \u001b[0;34m=\u001b[0m \u001b[0mlist\u001b[0m\u001b[0;34m(\u001b[0m\u001b[0mkey\u001b[0m\u001b[0;34m)\u001b[0m\u001b[0;34m\u001b[0m\u001b[0;34m\u001b[0m\u001b[0m\n\u001b[0;32m-> 1374\u001b[0;31m                 \u001b[0;32mraise\u001b[0m \u001b[0mKeyError\u001b[0m\u001b[0;34m(\u001b[0m\u001b[0;34mf\"None of [{key}] are in the [{axis_name}]\"\u001b[0m\u001b[0;34m)\u001b[0m\u001b[0;34m\u001b[0m\u001b[0;34m\u001b[0m\u001b[0m\n\u001b[0m\u001b[1;32m   1375\u001b[0m \u001b[0;34m\u001b[0m\u001b[0m\n\u001b[1;32m   1376\u001b[0m             \u001b[0mnot_found\u001b[0m \u001b[0;34m=\u001b[0m \u001b[0mlist\u001b[0m\u001b[0;34m(\u001b[0m\u001b[0mensure_index\u001b[0m\u001b[0;34m(\u001b[0m\u001b[0mkey\u001b[0m\u001b[0;34m)\u001b[0m\u001b[0;34m[\u001b[0m\u001b[0mmissing_mask\u001b[0m\u001b[0;34m.\u001b[0m\u001b[0mnonzero\u001b[0m\u001b[0;34m(\u001b[0m\u001b[0;34m)\u001b[0m\u001b[0;34m[\u001b[0m\u001b[0;36m0\u001b[0m\u001b[0;34m]\u001b[0m\u001b[0;34m]\u001b[0m\u001b[0;34m.\u001b[0m\u001b[0munique\u001b[0m\u001b[0;34m(\u001b[0m\u001b[0;34m)\u001b[0m\u001b[0;34m)\u001b[0m\u001b[0;34m\u001b[0m\u001b[0;34m\u001b[0m\u001b[0m\n",
      "\u001b[0;31mKeyError\u001b[0m: \"None of [Index(['Category'], dtype='object')] are in the [columns]\""
     ]
    }
   ],
   "source": [
    "# df = pd.get_dummies(df, columns=['Category'])"
   ]
  },
  {
   "cell_type": "code",
   "execution_count": 4,
   "id": "2c5755a4",
   "metadata": {},
   "outputs": [
    {
     "data": {
      "text/html": [
       "<div>\n",
       "<style scoped>\n",
       "    .dataframe tbody tr th:only-of-type {\n",
       "        vertical-align: middle;\n",
       "    }\n",
       "\n",
       "    .dataframe tbody tr th {\n",
       "        vertical-align: top;\n",
       "    }\n",
       "\n",
       "    .dataframe thead th {\n",
       "        text-align: right;\n",
       "    }\n",
       "</style>\n",
       "<table border=\"1\" class=\"dataframe\">\n",
       "  <thead>\n",
       "    <tr style=\"text-align: right;\">\n",
       "      <th></th>\n",
       "      <th>Category</th>\n",
       "      <th>Message</th>\n",
       "    </tr>\n",
       "  </thead>\n",
       "  <tbody>\n",
       "    <tr>\n",
       "      <th>0</th>\n",
       "      <td>ham</td>\n",
       "      <td>Go until jurong point, crazy.. Available only ...</td>\n",
       "    </tr>\n",
       "    <tr>\n",
       "      <th>1</th>\n",
       "      <td>ham</td>\n",
       "      <td>Ok lar... Joking wif u oni...</td>\n",
       "    </tr>\n",
       "    <tr>\n",
       "      <th>2</th>\n",
       "      <td>spam</td>\n",
       "      <td>Free entry in 2 a wkly comp to win FA Cup fina...</td>\n",
       "    </tr>\n",
       "    <tr>\n",
       "      <th>3</th>\n",
       "      <td>ham</td>\n",
       "      <td>U dun say so early hor... U c already then say...</td>\n",
       "    </tr>\n",
       "    <tr>\n",
       "      <th>4</th>\n",
       "      <td>ham</td>\n",
       "      <td>Nah I don't think he goes to usf, he lives aro...</td>\n",
       "    </tr>\n",
       "  </tbody>\n",
       "</table>\n",
       "</div>"
      ],
      "text/plain": [
       "  Category                                            Message\n",
       "0      ham  Go until jurong point, crazy.. Available only ...\n",
       "1      ham                      Ok lar... Joking wif u oni...\n",
       "2     spam  Free entry in 2 a wkly comp to win FA Cup fina...\n",
       "3      ham  U dun say so early hor... U c already then say...\n",
       "4      ham  Nah I don't think he goes to usf, he lives aro..."
      ]
     },
     "execution_count": 4,
     "metadata": {},
     "output_type": "execute_result"
    }
   ],
   "source": [
    "df.head()\n"
   ]
  },
  {
   "cell_type": "code",
   "execution_count": 6,
   "id": "24a4ff71",
   "metadata": {},
   "outputs": [],
   "source": [
    "# replace Category \n",
    "dict_trans = {'ham' : 0, 'spam': 1}\n",
    "df = df.replace({\"Category\": dict_trans})"
   ]
  },
  {
   "cell_type": "code",
   "execution_count": 7,
   "id": "89835a18",
   "metadata": {},
   "outputs": [
    {
     "data": {
      "text/html": [
       "<div>\n",
       "<style scoped>\n",
       "    .dataframe tbody tr th:only-of-type {\n",
       "        vertical-align: middle;\n",
       "    }\n",
       "\n",
       "    .dataframe tbody tr th {\n",
       "        vertical-align: top;\n",
       "    }\n",
       "\n",
       "    .dataframe thead th {\n",
       "        text-align: right;\n",
       "    }\n",
       "</style>\n",
       "<table border=\"1\" class=\"dataframe\">\n",
       "  <thead>\n",
       "    <tr style=\"text-align: right;\">\n",
       "      <th></th>\n",
       "      <th>Category</th>\n",
       "      <th>Message</th>\n",
       "    </tr>\n",
       "  </thead>\n",
       "  <tbody>\n",
       "    <tr>\n",
       "      <th>0</th>\n",
       "      <td>0</td>\n",
       "      <td>Go until jurong point, crazy.. Available only ...</td>\n",
       "    </tr>\n",
       "    <tr>\n",
       "      <th>1</th>\n",
       "      <td>0</td>\n",
       "      <td>Ok lar... Joking wif u oni...</td>\n",
       "    </tr>\n",
       "    <tr>\n",
       "      <th>2</th>\n",
       "      <td>1</td>\n",
       "      <td>Free entry in 2 a wkly comp to win FA Cup fina...</td>\n",
       "    </tr>\n",
       "    <tr>\n",
       "      <th>3</th>\n",
       "      <td>0</td>\n",
       "      <td>U dun say so early hor... U c already then say...</td>\n",
       "    </tr>\n",
       "    <tr>\n",
       "      <th>4</th>\n",
       "      <td>0</td>\n",
       "      <td>Nah I don't think he goes to usf, he lives aro...</td>\n",
       "    </tr>\n",
       "  </tbody>\n",
       "</table>\n",
       "</div>"
      ],
      "text/plain": [
       "   Category                                            Message\n",
       "0         0  Go until jurong point, crazy.. Available only ...\n",
       "1         0                      Ok lar... Joking wif u oni...\n",
       "2         1  Free entry in 2 a wkly comp to win FA Cup fina...\n",
       "3         0  U dun say so early hor... U c already then say...\n",
       "4         0  Nah I don't think he goes to usf, he lives aro..."
      ]
     },
     "execution_count": 7,
     "metadata": {},
     "output_type": "execute_result"
    }
   ],
   "source": [
    "df.head()"
   ]
  },
  {
   "cell_type": "markdown",
   "id": "8ed51fff",
   "metadata": {},
   "source": [
    "# Data Preparation"
   ]
  },
  {
   "cell_type": "code",
   "execution_count": 8,
   "id": "a59f2d6a",
   "metadata": {},
   "outputs": [],
   "source": [
    "# train-/test-split\n",
    "\n",
    "labels = df['Category'].values\n",
    "messages = df['Message'].values\n",
    "messages_train, messages_test, y_train, y_test = train_test_split(messages, labels, test_size=0.3, random_state=42)"
   ]
  },
  {
   "cell_type": "code",
   "execution_count": 68,
   "id": "71f3a85a",
   "metadata": {},
   "outputs": [
    {
     "data": {
      "text/plain": [
       "array([0, 0, 1, ..., 0, 0, 0])"
      ]
     },
     "execution_count": 68,
     "metadata": {},
     "output_type": "execute_result"
    }
   ],
   "source": []
  },
  {
   "cell_type": "code",
   "execution_count": 9,
   "id": "e50e5c8d",
   "metadata": {},
   "outputs": [],
   "source": [
    "# Vectorisation\n",
    "vectorizer = CountVectorizer()\n",
    "vectorizer.fit(messages_train)\n",
    "\n",
    "X_train = vectorizer.transform(messages_train)\n",
    "X_test  = vectorizer.transform(messages_test)"
   ]
  },
  {
   "cell_type": "code",
   "execution_count": 10,
   "id": "1706ee69",
   "metadata": {},
   "outputs": [
    {
     "data": {
      "text/plain": [
       "<3900x7262 sparse matrix of type '<class 'numpy.int64'>'\n",
       "\twith 52129 stored elements in Compressed Sparse Row format>"
      ]
     },
     "execution_count": 10,
     "metadata": {},
     "output_type": "execute_result"
    }
   ],
   "source": [
    "X_train"
   ]
  },
  {
   "cell_type": "markdown",
   "id": "49db2ede",
   "metadata": {},
   "source": [
    "# Build First Model"
   ]
  },
  {
   "cell_type": "code",
   "execution_count": 12,
   "id": "b250a9f8",
   "metadata": {},
   "outputs": [],
   "source": [
    "\n",
    "input_dim = X_train.shape[1]  # Number of features"
   ]
  },
  {
   "cell_type": "code",
   "execution_count": 13,
   "id": "92870e66",
   "metadata": {},
   "outputs": [
    {
     "data": {
      "text/plain": [
       "7262"
      ]
     },
     "execution_count": 13,
     "metadata": {},
     "output_type": "execute_result"
    }
   ],
   "source": [
    "input_dim"
   ]
  },
  {
   "cell_type": "code",
   "execution_count": 14,
   "id": "dda470bb",
   "metadata": {},
   "outputs": [],
   "source": [
    "\n",
    "model = Sequential()\n",
    "model.add(layers.Dense(10, input_dim=input_dim, activation='relu'))\n",
    "model.add(layers.Dense(1, activation='sigmoid'))"
   ]
  },
  {
   "cell_type": "code",
   "execution_count": 15,
   "id": "819c7a62",
   "metadata": {},
   "outputs": [
    {
     "name": "stdout",
     "output_type": "stream",
     "text": [
      "WARNING:tensorflow:From /Users/andiklausli/opt/miniconda3/lib/python3.7/site-packages/tensorflow/python/ops/nn_impl.py:180: add_dispatch_support.<locals>.wrapper (from tensorflow.python.ops.array_ops) is deprecated and will be removed in a future version.\n",
      "Instructions for updating:\n",
      "Use tf.where in 2.0, which has the same broadcast rule as np.where\n",
      "Model: \"sequential_1\"\n",
      "_________________________________________________________________\n",
      "Layer (type)                 Output Shape              Param #   \n",
      "=================================================================\n",
      "dense_1 (Dense)              (None, 10)                72630     \n",
      "_________________________________________________________________\n",
      "dense_2 (Dense)              (None, 1)                 11        \n",
      "=================================================================\n",
      "Total params: 72,641\n",
      "Trainable params: 72,641\n",
      "Non-trainable params: 0\n",
      "_________________________________________________________________\n"
     ]
    }
   ],
   "source": [
    "model.compile(loss='binary_crossentropy', \n",
    "              optimizer='adam', \n",
    "              metrics=['accuracy'])\n",
    "model.summary()"
   ]
  },
  {
   "cell_type": "code",
   "execution_count": 16,
   "id": "caef469f",
   "metadata": {},
   "outputs": [
    {
     "name": "stdout",
     "output_type": "stream",
     "text": [
      "WARNING:tensorflow:From /Users/andiklausli/opt/miniconda3/lib/python3.7/site-packages/keras/backend/tensorflow_backend.py:422: The name tf.global_variables is deprecated. Please use tf.compat.v1.global_variables instead.\n",
      "\n"
     ]
    },
    {
     "name": "stderr",
     "output_type": "stream",
     "text": [
      "2021-09-09 11:55:34.478237: I tensorflow/core/platform/cpu_feature_guard.cc:145] This TensorFlow binary is optimized with Intel(R) MKL-DNN to use the following CPU instructions in performance critical operations:  SSE4.1 SSE4.2 AVX AVX2 FMA\n",
      "To enable them in non-MKL-DNN operations, rebuild TensorFlow with the appropriate compiler flags.\n",
      "2021-09-09 11:55:34.480021: I tensorflow/core/common_runtime/process_util.cc:115] Creating new thread pool with default inter op setting: 16. Tune using inter_op_parallelism_threads for best performance.\n"
     ]
    },
    {
     "name": "stdout",
     "output_type": "stream",
     "text": [
      "Train on 3900 samples, validate on 1672 samples\n",
      "Epoch 1/100\n",
      "3900/3900 [==============================] - 2s 465us/step - loss: 0.2784 - accuracy: 0.9392 - val_loss: 0.1084 - val_accuracy: 0.9850\n",
      "Epoch 2/100\n",
      "3900/3900 [==============================] - 1s 327us/step - loss: 0.0666 - accuracy: 0.9882 - val_loss: 0.0621 - val_accuracy: 0.9892\n",
      "Epoch 3/100\n",
      "3900/3900 [==============================] - 1s 330us/step - loss: 0.0302 - accuracy: 0.9946 - val_loss: 0.0503 - val_accuracy: 0.9898\n",
      "Epoch 4/100\n",
      "3900/3900 [==============================] - 1s 329us/step - loss: 0.0158 - accuracy: 0.9982 - val_loss: 0.0463 - val_accuracy: 0.9892\n",
      "Epoch 5/100\n",
      "3900/3900 [==============================] - 1s 332us/step - loss: 0.0100 - accuracy: 0.9990 - val_loss: 0.0459 - val_accuracy: 0.9892\n",
      "Epoch 6/100\n",
      "3900/3900 [==============================] - 1s 331us/step - loss: 0.0069 - accuracy: 0.9992 - val_loss: 0.0480 - val_accuracy: 0.9898\n",
      "Epoch 7/100\n",
      "3900/3900 [==============================] - 1s 365us/step - loss: 0.0054 - accuracy: 0.9992 - val_loss: 0.0468 - val_accuracy: 0.9898\n",
      "Epoch 8/100\n",
      "3900/3900 [==============================] - 1s 360us/step - loss: 0.0044 - accuracy: 0.9992 - val_loss: 0.0502 - val_accuracy: 0.9898\n",
      "Epoch 9/100\n",
      "3900/3900 [==============================] - 1s 359us/step - loss: 0.0038 - accuracy: 0.9992 - val_loss: 0.0502 - val_accuracy: 0.9898\n",
      "Epoch 10/100\n",
      "3900/3900 [==============================] - 1s 355us/step - loss: 0.0033 - accuracy: 0.9992 - val_loss: 0.0518 - val_accuracy: 0.9898\n",
      "Epoch 11/100\n",
      "3900/3900 [==============================] - 1s 337us/step - loss: 0.0029 - accuracy: 0.9992 - val_loss: 0.0521 - val_accuracy: 0.9904\n",
      "Epoch 12/100\n",
      "3900/3900 [==============================] - 1s 366us/step - loss: 0.0026 - accuracy: 0.9992 - val_loss: 0.0540 - val_accuracy: 0.9904\n",
      "Epoch 13/100\n",
      "3900/3900 [==============================] - 1s 331us/step - loss: 0.0023 - accuracy: 0.9992 - val_loss: 0.0557 - val_accuracy: 0.9904\n",
      "Epoch 14/100\n",
      "3900/3900 [==============================] - 1s 335us/step - loss: 0.0021 - accuracy: 0.9992 - val_loss: 0.0572 - val_accuracy: 0.9904\n",
      "Epoch 15/100\n",
      "3900/3900 [==============================] - 1s 368us/step - loss: 0.0019 - accuracy: 0.9992 - val_loss: 0.0580 - val_accuracy: 0.9904\n",
      "Epoch 16/100\n",
      "3900/3900 [==============================] - 1s 374us/step - loss: 0.0017 - accuracy: 0.9992 - val_loss: 0.0599 - val_accuracy: 0.9904\n",
      "Epoch 17/100\n",
      "3900/3900 [==============================] - 1s 373us/step - loss: 0.0016 - accuracy: 0.9992 - val_loss: 0.0612 - val_accuracy: 0.9904\n",
      "Epoch 18/100\n",
      "3900/3900 [==============================] - 1s 363us/step - loss: 0.0014 - accuracy: 0.9992 - val_loss: 0.0624 - val_accuracy: 0.9904\n",
      "Epoch 19/100\n",
      "3900/3900 [==============================] - 1s 365us/step - loss: 0.0013 - accuracy: 0.9992 - val_loss: 0.0636 - val_accuracy: 0.9904\n",
      "Epoch 20/100\n",
      "3900/3900 [==============================] - 1s 350us/step - loss: 0.0012 - accuracy: 0.9992 - val_loss: 0.0677 - val_accuracy: 0.9898\n",
      "Epoch 21/100\n",
      "3900/3900 [==============================] - 1s 340us/step - loss: 0.0010 - accuracy: 0.9992 - val_loss: 0.0701 - val_accuracy: 0.9898\n",
      "Epoch 22/100\n",
      "3900/3900 [==============================] - 1s 348us/step - loss: 9.2370e-04 - accuracy: 0.9992 - val_loss: 0.0734 - val_accuracy: 0.9898\n",
      "Epoch 23/100\n",
      "3900/3900 [==============================] - 1s 342us/step - loss: 8.2948e-04 - accuracy: 0.9992 - val_loss: 0.0770 - val_accuracy: 0.9892\n",
      "Epoch 24/100\n",
      "3900/3900 [==============================] - 1s 343us/step - loss: 7.6269e-04 - accuracy: 0.9992 - val_loss: 0.0784 - val_accuracy: 0.9898\n",
      "Epoch 25/100\n",
      "3900/3900 [==============================] - 1s 344us/step - loss: 7.0786e-04 - accuracy: 0.9992 - val_loss: 0.0828 - val_accuracy: 0.9886\n",
      "Epoch 26/100\n",
      "3900/3900 [==============================] - 1s 337us/step - loss: 6.6326e-04 - accuracy: 0.9992 - val_loss: 0.0843 - val_accuracy: 0.9886\n",
      "Epoch 27/100\n",
      "3900/3900 [==============================] - 1s 345us/step - loss: 6.4162e-04 - accuracy: 0.9992 - val_loss: 0.0861 - val_accuracy: 0.9886\n",
      "Epoch 28/100\n",
      "3900/3900 [==============================] - 1s 343us/step - loss: 6.1667e-04 - accuracy: 0.9992 - val_loss: 0.0888 - val_accuracy: 0.9886\n",
      "Epoch 29/100\n",
      "3900/3900 [==============================] - 1s 373us/step - loss: 5.9851e-04 - accuracy: 0.9992 - val_loss: 0.0928 - val_accuracy: 0.9886\n",
      "Epoch 30/100\n",
      "3900/3900 [==============================] - 1s 367us/step - loss: 5.7891e-04 - accuracy: 0.9992 - val_loss: 0.0957 - val_accuracy: 0.9886\n",
      "Epoch 31/100\n",
      "3900/3900 [==============================] - 1s 359us/step - loss: 5.6381e-04 - accuracy: 0.9997 - val_loss: 0.0980 - val_accuracy: 0.9898\n",
      "Epoch 32/100\n",
      "3900/3900 [==============================] - 1s 358us/step - loss: 5.4707e-04 - accuracy: 1.0000 - val_loss: 0.0998 - val_accuracy: 0.9898\n",
      "Epoch 33/100\n",
      "3900/3900 [==============================] - 1s 341us/step - loss: 5.3256e-04 - accuracy: 1.0000 - val_loss: 0.1026 - val_accuracy: 0.9898\n",
      "Epoch 34/100\n",
      "3900/3900 [==============================] - 1s 379us/step - loss: 5.1781e-04 - accuracy: 1.0000 - val_loss: 0.1061 - val_accuracy: 0.9892\n",
      "Epoch 35/100\n",
      "3900/3900 [==============================] - 1s 341us/step - loss: 5.0406e-04 - accuracy: 1.0000 - val_loss: 0.1083 - val_accuracy: 0.9898\n",
      "Epoch 36/100\n",
      "3900/3900 [==============================] - 1s 332us/step - loss: 4.9310e-04 - accuracy: 1.0000 - val_loss: 0.1115 - val_accuracy: 0.9886\n",
      "Epoch 37/100\n",
      "3900/3900 [==============================] - 1s 376us/step - loss: 4.8253e-04 - accuracy: 1.0000 - val_loss: 0.1135 - val_accuracy: 0.9886\n",
      "Epoch 38/100\n",
      "3900/3900 [==============================] - 1s 363us/step - loss: 4.6777e-04 - accuracy: 1.0000 - val_loss: 0.1152 - val_accuracy: 0.9892\n",
      "Epoch 39/100\n",
      "3900/3900 [==============================] - 1s 374us/step - loss: 4.5579e-04 - accuracy: 1.0000 - val_loss: 0.1180 - val_accuracy: 0.9886\n",
      "Epoch 40/100\n",
      "3900/3900 [==============================] - 1s 366us/step - loss: 4.4394e-04 - accuracy: 1.0000 - val_loss: 0.1212 - val_accuracy: 0.9886\n",
      "Epoch 41/100\n",
      "3900/3900 [==============================] - 1s 352us/step - loss: 4.3266e-04 - accuracy: 1.0000 - val_loss: 0.1252 - val_accuracy: 0.9880\n",
      "Epoch 42/100\n",
      "3900/3900 [==============================] - 1s 341us/step - loss: 4.2243e-04 - accuracy: 1.0000 - val_loss: 0.1265 - val_accuracy: 0.9886\n",
      "Epoch 43/100\n",
      "3900/3900 [==============================] - 1s 336us/step - loss: 4.1209e-04 - accuracy: 1.0000 - val_loss: 0.1277 - val_accuracy: 0.9886\n",
      "Epoch 44/100\n",
      "3900/3900 [==============================] - 1s 338us/step - loss: 4.0125e-04 - accuracy: 1.0000 - val_loss: 0.1309 - val_accuracy: 0.9886\n",
      "Epoch 45/100\n",
      "3900/3900 [==============================] - 1s 333us/step - loss: 3.9080e-04 - accuracy: 1.0000 - val_loss: 0.1335 - val_accuracy: 0.9880\n",
      "Epoch 46/100\n",
      "3900/3900 [==============================] - 1s 340us/step - loss: 3.8191e-04 - accuracy: 1.0000 - val_loss: 0.1370 - val_accuracy: 0.9880\n",
      "Epoch 47/100\n",
      "3900/3900 [==============================] - 1s 340us/step - loss: 3.7185e-04 - accuracy: 1.0000 - val_loss: 0.1386 - val_accuracy: 0.9880\n",
      "Epoch 48/100\n",
      "3900/3900 [==============================] - 1s 344us/step - loss: 3.6332e-04 - accuracy: 1.0000 - val_loss: 0.1413 - val_accuracy: 0.9880\n",
      "Epoch 49/100\n",
      "3900/3900 [==============================] - 1s 340us/step - loss: 3.5329e-04 - accuracy: 1.0000 - val_loss: 0.1442 - val_accuracy: 0.9880\n",
      "Epoch 50/100\n",
      "3900/3900 [==============================] - 1s 333us/step - loss: 3.4431e-04 - accuracy: 1.0000 - val_loss: 0.1456 - val_accuracy: 0.9880\n",
      "Epoch 51/100\n",
      "3900/3900 [==============================] - 1s 334us/step - loss: 3.3531e-04 - accuracy: 1.0000 - val_loss: 0.1479 - val_accuracy: 0.9880\n",
      "Epoch 52/100\n",
      "3900/3900 [==============================] - 1s 366us/step - loss: 3.2665e-04 - accuracy: 1.0000 - val_loss: 0.1504 - val_accuracy: 0.9880\n",
      "Epoch 53/100\n",
      "3900/3900 [==============================] - 1s 364us/step - loss: 3.2213e-04 - accuracy: 1.0000 - val_loss: 0.1510 - val_accuracy: 0.9880\n",
      "Epoch 54/100\n",
      "3900/3900 [==============================] - 1s 375us/step - loss: 3.1050e-04 - accuracy: 1.0000 - val_loss: 0.1540 - val_accuracy: 0.9880\n",
      "Epoch 55/100\n"
     ]
    },
    {
     "name": "stdout",
     "output_type": "stream",
     "text": [
      "3900/3900 [==============================] - 1s 344us/step - loss: 3.0438e-04 - accuracy: 1.0000 - val_loss: 0.1551 - val_accuracy: 0.9880\n",
      "Epoch 56/100\n",
      "3900/3900 [==============================] - 1s 338us/step - loss: 2.9506e-04 - accuracy: 1.0000 - val_loss: 0.1579 - val_accuracy: 0.9880\n",
      "Epoch 57/100\n",
      "3900/3900 [==============================] - 1s 360us/step - loss: 2.8752e-04 - accuracy: 1.0000 - val_loss: 0.1608 - val_accuracy: 0.9880\n",
      "Epoch 58/100\n",
      "3900/3900 [==============================] - 1s 334us/step - loss: 2.8068e-04 - accuracy: 1.0000 - val_loss: 0.1645 - val_accuracy: 0.9880\n",
      "Epoch 59/100\n",
      "3900/3900 [==============================] - 1s 355us/step - loss: 2.7332e-04 - accuracy: 1.0000 - val_loss: 0.1655 - val_accuracy: 0.9880\n",
      "Epoch 60/100\n",
      "3900/3900 [==============================] - 1s 362us/step - loss: 2.6564e-04 - accuracy: 1.0000 - val_loss: 0.1668 - val_accuracy: 0.9880\n",
      "Epoch 61/100\n",
      "3900/3900 [==============================] - 2s 388us/step - loss: 2.5833e-04 - accuracy: 1.0000 - val_loss: 0.1699 - val_accuracy: 0.9880\n",
      "Epoch 62/100\n",
      "3900/3900 [==============================] - 1s 376us/step - loss: 2.5133e-04 - accuracy: 1.0000 - val_loss: 0.1717 - val_accuracy: 0.9880\n",
      "Epoch 63/100\n",
      "3900/3900 [==============================] - 1s 378us/step - loss: 2.4472e-04 - accuracy: 1.0000 - val_loss: 0.1725 - val_accuracy: 0.9880\n",
      "Epoch 64/100\n",
      "3900/3900 [==============================] - 1s 351us/step - loss: 2.3791e-04 - accuracy: 1.0000 - val_loss: 0.1751 - val_accuracy: 0.9880\n",
      "Epoch 65/100\n",
      "3900/3900 [==============================] - 1s 339us/step - loss: 2.3213e-04 - accuracy: 1.0000 - val_loss: 0.1761 - val_accuracy: 0.9880\n",
      "Epoch 66/100\n",
      "3900/3900 [==============================] - 1s 342us/step - loss: 2.2543e-04 - accuracy: 1.0000 - val_loss: 0.1791 - val_accuracy: 0.9880\n",
      "Epoch 67/100\n",
      "3900/3900 [==============================] - 1s 344us/step - loss: 2.2041e-04 - accuracy: 1.0000 - val_loss: 0.1815 - val_accuracy: 0.9880\n",
      "Epoch 68/100\n",
      "3900/3900 [==============================] - 1s 332us/step - loss: 2.1508e-04 - accuracy: 1.0000 - val_loss: 0.1821 - val_accuracy: 0.9880\n",
      "Epoch 69/100\n",
      "3900/3900 [==============================] - 1s 333us/step - loss: 2.0786e-04 - accuracy: 1.0000 - val_loss: 0.1850 - val_accuracy: 0.9880\n",
      "Epoch 70/100\n",
      "3900/3900 [==============================] - 1s 332us/step - loss: 2.0214e-04 - accuracy: 1.0000 - val_loss: 0.1874 - val_accuracy: 0.9880\n",
      "Epoch 71/100\n",
      "3900/3900 [==============================] - 1s 336us/step - loss: 1.9662e-04 - accuracy: 1.0000 - val_loss: 0.1891 - val_accuracy: 0.9880\n",
      "Epoch 72/100\n",
      "3900/3900 [==============================] - 1s 336us/step - loss: 1.9187e-04 - accuracy: 1.0000 - val_loss: 0.1915 - val_accuracy: 0.9880\n",
      "Epoch 73/100\n",
      "3900/3900 [==============================] - 1s 330us/step - loss: 1.8641e-04 - accuracy: 1.0000 - val_loss: 0.1940 - val_accuracy: 0.9880\n",
      "Epoch 74/100\n",
      "3900/3900 [==============================] - 1s 355us/step - loss: 1.8125e-04 - accuracy: 1.0000 - val_loss: 0.1962 - val_accuracy: 0.9880\n",
      "Epoch 75/100\n",
      "3900/3900 [==============================] - 1s 352us/step - loss: 1.7616e-04 - accuracy: 1.0000 - val_loss: 0.1985 - val_accuracy: 0.9880\n",
      "Epoch 76/100\n",
      "3900/3900 [==============================] - 1s 346us/step - loss: 1.7220e-04 - accuracy: 1.0000 - val_loss: 0.1987 - val_accuracy: 0.9880\n",
      "Epoch 77/100\n",
      "3900/3900 [==============================] - 1s 346us/step - loss: 1.6679e-04 - accuracy: 1.0000 - val_loss: 0.2016 - val_accuracy: 0.9880\n",
      "Epoch 78/100\n",
      "3900/3900 [==============================] - 1s 370us/step - loss: 1.6205e-04 - accuracy: 1.0000 - val_loss: 0.2048 - val_accuracy: 0.9874\n",
      "Epoch 79/100\n",
      "3900/3900 [==============================] - 1s 343us/step - loss: 1.5766e-04 - accuracy: 1.0000 - val_loss: 0.2067 - val_accuracy: 0.9874\n",
      "Epoch 80/100\n",
      "3900/3900 [==============================] - 1s 344us/step - loss: 1.5351e-04 - accuracy: 1.0000 - val_loss: 0.2076 - val_accuracy: 0.9874\n",
      "Epoch 81/100\n",
      "3900/3900 [==============================] - 1s 342us/step - loss: 1.5045e-04 - accuracy: 1.0000 - val_loss: 0.2088 - val_accuracy: 0.9874\n",
      "Epoch 82/100\n",
      "3900/3900 [==============================] - 1s 366us/step - loss: 1.4482e-04 - accuracy: 1.0000 - val_loss: 0.2107 - val_accuracy: 0.9874\n",
      "Epoch 83/100\n",
      "3900/3900 [==============================] - 1s 365us/step - loss: 1.4071e-04 - accuracy: 1.0000 - val_loss: 0.2135 - val_accuracy: 0.9874\n",
      "Epoch 84/100\n",
      "3900/3900 [==============================] - 1s 375us/step - loss: 1.3706e-04 - accuracy: 1.0000 - val_loss: 0.2162 - val_accuracy: 0.9874\n",
      "Epoch 85/100\n",
      "3900/3900 [==============================] - 1s 373us/step - loss: 1.3320e-04 - accuracy: 1.0000 - val_loss: 0.2185 - val_accuracy: 0.9874\n",
      "Epoch 86/100\n",
      "3900/3900 [==============================] - 1s 351us/step - loss: 1.2938e-04 - accuracy: 1.0000 - val_loss: 0.2192 - val_accuracy: 0.9874\n",
      "Epoch 87/100\n",
      "3900/3900 [==============================] - 1s 341us/step - loss: 1.2562e-04 - accuracy: 1.0000 - val_loss: 0.2231 - val_accuracy: 0.9868\n",
      "Epoch 88/100\n",
      "3900/3900 [==============================] - 1s 340us/step - loss: 1.2197e-04 - accuracy: 1.0000 - val_loss: 0.2241 - val_accuracy: 0.9874\n",
      "Epoch 89/100\n",
      "3900/3900 [==============================] - 1s 346us/step - loss: 1.1855e-04 - accuracy: 1.0000 - val_loss: 0.2268 - val_accuracy: 0.9868\n",
      "Epoch 90/100\n",
      "3900/3900 [==============================] - 1s 348us/step - loss: 1.1528e-04 - accuracy: 1.0000 - val_loss: 0.2269 - val_accuracy: 0.9874\n",
      "Epoch 91/100\n",
      "3900/3900 [==============================] - 1s 350us/step - loss: 1.1271e-04 - accuracy: 1.0000 - val_loss: 0.2289 - val_accuracy: 0.9868\n",
      "Epoch 92/100\n",
      "3900/3900 [==============================] - 1s 350us/step - loss: 1.0877e-04 - accuracy: 1.0000 - val_loss: 0.2317 - val_accuracy: 0.9862\n",
      "Epoch 93/100\n",
      "3900/3900 [==============================] - 1s 352us/step - loss: 1.0569e-04 - accuracy: 1.0000 - val_loss: 0.2347 - val_accuracy: 0.9862\n",
      "Epoch 94/100\n",
      "3900/3900 [==============================] - 1s 349us/step - loss: 1.0311e-04 - accuracy: 1.0000 - val_loss: 0.2371 - val_accuracy: 0.9862\n",
      "Epoch 95/100\n",
      "3900/3900 [==============================] - 1s 348us/step - loss: 1.0033e-04 - accuracy: 1.0000 - val_loss: 0.2393 - val_accuracy: 0.9862\n",
      "Epoch 96/100\n",
      "3900/3900 [==============================] - 1s 366us/step - loss: 9.8515e-05 - accuracy: 1.0000 - val_loss: 0.2393 - val_accuracy: 0.9862\n",
      "Epoch 97/100\n",
      "3900/3900 [==============================] - 1s 371us/step - loss: 9.4803e-05 - accuracy: 1.0000 - val_loss: 0.2433 - val_accuracy: 0.9862\n",
      "Epoch 98/100\n",
      "3900/3900 [==============================] - 1s 377us/step - loss: 9.2433e-05 - accuracy: 1.0000 - val_loss: 0.2438 - val_accuracy: 0.9862\n",
      "Epoch 99/100\n",
      "3900/3900 [==============================] - 2s 392us/step - loss: 8.9682e-05 - accuracy: 1.0000 - val_loss: 0.2462 - val_accuracy: 0.9862\n",
      "Epoch 100/100\n",
      "3900/3900 [==============================] - 1s 380us/step - loss: 8.7021e-05 - accuracy: 1.0000 - val_loss: 0.2487 - val_accuracy: 0.9862\n"
     ]
    }
   ],
   "source": [
    "history = model.fit(X_train, y_train,\n",
    "                    epochs=100,\n",
    "                    verbose=True,\n",
    "                    validation_data=(X_test, y_test),\n",
    "                    batch_size=10)"
   ]
  },
  {
   "cell_type": "code",
   "execution_count": 17,
   "id": "ad87f1b6",
   "metadata": {},
   "outputs": [
    {
     "name": "stdout",
     "output_type": "stream",
     "text": [
      "Training Accuracy: 1.0000\n",
      "Testing Accuracy:  0.9862\n"
     ]
    }
   ],
   "source": [
    "# model performance\n",
    "loss, accuracy = model.evaluate(X_train, y_train, verbose=False)\n",
    "print(\"Training Accuracy: {:.4f}\".format(accuracy))\n",
    "loss, accuracy = model.evaluate(X_test, y_test, verbose=False)\n",
    "print(\"Testing Accuracy:  {:.4f}\".format(accuracy))"
   ]
  }
 ],
 "metadata": {
  "kernelspec": {
   "display_name": "Python 3 (ipykernel)",
   "language": "python",
   "name": "python3"
  },
  "language_info": {
   "codemirror_mode": {
    "name": "ipython",
    "version": 3
   },
   "file_extension": ".py",
   "mimetype": "text/x-python",
   "name": "python",
   "nbconvert_exporter": "python",
   "pygments_lexer": "ipython3",
   "version": "3.7.9"
  }
 },
 "nbformat": 4,
 "nbformat_minor": 5
}
