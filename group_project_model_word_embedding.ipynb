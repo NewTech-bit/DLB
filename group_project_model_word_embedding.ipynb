{
 "cells": [
  {
   "cell_type": "markdown",
   "metadata": {},
   "source": [
    "# Build a deep learning model: Word Embeddings"
   ]
  },
  {
   "cell_type": "code",
   "execution_count": 3,
   "metadata": {},
   "outputs": [
    {
     "name": "stderr",
     "output_type": "stream",
     "text": [
      "/Users/andiklausli/opt/miniconda3/lib/python3.7/site-packages/tensorflow/python/framework/dtypes.py:516: FutureWarning: Passing (type, 1) or '1type' as a synonym of type is deprecated; in a future version of numpy, it will be understood as (type, (1,)) / '(1,)type'.\n",
      "  _np_qint8 = np.dtype([(\"qint8\", np.int8, 1)])\n",
      "/Users/andiklausli/opt/miniconda3/lib/python3.7/site-packages/tensorflow/python/framework/dtypes.py:517: FutureWarning: Passing (type, 1) or '1type' as a synonym of type is deprecated; in a future version of numpy, it will be understood as (type, (1,)) / '(1,)type'.\n",
      "  _np_quint8 = np.dtype([(\"quint8\", np.uint8, 1)])\n",
      "/Users/andiklausli/opt/miniconda3/lib/python3.7/site-packages/tensorflow/python/framework/dtypes.py:518: FutureWarning: Passing (type, 1) or '1type' as a synonym of type is deprecated; in a future version of numpy, it will be understood as (type, (1,)) / '(1,)type'.\n",
      "  _np_qint16 = np.dtype([(\"qint16\", np.int16, 1)])\n",
      "/Users/andiklausli/opt/miniconda3/lib/python3.7/site-packages/tensorflow/python/framework/dtypes.py:519: FutureWarning: Passing (type, 1) or '1type' as a synonym of type is deprecated; in a future version of numpy, it will be understood as (type, (1,)) / '(1,)type'.\n",
      "  _np_quint16 = np.dtype([(\"quint16\", np.uint16, 1)])\n",
      "/Users/andiklausli/opt/miniconda3/lib/python3.7/site-packages/tensorflow/python/framework/dtypes.py:520: FutureWarning: Passing (type, 1) or '1type' as a synonym of type is deprecated; in a future version of numpy, it will be understood as (type, (1,)) / '(1,)type'.\n",
      "  _np_qint32 = np.dtype([(\"qint32\", np.int32, 1)])\n",
      "/Users/andiklausli/opt/miniconda3/lib/python3.7/site-packages/tensorflow/python/framework/dtypes.py:525: FutureWarning: Passing (type, 1) or '1type' as a synonym of type is deprecated; in a future version of numpy, it will be understood as (type, (1,)) / '(1,)type'.\n",
      "  np_resource = np.dtype([(\"resource\", np.ubyte, 1)])\n",
      "/Users/andiklausli/opt/miniconda3/lib/python3.7/site-packages/tensorboard/compat/tensorflow_stub/dtypes.py:541: FutureWarning: Passing (type, 1) or '1type' as a synonym of type is deprecated; in a future version of numpy, it will be understood as (type, (1,)) / '(1,)type'.\n",
      "  _np_qint8 = np.dtype([(\"qint8\", np.int8, 1)])\n",
      "/Users/andiklausli/opt/miniconda3/lib/python3.7/site-packages/tensorboard/compat/tensorflow_stub/dtypes.py:542: FutureWarning: Passing (type, 1) or '1type' as a synonym of type is deprecated; in a future version of numpy, it will be understood as (type, (1,)) / '(1,)type'.\n",
      "  _np_quint8 = np.dtype([(\"quint8\", np.uint8, 1)])\n",
      "/Users/andiklausli/opt/miniconda3/lib/python3.7/site-packages/tensorboard/compat/tensorflow_stub/dtypes.py:543: FutureWarning: Passing (type, 1) or '1type' as a synonym of type is deprecated; in a future version of numpy, it will be understood as (type, (1,)) / '(1,)type'.\n",
      "  _np_qint16 = np.dtype([(\"qint16\", np.int16, 1)])\n",
      "/Users/andiklausli/opt/miniconda3/lib/python3.7/site-packages/tensorboard/compat/tensorflow_stub/dtypes.py:544: FutureWarning: Passing (type, 1) or '1type' as a synonym of type is deprecated; in a future version of numpy, it will be understood as (type, (1,)) / '(1,)type'.\n",
      "  _np_quint16 = np.dtype([(\"quint16\", np.uint16, 1)])\n",
      "/Users/andiklausli/opt/miniconda3/lib/python3.7/site-packages/tensorboard/compat/tensorflow_stub/dtypes.py:545: FutureWarning: Passing (type, 1) or '1type' as a synonym of type is deprecated; in a future version of numpy, it will be understood as (type, (1,)) / '(1,)type'.\n",
      "  _np_qint32 = np.dtype([(\"qint32\", np.int32, 1)])\n",
      "/Users/andiklausli/opt/miniconda3/lib/python3.7/site-packages/tensorboard/compat/tensorflow_stub/dtypes.py:550: FutureWarning: Passing (type, 1) or '1type' as a synonym of type is deprecated; in a future version of numpy, it will be understood as (type, (1,)) / '(1,)type'.\n",
      "  np_resource = np.dtype([(\"resource\", np.ubyte, 1)])\n",
      "Using TensorFlow backend.\n"
     ]
    }
   ],
   "source": [
    "import matplotlib.pyplot as plt\n",
    "import numpy as np\n",
    "import pandas as pd\n",
    "import seaborn as sns\n",
    "\n",
    "from tensorflow import keras\n",
    "from tensorflow.keras import layers                       ## conflict with -> from keras import layers\n",
    "\n",
    "from sklearn.feature_extraction.text import CountVectorizer\n",
    "from sklearn.model_selection import train_test_split\n",
    "from sklearn.linear_model import LogisticRegression\n",
    "from sklearn.preprocessing import LabelEncoder\n",
    "from sklearn.preprocessing import OneHotEncoder\n",
    "from sklearn.model_selection import RandomizedSearchCV\n",
    "\n",
    "#from keras.models import Sequential                      ## redundant\n",
    "# from keras import layers\n",
    "from keras.preprocessing.text import Tokenizer\n",
    "from keras.preprocessing.sequence import pad_sequences\n",
    "from keras.wrappers.scikit_learn import KerasClassifier\n",
    "\n",
    "import tensorflow as tf\n",
    "from keras import metrics\n"
   ]
  },
  {
   "cell_type": "markdown",
   "metadata": {},
   "source": [
    "## Loading data"
   ]
  },
  {
   "cell_type": "code",
   "execution_count": 4,
   "metadata": {
    "scrolled": false
   },
   "outputs": [
    {
     "data": {
      "text/html": [
       "<div>\n",
       "<style scoped>\n",
       "    .dataframe tbody tr th:only-of-type {\n",
       "        vertical-align: middle;\n",
       "    }\n",
       "\n",
       "    .dataframe tbody tr th {\n",
       "        vertical-align: top;\n",
       "    }\n",
       "\n",
       "    .dataframe thead th {\n",
       "        text-align: right;\n",
       "    }\n",
       "</style>\n",
       "<table border=\"1\" class=\"dataframe\">\n",
       "  <thead>\n",
       "    <tr style=\"text-align: right;\">\n",
       "      <th></th>\n",
       "      <th>Category</th>\n",
       "      <th>Message</th>\n",
       "    </tr>\n",
       "  </thead>\n",
       "  <tbody>\n",
       "    <tr>\n",
       "      <th>0</th>\n",
       "      <td>ham</td>\n",
       "      <td>Go until jurong point, crazy.. Available only ...</td>\n",
       "    </tr>\n",
       "    <tr>\n",
       "      <th>1</th>\n",
       "      <td>ham</td>\n",
       "      <td>Ok lar... Joking wif u oni...</td>\n",
       "    </tr>\n",
       "    <tr>\n",
       "      <th>2</th>\n",
       "      <td>spam</td>\n",
       "      <td>Free entry in 2 a wkly comp to win FA Cup fina...</td>\n",
       "    </tr>\n",
       "    <tr>\n",
       "      <th>3</th>\n",
       "      <td>ham</td>\n",
       "      <td>U dun say so early hor... U c already then say...</td>\n",
       "    </tr>\n",
       "    <tr>\n",
       "      <th>4</th>\n",
       "      <td>ham</td>\n",
       "      <td>Nah I don't think he goes to usf, he lives aro...</td>\n",
       "    </tr>\n",
       "  </tbody>\n",
       "</table>\n",
       "</div>"
      ],
      "text/plain": [
       "  Category                                            Message\n",
       "0      ham  Go until jurong point, crazy.. Available only ...\n",
       "1      ham                      Ok lar... Joking wif u oni...\n",
       "2     spam  Free entry in 2 a wkly comp to win FA Cup fina...\n",
       "3      ham  U dun say so early hor... U c already then say...\n",
       "4      ham  Nah I don't think he goes to usf, he lives aro..."
      ]
     },
     "execution_count": 4,
     "metadata": {},
     "output_type": "execute_result"
    }
   ],
   "source": [
    "df_ham = pd.read_csv(\"SPAM text message 20170820 - Data.csv\")\n",
    "df_ham.head()"
   ]
  },
  {
   "cell_type": "code",
   "execution_count": 5,
   "metadata": {
    "scrolled": true
   },
   "outputs": [
    {
     "data": {
      "text/plain": [
       "(5572, 2)"
      ]
     },
     "execution_count": 5,
     "metadata": {},
     "output_type": "execute_result"
    }
   ],
   "source": [
    "df_ham.shape"
   ]
  },
  {
   "cell_type": "markdown",
   "metadata": {},
   "source": [
    "## Exploratory analysis\n",
    "\n",
    "#### Discovery \n",
    "SPAMs do have patterns like: obvious words (free, winner, urgent etc.), upper-case letters and combination of these with exclamation mark, letter X, misspellings, several digits etc."
   ]
  },
  {
   "cell_type": "code",
   "execution_count": 6,
   "metadata": {
    "scrolled": false
   },
   "outputs": [
    {
     "data": {
      "text/html": [
       "<div>\n",
       "<style scoped>\n",
       "    .dataframe tbody tr th:only-of-type {\n",
       "        vertical-align: middle;\n",
       "    }\n",
       "\n",
       "    .dataframe tbody tr th {\n",
       "        vertical-align: top;\n",
       "    }\n",
       "\n",
       "    .dataframe thead th {\n",
       "        text-align: right;\n",
       "    }\n",
       "</style>\n",
       "<table border=\"1\" class=\"dataframe\">\n",
       "  <thead>\n",
       "    <tr style=\"text-align: right;\">\n",
       "      <th></th>\n",
       "      <th>Category</th>\n",
       "      <th>Message</th>\n",
       "    </tr>\n",
       "  </thead>\n",
       "  <tbody>\n",
       "    <tr>\n",
       "      <th>0</th>\n",
       "      <td>ham</td>\n",
       "      <td>Go until jurong point, crazy.. Available only ...</td>\n",
       "    </tr>\n",
       "    <tr>\n",
       "      <th>1</th>\n",
       "      <td>ham</td>\n",
       "      <td>Ok lar... Joking wif u oni...</td>\n",
       "    </tr>\n",
       "    <tr>\n",
       "      <th>2</th>\n",
       "      <td>spam</td>\n",
       "      <td>Free entry in 2 a wkly comp to win FA Cup fina...</td>\n",
       "    </tr>\n",
       "    <tr>\n",
       "      <th>3</th>\n",
       "      <td>ham</td>\n",
       "      <td>U dun say so early hor... U c already then say...</td>\n",
       "    </tr>\n",
       "    <tr>\n",
       "      <th>4</th>\n",
       "      <td>ham</td>\n",
       "      <td>Nah I don't think he goes to usf, he lives aro...</td>\n",
       "    </tr>\n",
       "    <tr>\n",
       "      <th>5</th>\n",
       "      <td>spam</td>\n",
       "      <td>FreeMsg Hey there darling it's been 3 week's n...</td>\n",
       "    </tr>\n",
       "    <tr>\n",
       "      <th>6</th>\n",
       "      <td>ham</td>\n",
       "      <td>Even my brother is not like to speak with me. ...</td>\n",
       "    </tr>\n",
       "    <tr>\n",
       "      <th>7</th>\n",
       "      <td>ham</td>\n",
       "      <td>As per your request 'Melle Melle (Oru Minnamin...</td>\n",
       "    </tr>\n",
       "    <tr>\n",
       "      <th>8</th>\n",
       "      <td>spam</td>\n",
       "      <td>WINNER!! As a valued network customer you have...</td>\n",
       "    </tr>\n",
       "    <tr>\n",
       "      <th>9</th>\n",
       "      <td>spam</td>\n",
       "      <td>Had your mobile 11 months or more? U R entitle...</td>\n",
       "    </tr>\n",
       "    <tr>\n",
       "      <th>10</th>\n",
       "      <td>ham</td>\n",
       "      <td>I'm gonna be home soon and i don't want to tal...</td>\n",
       "    </tr>\n",
       "    <tr>\n",
       "      <th>11</th>\n",
       "      <td>spam</td>\n",
       "      <td>SIX chances to win CASH! From 100 to 20,000 po...</td>\n",
       "    </tr>\n",
       "    <tr>\n",
       "      <th>12</th>\n",
       "      <td>spam</td>\n",
       "      <td>URGENT! You have won a 1 week FREE membership ...</td>\n",
       "    </tr>\n",
       "    <tr>\n",
       "      <th>13</th>\n",
       "      <td>ham</td>\n",
       "      <td>I've been searching for the right words to tha...</td>\n",
       "    </tr>\n",
       "    <tr>\n",
       "      <th>14</th>\n",
       "      <td>ham</td>\n",
       "      <td>I HAVE A DATE ON SUNDAY WITH WILL!!</td>\n",
       "    </tr>\n",
       "    <tr>\n",
       "      <th>15</th>\n",
       "      <td>spam</td>\n",
       "      <td>XXXMobileMovieClub: To use your credit, click ...</td>\n",
       "    </tr>\n",
       "    <tr>\n",
       "      <th>16</th>\n",
       "      <td>ham</td>\n",
       "      <td>Oh k...i'm watching here:)</td>\n",
       "    </tr>\n",
       "    <tr>\n",
       "      <th>17</th>\n",
       "      <td>ham</td>\n",
       "      <td>Eh u remember how 2 spell his name... Yes i di...</td>\n",
       "    </tr>\n",
       "    <tr>\n",
       "      <th>18</th>\n",
       "      <td>ham</td>\n",
       "      <td>Fine if thats the way u feel. Thats the way ...</td>\n",
       "    </tr>\n",
       "    <tr>\n",
       "      <th>19</th>\n",
       "      <td>spam</td>\n",
       "      <td>England v Macedonia - dont miss the goals/team...</td>\n",
       "    </tr>\n",
       "    <tr>\n",
       "      <th>20</th>\n",
       "      <td>ham</td>\n",
       "      <td>Is that seriously how you spell his name?</td>\n",
       "    </tr>\n",
       "    <tr>\n",
       "      <th>21</th>\n",
       "      <td>ham</td>\n",
       "      <td>I‘m going to try for 2 months ha ha only joking</td>\n",
       "    </tr>\n",
       "    <tr>\n",
       "      <th>22</th>\n",
       "      <td>ham</td>\n",
       "      <td>So ü pay first lar... Then when is da stock co...</td>\n",
       "    </tr>\n",
       "    <tr>\n",
       "      <th>23</th>\n",
       "      <td>ham</td>\n",
       "      <td>Aft i finish my lunch then i go str down lor. ...</td>\n",
       "    </tr>\n",
       "    <tr>\n",
       "      <th>24</th>\n",
       "      <td>ham</td>\n",
       "      <td>Ffffffffff. Alright no way I can meet up with ...</td>\n",
       "    </tr>\n",
       "  </tbody>\n",
       "</table>\n",
       "</div>"
      ],
      "text/plain": [
       "   Category                                            Message\n",
       "0       ham  Go until jurong point, crazy.. Available only ...\n",
       "1       ham                      Ok lar... Joking wif u oni...\n",
       "2      spam  Free entry in 2 a wkly comp to win FA Cup fina...\n",
       "3       ham  U dun say so early hor... U c already then say...\n",
       "4       ham  Nah I don't think he goes to usf, he lives aro...\n",
       "5      spam  FreeMsg Hey there darling it's been 3 week's n...\n",
       "6       ham  Even my brother is not like to speak with me. ...\n",
       "7       ham  As per your request 'Melle Melle (Oru Minnamin...\n",
       "8      spam  WINNER!! As a valued network customer you have...\n",
       "9      spam  Had your mobile 11 months or more? U R entitle...\n",
       "10      ham  I'm gonna be home soon and i don't want to tal...\n",
       "11     spam  SIX chances to win CASH! From 100 to 20,000 po...\n",
       "12     spam  URGENT! You have won a 1 week FREE membership ...\n",
       "13      ham  I've been searching for the right words to tha...\n",
       "14      ham                I HAVE A DATE ON SUNDAY WITH WILL!!\n",
       "15     spam  XXXMobileMovieClub: To use your credit, click ...\n",
       "16      ham                         Oh k...i'm watching here:)\n",
       "17      ham  Eh u remember how 2 spell his name... Yes i di...\n",
       "18      ham  Fine if thats the way u feel. Thats the way ...\n",
       "19     spam  England v Macedonia - dont miss the goals/team...\n",
       "20      ham          Is that seriously how you spell his name?\n",
       "21      ham    I‘m going to try for 2 months ha ha only joking\n",
       "22      ham  So ü pay first lar... Then when is da stock co...\n",
       "23      ham  Aft i finish my lunch then i go str down lor. ...\n",
       "24      ham  Ffffffffff. Alright no way I can meet up with ..."
      ]
     },
     "execution_count": 6,
     "metadata": {},
     "output_type": "execute_result"
    }
   ],
   "source": [
    "df_ham[:25] "
   ]
  },
  {
   "cell_type": "markdown",
   "metadata": {},
   "source": [
    "### Create dummy variable\n",
    "Categories are replaced by integers for further processing."
   ]
  },
  {
   "cell_type": "code",
   "execution_count": 7,
   "metadata": {},
   "outputs": [
    {
     "data": {
      "text/html": [
       "<div>\n",
       "<style scoped>\n",
       "    .dataframe tbody tr th:only-of-type {\n",
       "        vertical-align: middle;\n",
       "    }\n",
       "\n",
       "    .dataframe tbody tr th {\n",
       "        vertical-align: top;\n",
       "    }\n",
       "\n",
       "    .dataframe thead th {\n",
       "        text-align: right;\n",
       "    }\n",
       "</style>\n",
       "<table border=\"1\" class=\"dataframe\">\n",
       "  <thead>\n",
       "    <tr style=\"text-align: right;\">\n",
       "      <th></th>\n",
       "      <th>Category</th>\n",
       "      <th>Message</th>\n",
       "    </tr>\n",
       "  </thead>\n",
       "  <tbody>\n",
       "    <tr>\n",
       "      <th>0</th>\n",
       "      <td>0</td>\n",
       "      <td>Go until jurong point, crazy.. Available only ...</td>\n",
       "    </tr>\n",
       "    <tr>\n",
       "      <th>1</th>\n",
       "      <td>0</td>\n",
       "      <td>Ok lar... Joking wif u oni...</td>\n",
       "    </tr>\n",
       "    <tr>\n",
       "      <th>2</th>\n",
       "      <td>1</td>\n",
       "      <td>Free entry in 2 a wkly comp to win FA Cup fina...</td>\n",
       "    </tr>\n",
       "    <tr>\n",
       "      <th>3</th>\n",
       "      <td>0</td>\n",
       "      <td>U dun say so early hor... U c already then say...</td>\n",
       "    </tr>\n",
       "    <tr>\n",
       "      <th>4</th>\n",
       "      <td>0</td>\n",
       "      <td>Nah I don't think he goes to usf, he lives aro...</td>\n",
       "    </tr>\n",
       "  </tbody>\n",
       "</table>\n",
       "</div>"
      ],
      "text/plain": [
       "   Category                                            Message\n",
       "0         0  Go until jurong point, crazy.. Available only ...\n",
       "1         0                      Ok lar... Joking wif u oni...\n",
       "2         1  Free entry in 2 a wkly comp to win FA Cup fina...\n",
       "3         0  U dun say so early hor... U c already then say...\n",
       "4         0  Nah I don't think he goes to usf, he lives aro..."
      ]
     },
     "execution_count": 7,
     "metadata": {},
     "output_type": "execute_result"
    }
   ],
   "source": [
    "## replace Category \n",
    "dict_trans = {'ham' : 0, 'spam': 1}\n",
    "df_ham = df_ham.replace({\"Category\": dict_trans})\n",
    "\n",
    "df_ham.head()"
   ]
  },
  {
   "cell_type": "markdown",
   "metadata": {},
   "source": [
    "### Fraction per category\n",
    "As the dataset is inbalanced, the fractions per category are calculated to take this inbalance into account when building the model. "
   ]
  },
  {
   "cell_type": "code",
   "execution_count": 8,
   "metadata": {},
   "outputs": [
    {
     "data": {
      "text/html": [
       "<div>\n",
       "<style scoped>\n",
       "    .dataframe tbody tr th:only-of-type {\n",
       "        vertical-align: middle;\n",
       "    }\n",
       "\n",
       "    .dataframe tbody tr th {\n",
       "        vertical-align: top;\n",
       "    }\n",
       "\n",
       "    .dataframe thead th {\n",
       "        text-align: right;\n",
       "    }\n",
       "</style>\n",
       "<table border=\"1\" class=\"dataframe\">\n",
       "  <thead>\n",
       "    <tr style=\"text-align: right;\">\n",
       "      <th></th>\n",
       "      <th>Message</th>\n",
       "      <th>fraction</th>\n",
       "    </tr>\n",
       "    <tr>\n",
       "      <th>Category</th>\n",
       "      <th></th>\n",
       "      <th></th>\n",
       "    </tr>\n",
       "  </thead>\n",
       "  <tbody>\n",
       "    <tr>\n",
       "      <th>0</th>\n",
       "      <td>4825</td>\n",
       "      <td>0.865937</td>\n",
       "    </tr>\n",
       "    <tr>\n",
       "      <th>1</th>\n",
       "      <td>747</td>\n",
       "      <td>0.134063</td>\n",
       "    </tr>\n",
       "  </tbody>\n",
       "</table>\n",
       "</div>"
      ],
      "text/plain": [
       "          Message  fraction\n",
       "Category                   \n",
       "0            4825  0.865937\n",
       "1             747  0.134063"
      ]
     },
     "execution_count": 8,
     "metadata": {},
     "output_type": "execute_result"
    }
   ],
   "source": [
    "# calculate fraction per category\n",
    "grouped = df_ham.groupby('Category').count()\n",
    "grouped['fraction']=grouped['Message'].div(len(df_ham))\n",
    "\n",
    "grouped"
   ]
  },
  {
   "cell_type": "code",
   "execution_count": 9,
   "metadata": {},
   "outputs": [],
   "source": [
    "# class weight\n",
    "cat = grouped.index.values\n",
    "frac = grouped['fraction'].values\n",
    "class_weight = dict(zip(cat, frac))"
   ]
  },
  {
   "cell_type": "markdown",
   "metadata": {},
   "source": [
    "### Data pre-processing\n",
    "Train and test split is performed with a test size of 0.3."
   ]
  },
  {
   "cell_type": "code",
   "execution_count": 11,
   "metadata": {},
   "outputs": [],
   "source": [
    "# data pre-processing\n",
    "labels = df_ham['Category'].values\n",
    "messages = df_ham['Message'].values\n",
    "messages_train2, messages_test2, y_train2, y_test2 = train_test_split(messages, labels, test_size=0.3, random_state=42)"
   ]
  },
  {
   "cell_type": "code",
   "execution_count": 13,
   "metadata": {},
   "outputs": [
    {
     "data": {
      "text/plain": [
       "array([0, 0, 0, ..., 0, 0, 0])"
      ]
     },
     "execution_count": 13,
     "metadata": {},
     "output_type": "execute_result"
    }
   ],
   "source": [
    "y_train2"
   ]
  },
  {
   "cell_type": "markdown",
   "metadata": {},
   "source": [
    "### Word Embeddings\n",
    "The word embeddings are generated using Keras' tokenizer. The aim is to integrate the semantic information into the input."
   ]
  },
  {
   "cell_type": "code",
   "execution_count": 14,
   "metadata": {},
   "outputs": [
    {
     "name": "stdout",
     "output_type": "stream",
     "text": [
      "[19, 4, 1021, 112, 93, 6, 40, 358]\n",
      "on a Tuesday night r u 4 real\n"
     ]
    }
   ],
   "source": [
    "# Word Embeddings\n",
    "from keras.preprocessing.text import Tokenizer\n",
    "tokenizer=Tokenizer(num_words=5000, char_level=False)\n",
    "tokenizer.fit_on_texts(messages_train2) # just on the training set...\n",
    "\n",
    "X2_train = tokenizer.texts_to_sequences(messages_train2)\n",
    "X2_test = tokenizer.texts_to_sequences(messages_test2)\n",
    "\n",
    "vocab_size = len(tokenizer.word_index) + 1 # Adding 1\n",
    "\n",
    "print(X2_train[1])\n",
    "print(messages_train2[1])"
   ]
  },
  {
   "cell_type": "code",
   "execution_count": 15,
   "metadata": {},
   "outputs": [],
   "source": [
    "# pad sequences\n",
    "maxlen = 100\n",
    "\n",
    "X2_train = pad_sequences(X2_train, padding='post', maxlen=maxlen)\n",
    "X2_test = pad_sequences(X2_test, padding='post', maxlen=maxlen)"
   ]
  },
  {
   "cell_type": "markdown",
   "metadata": {},
   "source": [
    "### Model Building"
   ]
  },
  {
   "cell_type": "code",
   "execution_count": 16,
   "metadata": {},
   "outputs": [
    {
     "name": "stdout",
     "output_type": "stream",
     "text": [
      "WARNING:tensorflow:From /Users/andiklausli/opt/miniconda3/lib/python3.7/site-packages/tensorflow/python/keras/initializers.py:119: calling RandomUniform.__init__ (from tensorflow.python.ops.init_ops) with dtype is deprecated and will be removed in a future version.\n",
      "Instructions for updating:\n",
      "Call initializer instance with the dtype argument instead of passing it to the constructor\n",
      "WARNING:tensorflow:From /Users/andiklausli/opt/miniconda3/lib/python3.7/site-packages/tensorflow/python/ops/init_ops.py:1251: calling VarianceScaling.__init__ (from tensorflow.python.ops.init_ops) with dtype is deprecated and will be removed in a future version.\n",
      "Instructions for updating:\n",
      "Call initializer instance with the dtype argument instead of passing it to the constructor\n",
      "WARNING:tensorflow:From /Users/andiklausli/opt/miniconda3/lib/python3.7/site-packages/tensorflow/python/ops/nn_impl.py:180: add_dispatch_support.<locals>.wrapper (from tensorflow.python.ops.array_ops) is deprecated and will be removed in a future version.\n",
      "Instructions for updating:\n",
      "Use tf.where in 2.0, which has the same broadcast rule as np.where\n",
      "Model: \"sequential\"\n",
      "_________________________________________________________________\n",
      "Layer (type)                 Output Shape              Param #   \n",
      "=================================================================\n",
      "embedding (Embedding)        (None, 100, 50)           375050    \n",
      "_________________________________________________________________\n",
      "flatten (Flatten)            (None, 5000)              0         \n",
      "_________________________________________________________________\n",
      "dense (Dense)                (None, 64)                320064    \n",
      "_________________________________________________________________\n",
      "dense_1 (Dense)              (None, 1)                 65        \n",
      "=================================================================\n",
      "Total params: 695,179\n",
      "Trainable params: 695,179\n",
      "Non-trainable params: 0\n",
      "_________________________________________________________________\n"
     ]
    }
   ],
   "source": [
    "# building the model2 with the Embedding Layer\n",
    "embedding_dim = 50 # the smaller the better for the computational performance...\n",
    "\n",
    "model2 = keras.Sequential()\n",
    "model2.add(layers.Embedding(input_dim=vocab_size,\n",
    "                           output_dim=embedding_dim,\n",
    "                           input_length=maxlen))\n",
    "model2.add(layers.Flatten()) #if after the embedding layer a Dense layer follows, the output has to be flattened\n",
    "model2.add(layers.Dense(64, activation='relu')) #same layers and parameters as in model 1\n",
    "model2.add(layers.Dense(1, activation='sigmoid'))\n",
    "model2.compile(optimizer='adam',\n",
    "              loss='binary_crossentropy',\n",
    "              metrics=[metrics.mae, metrics.binary_accuracy])\n",
    "\n",
    "model2.summary()"
   ]
  },
  {
   "cell_type": "markdown",
   "metadata": {},
   "source": [
    "### Fitting the Model"
   ]
  },
  {
   "cell_type": "code",
   "execution_count": 14,
   "metadata": {},
   "outputs": [
    {
     "name": "stdout",
     "output_type": "stream",
     "text": [
      "Train on 3900 samples, validate on 1672 samples\n"
     ]
    },
    {
     "name": "stderr",
     "output_type": "stream",
     "text": [
      "2021-09-10 23:15:51.041795: I tensorflow/core/platform/cpu_feature_guard.cc:145] This TensorFlow binary is optimized with Intel(R) MKL-DNN to use the following CPU instructions in performance critical operations:  SSE4.1 SSE4.2 AVX AVX2 FMA\n",
      "To enable them in non-MKL-DNN operations, rebuild TensorFlow with the appropriate compiler flags.\n",
      "2021-09-10 23:15:51.042670: I tensorflow/core/common_runtime/process_util.cc:115] Creating new thread pool with default inter op setting: 16. Tune using inter_op_parallelism_threads for best performance.\n"
     ]
    },
    {
     "name": "stdout",
     "output_type": "stream",
     "text": [
      "Epoch 1/100\n",
      "3900/3900 [==============================] - 3s 772us/sample - loss: 0.0406 - mean_absolute_error: 0.1012 - binary_accuracy: 0.9200 - val_loss: 0.1270 - val_mean_absolute_error: 0.0770 - val_binary_accuracy: 0.9839\n",
      "Epoch 2/100\n",
      "3900/3900 [==============================] - 2s 603us/sample - loss: 0.0118 - mean_absolute_error: 0.0452 - binary_accuracy: 0.9892 - val_loss: 0.0669 - val_mean_absolute_error: 0.0175 - val_binary_accuracy: 0.9862\n",
      "Epoch 3/100\n",
      "3900/3900 [==============================] - 2s 580us/sample - loss: 0.0017 - mean_absolute_error: 0.0046 - binary_accuracy: 0.9972 - val_loss: 0.0841 - val_mean_absolute_error: 0.0160 - val_binary_accuracy: 0.9856\n",
      "Epoch 4/100\n",
      "3900/3900 [==============================] - 2s 550us/sample - loss: 9.0762e-04 - mean_absolute_error: 0.0021 - binary_accuracy: 0.9987 - val_loss: 0.0632 - val_mean_absolute_error: 0.0127 - val_binary_accuracy: 0.9898\n",
      "Epoch 5/100\n",
      "3900/3900 [==============================] - 2s 553us/sample - loss: 9.9920e-04 - mean_absolute_error: 0.0022 - binary_accuracy: 0.9982 - val_loss: 0.0716 - val_mean_absolute_error: 0.0124 - val_binary_accuracy: 0.9892\n",
      "Epoch 6/100\n",
      "3900/3900 [==============================] - 2s 548us/sample - loss: 2.9410e-04 - mean_absolute_error: 0.0011 - binary_accuracy: 0.9995 - val_loss: 0.1588 - val_mean_absolute_error: 0.0281 - val_binary_accuracy: 0.9725\n",
      "Epoch 7/100\n",
      "3900/3900 [==============================] - 2s 572us/sample - loss: 1.3021e-04 - mean_absolute_error: 7.2693e-04 - binary_accuracy: 0.9997 - val_loss: 0.0772 - val_mean_absolute_error: 0.0105 - val_binary_accuracy: 0.9910\n",
      "Epoch 8/100\n",
      "3900/3900 [==============================] - 2s 564us/sample - loss: 1.9952e-05 - mean_absolute_error: 9.1255e-05 - binary_accuracy: 1.0000 - val_loss: 0.0795 - val_mean_absolute_error: 0.0102 - val_binary_accuracy: 0.9910\n",
      "Epoch 9/100\n",
      "3900/3900 [==============================] - 2s 564us/sample - loss: 1.1355e-05 - mean_absolute_error: 5.2765e-05 - binary_accuracy: 1.0000 - val_loss: 0.0788 - val_mean_absolute_error: 0.0102 - val_binary_accuracy: 0.9898\n",
      "Epoch 10/100\n",
      "3900/3900 [==============================] - 2s 547us/sample - loss: 7.0021e-06 - mean_absolute_error: 3.0838e-05 - binary_accuracy: 1.0000 - val_loss: 0.0824 - val_mean_absolute_error: 0.0101 - val_binary_accuracy: 0.9904\n",
      "Epoch 11/100\n",
      "3900/3900 [==============================] - 2s 588us/sample - loss: 5.0048e-06 - mean_absolute_error: 2.3304e-05 - binary_accuracy: 1.0000 - val_loss: 0.0809 - val_mean_absolute_error: 0.0102 - val_binary_accuracy: 0.9898\n",
      "Epoch 12/100\n",
      "3900/3900 [==============================] - 2s 636us/sample - loss: 3.6349e-06 - mean_absolute_error: 1.6083e-05 - binary_accuracy: 1.0000 - val_loss: 0.0834 - val_mean_absolute_error: 0.0101 - val_binary_accuracy: 0.9898\n",
      "Epoch 13/100\n",
      "3900/3900 [==============================] - 2s 593us/sample - loss: 2.6181e-06 - mean_absolute_error: 1.1500e-05 - binary_accuracy: 1.0000 - val_loss: 0.0853 - val_mean_absolute_error: 0.0100 - val_binary_accuracy: 0.9898\n",
      "Epoch 14/100\n",
      "3900/3900 [==============================] - 2s 606us/sample - loss: 2.0317e-06 - mean_absolute_error: 9.2775e-06 - binary_accuracy: 1.0000 - val_loss: 0.0854 - val_mean_absolute_error: 0.0100 - val_binary_accuracy: 0.9898\n",
      "Epoch 15/100\n",
      "3900/3900 [==============================] - 2s 611us/sample - loss: 1.5761e-06 - mean_absolute_error: 6.6843e-06 - binary_accuracy: 1.0000 - val_loss: 0.0878 - val_mean_absolute_error: 0.0100 - val_binary_accuracy: 0.9898\n",
      "Epoch 16/100\n",
      "3900/3900 [==============================] - 2s 604us/sample - loss: 1.1709e-06 - mean_absolute_error: 5.1556e-06 - binary_accuracy: 1.0000 - val_loss: 0.0893 - val_mean_absolute_error: 0.0100 - val_binary_accuracy: 0.9898\n",
      "Epoch 17/100\n",
      "3900/3900 [==============================] - 2s 603us/sample - loss: 9.5484e-07 - mean_absolute_error: 4.1265e-06 - binary_accuracy: 1.0000 - val_loss: 0.0913 - val_mean_absolute_error: 0.0100 - val_binary_accuracy: 0.9898\n",
      "Epoch 18/100\n",
      "3900/3900 [==============================] - 2s 568us/sample - loss: 7.7736e-07 - mean_absolute_error: 3.5556e-06 - binary_accuracy: 1.0000 - val_loss: 0.0913 - val_mean_absolute_error: 0.0100 - val_binary_accuracy: 0.9898\n",
      "Epoch 19/100\n",
      "3900/3900 [==============================] - 2s 551us/sample - loss: 5.8122e-07 - mean_absolute_error: 2.5758e-06 - binary_accuracy: 1.0000 - val_loss: 0.0918 - val_mean_absolute_error: 0.0100 - val_binary_accuracy: 0.9904\n",
      "Epoch 20/100\n",
      "3900/3900 [==============================] - 2s 573us/sample - loss: 4.7313e-07 - mean_absolute_error: 2.1668e-06 - binary_accuracy: 1.0000 - val_loss: 0.0912 - val_mean_absolute_error: 0.0100 - val_binary_accuracy: 0.9898\n",
      "Epoch 21/100\n",
      "3900/3900 [==============================] - 2s 580us/sample - loss: 3.8212e-07 - mean_absolute_error: 1.6119e-06 - binary_accuracy: 1.0000 - val_loss: 0.0930 - val_mean_absolute_error: 0.0100 - val_binary_accuracy: 0.9898\n",
      "Epoch 22/100\n",
      "3900/3900 [==============================] - 2s 547us/sample - loss: 2.9485e-07 - mean_absolute_error: 1.1980e-06 - binary_accuracy: 1.0000 - val_loss: 0.0956 - val_mean_absolute_error: 0.0100 - val_binary_accuracy: 0.9904\n",
      "Epoch 23/100\n",
      "3900/3900 [==============================] - 2s 556us/sample - loss: 2.3727e-07 - mean_absolute_error: 1.0978e-06 - binary_accuracy: 1.0000 - val_loss: 0.0947 - val_mean_absolute_error: 0.0100 - val_binary_accuracy: 0.9898\n",
      "Epoch 24/100\n",
      "3900/3900 [==============================] - 2s 578us/sample - loss: 1.8653e-07 - mean_absolute_error: 7.3988e-07 - binary_accuracy: 1.0000 - val_loss: 0.0978 - val_mean_absolute_error: 0.0100 - val_binary_accuracy: 0.9904\n",
      "Epoch 25/100\n",
      "3900/3900 [==============================] - 2s 592us/sample - loss: 1.5360e-07 - mean_absolute_error: 6.8007e-07 - binary_accuracy: 1.0000 - val_loss: 0.0982 - val_mean_absolute_error: 0.0100 - val_binary_accuracy: 0.9898\n",
      "Epoch 26/100\n",
      "3900/3900 [==============================] - 2s 581us/sample - loss: 1.2746e-07 - mean_absolute_error: 5.4464e-07 - binary_accuracy: 1.0000 - val_loss: 0.0987 - val_mean_absolute_error: 0.0100 - val_binary_accuracy: 0.9898\n",
      "Epoch 27/100\n",
      "3900/3900 [==============================] - 3s 664us/sample - loss: 1.0076e-07 - mean_absolute_error: 4.2727e-07 - binary_accuracy: 1.0000 - val_loss: 0.1005 - val_mean_absolute_error: 0.0100 - val_binary_accuracy: 0.9898\n",
      "Epoch 28/100\n",
      "3900/3900 [==============================] - 3s 684us/sample - loss: 8.4887e-08 - mean_absolute_error: 3.9462e-07 - binary_accuracy: 1.0000 - val_loss: 0.0998 - val_mean_absolute_error: 0.0100 - val_binary_accuracy: 0.9898\n",
      "Epoch 29/100\n",
      "3900/3900 [==============================] - 3s 672us/sample - loss: 6.8019e-08 - mean_absolute_error: 2.6816e-07 - binary_accuracy: 1.0000 - val_loss: 0.1022 - val_mean_absolute_error: 0.0100 - val_binary_accuracy: 0.9898\n",
      "Epoch 30/100\n",
      "3900/3900 [==============================] - 3s 644us/sample - loss: 5.6147e-08 - mean_absolute_error: 2.4142e-07 - binary_accuracy: 1.0000 - val_loss: 0.1032 - val_mean_absolute_error: 0.0100 - val_binary_accuracy: 0.9898\n",
      "Epoch 31/100\n",
      "3900/3900 [==============================] - 3s 643us/sample - loss: 4.6022e-08 - mean_absolute_error: 2.0010e-07 - binary_accuracy: 1.0000 - val_loss: 0.1037 - val_mean_absolute_error: 0.0100 - val_binary_accuracy: 0.9898\n",
      "Epoch 32/100\n",
      "3900/3900 [==============================] - 2s 631us/sample - loss: 3.7866e-08 - mean_absolute_error: 1.6534e-07 - binary_accuracy: 1.0000 - val_loss: 0.1047 - val_mean_absolute_error: 0.0100 - val_binary_accuracy: 0.9898\n",
      "Epoch 33/100\n",
      "3900/3900 [==============================] - 3s 642us/sample - loss: 3.1993e-08 - mean_absolute_error: 1.3727e-07 - binary_accuracy: 1.0000 - val_loss: 0.1041 - val_mean_absolute_error: 0.0101 - val_binary_accuracy: 0.9898\n",
      "Epoch 34/100\n",
      "3900/3900 [==============================] - 3s 650us/sample - loss: 2.5609e-08 - mean_absolute_error: 1.0170e-07 - binary_accuracy: 1.0000 - val_loss: 0.1074 - val_mean_absolute_error: 0.0101 - val_binary_accuracy: 0.9898\n",
      "Epoch 35/100\n",
      "3900/3900 [==============================] - 3s 666us/sample - loss: 2.1628e-08 - mean_absolute_error: 9.9356e-08 - binary_accuracy: 1.0000 - val_loss: 0.1066 - val_mean_absolute_error: 0.0101 - val_binary_accuracy: 0.9898\n"
     ]
    },
    {
     "name": "stdout",
     "output_type": "stream",
     "text": [
      "Epoch 36/100\n",
      "3900/3900 [==============================] - 3s 672us/sample - loss: 1.8577e-08 - mean_absolute_error: 7.8020e-08 - binary_accuracy: 1.0000 - val_loss: 0.1077 - val_mean_absolute_error: 0.0101 - val_binary_accuracy: 0.9898\n",
      "Epoch 37/100\n",
      "3900/3900 [==============================] - 3s 647us/sample - loss: 1.5051e-08 - mean_absolute_error: 5.8788e-08 - binary_accuracy: 1.0000 - val_loss: 0.1099 - val_mean_absolute_error: 0.0101 - val_binary_accuracy: 0.9898\n",
      "Epoch 38/100\n",
      "3900/3900 [==============================] - 3s 646us/sample - loss: 1.3137e-08 - mean_absolute_error: 6.0293e-08 - binary_accuracy: 1.0000 - val_loss: 0.1092 - val_mean_absolute_error: 0.0101 - val_binary_accuracy: 0.9898\n",
      "Epoch 39/100\n",
      "3900/3900 [==============================] - 3s 708us/sample - loss: 1.0996e-08 - mean_absolute_error: 4.4252e-08 - binary_accuracy: 1.0000 - val_loss: 0.1107 - val_mean_absolute_error: 0.0101 - val_binary_accuracy: 0.9898\n",
      "Epoch 40/100\n",
      "3900/3900 [==============================] - 3s 716us/sample - loss: 9.2633e-09 - mean_absolute_error: 3.7499e-08 - binary_accuracy: 1.0000 - val_loss: 0.1123 - val_mean_absolute_error: 0.0101 - val_binary_accuracy: 0.9898\n",
      "Epoch 41/100\n",
      "3900/3900 [==============================] - 3s 738us/sample - loss: 7.7883e-09 - mean_absolute_error: 3.7007e-08 - binary_accuracy: 1.0000 - val_loss: 0.1112 - val_mean_absolute_error: 0.0101 - val_binary_accuracy: 0.9898\n",
      "Epoch 42/100\n",
      "3900/3900 [==============================] - 3s 704us/sample - loss: 7.0422e-09 - mean_absolute_error: 2.6361e-08 - binary_accuracy: 1.0000 - val_loss: 0.1140 - val_mean_absolute_error: 0.0101 - val_binary_accuracy: 0.9898\n",
      "Epoch 43/100\n",
      "3900/3900 [==============================] - 3s 680us/sample - loss: 5.9571e-09 - mean_absolute_error: 2.6306e-08 - binary_accuracy: 1.0000 - val_loss: 0.1140 - val_mean_absolute_error: 0.0101 - val_binary_accuracy: 0.9898\n",
      "Epoch 44/100\n",
      "3900/3900 [==============================] - 3s 675us/sample - loss: 5.1281e-09 - mean_absolute_error: 2.1220e-08 - binary_accuracy: 1.0000 - val_loss: 0.1149 - val_mean_absolute_error: 0.0101 - val_binary_accuracy: 0.9898\n",
      "Epoch 45/100\n",
      "3900/3900 [==============================] - 3s 668us/sample - loss: 4.3410e-09 - mean_absolute_error: 1.7813e-08 - binary_accuracy: 1.0000 - val_loss: 0.1163 - val_mean_absolute_error: 0.0101 - val_binary_accuracy: 0.9898\n",
      "Epoch 46/100\n",
      "3900/3900 [==============================] - 3s 675us/sample - loss: 3.7362e-09 - mean_absolute_error: 1.6511e-08 - binary_accuracy: 1.0000 - val_loss: 0.1161 - val_mean_absolute_error: 0.0101 - val_binary_accuracy: 0.9898\n",
      "Epoch 47/100\n",
      "3900/3900 [==============================] - 3s 645us/sample - loss: 3.2725e-09 - mean_absolute_error: 1.3138e-08 - binary_accuracy: 1.0000 - val_loss: 0.1179 - val_mean_absolute_error: 0.0101 - val_binary_accuracy: 0.9898\n",
      "Epoch 48/100\n",
      "3900/3900 [==============================] - 3s 661us/sample - loss: 2.9599e-09 - mean_absolute_error: 1.2290e-08 - binary_accuracy: 1.0000 - val_loss: 0.1188 - val_mean_absolute_error: 0.0101 - val_binary_accuracy: 0.9898\n",
      "Epoch 49/100\n",
      "3900/3900 [==============================] - 3s 659us/sample - loss: 2.4960e-09 - mean_absolute_error: 1.0647e-08 - binary_accuracy: 1.0000 - val_loss: 0.1199 - val_mean_absolute_error: 0.0101 - val_binary_accuracy: 0.9898\n",
      "Epoch 50/100\n",
      "3900/3900 [==============================] - 3s 653us/sample - loss: 2.1905e-09 - mean_absolute_error: 8.9336e-09 - binary_accuracy: 1.0000 - val_loss: 0.1210 - val_mean_absolute_error: 0.0101 - val_binary_accuracy: 0.9898\n",
      "Epoch 51/100\n",
      "3900/3900 [==============================] - 3s 718us/sample - loss: 1.9509e-09 - mean_absolute_error: 8.7196e-09 - binary_accuracy: 1.0000 - val_loss: 0.1200 - val_mean_absolute_error: 0.0101 - val_binary_accuracy: 0.9898\n",
      "Epoch 52/100\n",
      "3900/3900 [==============================] - 3s 685us/sample - loss: 1.7741e-09 - mean_absolute_error: 7.5410e-09 - binary_accuracy: 1.0000 - val_loss: 0.1206 - val_mean_absolute_error: 0.0101 - val_binary_accuracy: 0.9898\n",
      "Epoch 53/100\n",
      "3900/3900 [==============================] - 3s 697us/sample - loss: 1.4653e-09 - mean_absolute_error: 6.2326e-09 - binary_accuracy: 1.0000 - val_loss: 0.1216 - val_mean_absolute_error: 0.0101 - val_binary_accuracy: 0.9898\n",
      "Epoch 54/100\n",
      "3900/3900 [==============================] - 3s 686us/sample - loss: 1.3191e-09 - mean_absolute_error: 5.3197e-09 - binary_accuracy: 1.0000 - val_loss: 0.1236 - val_mean_absolute_error: 0.0101 - val_binary_accuracy: 0.9898\n",
      "Epoch 55/100\n",
      "3900/3900 [==============================] - 3s 696us/sample - loss: 1.2185e-09 - mean_absolute_error: 5.0991e-09 - binary_accuracy: 1.0000 - val_loss: 0.1244 - val_mean_absolute_error: 0.0101 - val_binary_accuracy: 0.9898\n",
      "Epoch 56/100\n",
      "3900/3900 [==============================] - 3s 673us/sample - loss: 1.0198e-09 - mean_absolute_error: 4.1151e-09 - binary_accuracy: 1.0000 - val_loss: 0.1262 - val_mean_absolute_error: 0.0102 - val_binary_accuracy: 0.9898\n",
      "Epoch 57/100\n",
      "3900/3900 [==============================] - 3s 679us/sample - loss: 9.7060e-10 - mean_absolute_error: 4.3105e-09 - binary_accuracy: 1.0000 - val_loss: 0.1244 - val_mean_absolute_error: 0.0101 - val_binary_accuracy: 0.9898\n",
      "Epoch 58/100\n",
      "3900/3900 [==============================] - 3s 670us/sample - loss: 9.1802e-10 - mean_absolute_error: 3.5685e-09 - binary_accuracy: 1.0000 - val_loss: 0.1288 - val_mean_absolute_error: 0.0102 - val_binary_accuracy: 0.9898\n",
      "Epoch 59/100\n",
      "3900/3900 [==============================] - 3s 689us/sample - loss: 8.0570e-10 - mean_absolute_error: 3.6150e-09 - binary_accuracy: 1.0000 - val_loss: 0.1280 - val_mean_absolute_error: 0.0101 - val_binary_accuracy: 0.9898\n",
      "Epoch 60/100\n",
      "3900/3900 [==============================] - 3s 686us/sample - loss: 7.8082e-10 - mean_absolute_error: 3.1957e-09 - binary_accuracy: 1.0000 - val_loss: 0.1272 - val_mean_absolute_error: 0.0101 - val_binary_accuracy: 0.9898\n",
      "Epoch 61/100\n",
      "3900/3900 [==============================] - 3s 663us/sample - loss: 6.9502e-10 - mean_absolute_error: 2.9323e-09 - binary_accuracy: 1.0000 - val_loss: 0.1266 - val_mean_absolute_error: 0.0101 - val_binary_accuracy: 0.9898\n",
      "Epoch 62/100\n",
      "3900/3900 [==============================] - 3s 712us/sample - loss: 6.4914e-10 - mean_absolute_error: 2.8334e-09 - binary_accuracy: 1.0000 - val_loss: 0.1270 - val_mean_absolute_error: 0.0101 - val_binary_accuracy: 0.9898\n",
      "Epoch 63/100\n",
      "3900/3900 [==============================] - 3s 696us/sample - loss: 4.7818e-10 - mean_absolute_error: 1.7134e-09 - binary_accuracy: 1.0000 - val_loss: 0.1339 - val_mean_absolute_error: 0.0103 - val_binary_accuracy: 0.9898\n",
      "Epoch 64/100\n",
      "3900/3900 [==============================] - 3s 704us/sample - loss: 5.4050e-10 - mean_absolute_error: 2.2753e-09 - binary_accuracy: 1.0000 - val_loss: 0.1272 - val_mean_absolute_error: 0.0100 - val_binary_accuracy: 0.9904\n",
      "Epoch 65/100\n",
      "3900/3900 [==============================] - 3s 692us/sample - loss: 4.2543e-10 - mean_absolute_error: 1.6960e-09 - binary_accuracy: 1.0000 - val_loss: 0.1342 - val_mean_absolute_error: 0.0102 - val_binary_accuracy: 0.9898\n",
      "Epoch 66/100\n",
      "3900/3900 [==============================] - 3s 664us/sample - loss: 4.8277e-10 - mean_absolute_error: 2.0592e-09 - binary_accuracy: 1.0000 - val_loss: 0.1307 - val_mean_absolute_error: 0.0101 - val_binary_accuracy: 0.9898\n",
      "Epoch 67/100\n",
      "3900/3900 [==============================] - 3s 678us/sample - loss: 3.9943e-10 - mean_absolute_error: 1.5167e-09 - binary_accuracy: 1.0000 - val_loss: 0.1307 - val_mean_absolute_error: 0.0101 - val_binary_accuracy: 0.9898\n",
      "Epoch 68/100\n",
      "3900/3900 [==============================] - 3s 677us/sample - loss: 3.7008e-10 - mean_absolute_error: 1.7096e-09 - binary_accuracy: 1.0000 - val_loss: 0.1298 - val_mean_absolute_error: 0.0100 - val_binary_accuracy: 0.9898\n",
      "Epoch 69/100\n",
      "3900/3900 [==============================] - 3s 677us/sample - loss: 3.8799e-10 - mean_absolute_error: 1.4508e-09 - binary_accuracy: 1.0000 - val_loss: 0.1330 - val_mean_absolute_error: 0.0101 - val_binary_accuracy: 0.9898\n",
      "Epoch 70/100\n",
      "3900/3900 [==============================] - 3s 671us/sample - loss: 8.4118e-10 - mean_absolute_error: 3.2008e-09 - binary_accuracy: 1.0000 - val_loss: 0.1514 - val_mean_absolute_error: 0.0110 - val_binary_accuracy: 0.9886\n"
     ]
    },
    {
     "name": "stdout",
     "output_type": "stream",
     "text": [
      "Epoch 71/100\n",
      "3900/3900 [==============================] - 3s 703us/sample - loss: 3.9437e-10 - mean_absolute_error: 1.9627e-09 - binary_accuracy: 1.0000 - val_loss: 0.1330 - val_mean_absolute_error: 0.0101 - val_binary_accuracy: 0.9898\n",
      "Epoch 72/100\n",
      "3900/3900 [==============================] - 3s 762us/sample - loss: 2.8976e-10 - mean_absolute_error: 9.7675e-10 - binary_accuracy: 1.0000 - val_loss: 0.1351 - val_mean_absolute_error: 0.0101 - val_binary_accuracy: 0.9898\n",
      "Epoch 73/100\n",
      "3900/3900 [==============================] - 3s 738us/sample - loss: 2.7399e-10 - mean_absolute_error: 1.0651e-09 - binary_accuracy: 1.0000 - val_loss: 0.1376 - val_mean_absolute_error: 0.0102 - val_binary_accuracy: 0.9898\n",
      "Epoch 74/100\n",
      "3900/3900 [==============================] - 3s 723us/sample - loss: 2.3720e-10 - mean_absolute_error: 1.0760e-09 - binary_accuracy: 1.0000 - val_loss: 0.1394 - val_mean_absolute_error: 0.0103 - val_binary_accuracy: 0.9898\n",
      "Epoch 75/100\n",
      "3900/3900 [==============================] - 3s 705us/sample - loss: 2.2826e-10 - mean_absolute_error: 8.6706e-10 - binary_accuracy: 1.0000 - val_loss: 0.1367 - val_mean_absolute_error: 0.0101 - val_binary_accuracy: 0.9898\n",
      "Epoch 76/100\n",
      "3900/3900 [==============================] - 3s 724us/sample - loss: 2.4708e-10 - mean_absolute_error: 9.2631e-10 - binary_accuracy: 1.0000 - val_loss: 0.1375 - val_mean_absolute_error: 0.0101 - val_binary_accuracy: 0.9898\n",
      "Epoch 77/100\n",
      "3900/3900 [==============================] - 3s 677us/sample - loss: 2.3132e-10 - mean_absolute_error: 9.0952e-10 - binary_accuracy: 1.0000 - val_loss: 0.1390 - val_mean_absolute_error: 0.0102 - val_binary_accuracy: 0.9898\n",
      "Epoch 78/100\n",
      "3900/3900 [==============================] - 3s 684us/sample - loss: 1.9961e-10 - mean_absolute_error: 8.4822e-10 - binary_accuracy: 1.0000 - val_loss: 0.1396 - val_mean_absolute_error: 0.0102 - val_binary_accuracy: 0.9898\n",
      "Epoch 79/100\n",
      "3900/3900 [==============================] - 3s 668us/sample - loss: 2.0560e-10 - mean_absolute_error: 7.7945e-10 - binary_accuracy: 1.0000 - val_loss: 0.1390 - val_mean_absolute_error: 0.0102 - val_binary_accuracy: 0.9898\n",
      "Epoch 80/100\n",
      "3900/3900 [==============================] - 3s 681us/sample - loss: 1.9352e-10 - mean_absolute_error: 7.0669e-10 - binary_accuracy: 1.0000 - val_loss: 0.1406 - val_mean_absolute_error: 0.0102 - val_binary_accuracy: 0.9898\n",
      "Epoch 81/100\n",
      "3900/3900 [==============================] - 3s 668us/sample - loss: 1.7602e-10 - mean_absolute_error: 6.4954e-10 - binary_accuracy: 1.0000 - val_loss: 0.1410 - val_mean_absolute_error: 0.0102 - val_binary_accuracy: 0.9898\n",
      "Epoch 82/100\n",
      "3900/3900 [==============================] - 3s 686us/sample - loss: 1.7878e-10 - mean_absolute_error: 7.1831e-10 - binary_accuracy: 1.0000 - val_loss: 0.1387 - val_mean_absolute_error: 0.0101 - val_binary_accuracy: 0.9898\n",
      "Epoch 83/100\n",
      "3900/3900 [==============================] - 3s 673us/sample - loss: 1.9579e-10 - mean_absolute_error: 1.0587e-09 - binary_accuracy: 1.0000 - val_loss: 0.1318 - val_mean_absolute_error: 0.0101 - val_binary_accuracy: 0.9904\n",
      "Epoch 84/100\n",
      "3900/3900 [==============================] - 3s 681us/sample - loss: 1.7853e-10 - mean_absolute_error: 4.2733e-10 - binary_accuracy: 1.0000 - val_loss: 0.1413 - val_mean_absolute_error: 0.0102 - val_binary_accuracy: 0.9898\n",
      "Epoch 85/100\n",
      "3900/3900 [==============================] - 3s 734us/sample - loss: 1.6100e-10 - mean_absolute_error: 5.0993e-10 - binary_accuracy: 1.0000 - val_loss: 0.1414 - val_mean_absolute_error: 0.0102 - val_binary_accuracy: 0.9898\n",
      "Epoch 86/100\n",
      "3900/3900 [==============================] - 3s 703us/sample - loss: 1.5704e-10 - mean_absolute_error: 6.1133e-10 - binary_accuracy: 1.0000 - val_loss: 0.1419 - val_mean_absolute_error: 0.0102 - val_binary_accuracy: 0.9898\n",
      "Epoch 87/100\n",
      "3900/3900 [==============================] - 3s 731us/sample - loss: 1.4644e-10 - mean_absolute_error: 5.9084e-10 - binary_accuracy: 1.0000 - val_loss: 0.1412 - val_mean_absolute_error: 0.0102 - val_binary_accuracy: 0.9898\n",
      "Epoch 88/100\n",
      "3900/3900 [==============================] - 3s 699us/sample - loss: 1.4775e-10 - mean_absolute_error: 4.9804e-10 - binary_accuracy: 1.0000 - val_loss: 0.1422 - val_mean_absolute_error: 0.0102 - val_binary_accuracy: 0.9898\n",
      "Epoch 89/100\n",
      "3900/3900 [==============================] - 3s 688us/sample - loss: 1.4162e-10 - mean_absolute_error: 4.9671e-10 - binary_accuracy: 1.0000 - val_loss: 0.1417 - val_mean_absolute_error: 0.0102 - val_binary_accuracy: 0.9898\n",
      "Epoch 90/100\n",
      "3900/3900 [==============================] - 3s 663us/sample - loss: 1.4151e-10 - mean_absolute_error: 3.9736e-10 - binary_accuracy: 1.0000 - val_loss: 0.1435 - val_mean_absolute_error: 0.0103 - val_binary_accuracy: 0.9898\n",
      "Epoch 91/100\n",
      "3900/3900 [==============================] - 3s 674us/sample - loss: 1.3871e-10 - mean_absolute_error: 6.1897e-10 - binary_accuracy: 1.0000 - val_loss: 0.1427 - val_mean_absolute_error: 0.0102 - val_binary_accuracy: 0.9898\n",
      "Epoch 92/100\n",
      "3900/3900 [==============================] - 3s 668us/sample - loss: 1.3174e-10 - mean_absolute_error: 5.1199e-10 - binary_accuracy: 1.0000 - val_loss: 0.1445 - val_mean_absolute_error: 0.0103 - val_binary_accuracy: 0.9898\n",
      "Epoch 93/100\n",
      "3900/3900 [==============================] - 3s 682us/sample - loss: 1.3495e-10 - mean_absolute_error: 5.1199e-10 - binary_accuracy: 1.0000 - val_loss: 0.1430 - val_mean_absolute_error: 0.0102 - val_binary_accuracy: 0.9898\n",
      "Epoch 94/100\n",
      "3900/3900 [==============================] - 3s 674us/sample - loss: 1.2306e-10 - mean_absolute_error: 4.0245e-10 - binary_accuracy: 1.0000 - val_loss: 0.1445 - val_mean_absolute_error: 0.0103 - val_binary_accuracy: 0.9898\n",
      "Epoch 95/100\n",
      "3900/3900 [==============================] - 3s 680us/sample - loss: 1.2176e-10 - mean_absolute_error: 5.3491e-10 - binary_accuracy: 1.0000 - val_loss: 0.1442 - val_mean_absolute_error: 0.0103 - val_binary_accuracy: 0.9898\n",
      "Epoch 96/100\n",
      "3900/3900 [==============================] - 3s 704us/sample - loss: 1.2229e-10 - mean_absolute_error: 6.0783e-10 - binary_accuracy: 1.0000 - val_loss: 0.1416 - val_mean_absolute_error: 0.0102 - val_binary_accuracy: 0.9898\n",
      "Epoch 97/100\n",
      "3900/3900 [==============================] - 3s 720us/sample - loss: 1.1484e-10 - mean_absolute_error: 5.0435e-10 - binary_accuracy: 1.0000 - val_loss: 0.1415 - val_mean_absolute_error: 0.0101 - val_binary_accuracy: 0.9898\n",
      "Epoch 98/100\n",
      "3900/3900 [==============================] - 3s 699us/sample - loss: 1.1205e-10 - mean_absolute_error: 3.9736e-10 - binary_accuracy: 1.0000 - val_loss: 0.1442 - val_mean_absolute_error: 0.0102 - val_binary_accuracy: 0.9898\n",
      "Epoch 99/100\n",
      "3900/3900 [==============================] - 3s 720us/sample - loss: 1.1521e-10 - mean_absolute_error: 5.5784e-10 - binary_accuracy: 1.0000 - val_loss: 0.1435 - val_mean_absolute_error: 0.0102 - val_binary_accuracy: 0.9898\n",
      "Epoch 100/100\n",
      "3900/3900 [==============================] - 3s 684us/sample - loss: 1.1168e-10 - mean_absolute_error: 3.7444e-10 - binary_accuracy: 1.0000 - val_loss: 0.1439 - val_mean_absolute_error: 0.0102 - val_binary_accuracy: 0.9898\n"
     ]
    }
   ],
   "source": [
    "# fitting model2\n",
    "history2 = model2.fit(X2_train, y_train2,\n",
    "                    epochs=100,\n",
    "                    verbose=True,\n",
    "                    validation_data=(X2_test, y_test2),\n",
    "                    batch_size=10, class_weight=class_weight)\n"
   ]
  },
  {
   "cell_type": "markdown",
   "metadata": {},
   "source": [
    "### Evaluation of Performance"
   ]
  },
  {
   "cell_type": "code",
   "execution_count": 15,
   "metadata": {},
   "outputs": [
    {
     "name": "stdout",
     "output_type": "stream",
     "text": [
      "Training Accuracy: 1.0000\n",
      "Testing Accuracy:  0.9898\n"
     ]
    }
   ],
   "source": [
    "met_train = model2.evaluate(X2_train, y_train2, verbose=False)\n",
    "print(\"Training Accuracy: {:.4f}\".format(met_train[2]))\n",
    "met_test = model2.evaluate(X2_test, y_test2, verbose=False)\n",
    "print(\"Testing Accuracy:  {:.4f}\".format(met_test[2]))"
   ]
  },
  {
   "cell_type": "code",
   "execution_count": 19,
   "metadata": {},
   "outputs": [
    {
     "name": "stdout",
     "output_type": "stream",
     "text": [
      "dict_keys(['loss', 'mean_absolute_error', 'binary_accuracy', 'val_loss', 'val_mean_absolute_error', 'val_binary_accuracy'])\n"
     ]
    }
   ],
   "source": [
    "print(history2.history.keys())"
   ]
  },
  {
   "cell_type": "code",
   "execution_count": 16,
   "metadata": {},
   "outputs": [
    {
     "data": {
      "image/png": "[encoded data removed]",
      "text/plain": [
       "<Figure size 576x360 with 1 Axes>"
      ]
     },
     "metadata": {
      "needs_background": "light"
     },
     "output_type": "display_data"
    }
   ],
   "source": [
    "pd.DataFrame(history2.history).plot(figsize=(8,5))\n",
    "plt.show()"
   ]
  },
  {
   "cell_type": "code",
   "execution_count": 18,
   "metadata": {},
   "outputs": [
    {
     "data": {
      "text/plain": [
       "array([[0],\n",
       "       [0],\n",
       "       [0],\n",
       "       ...,\n",
       "       [0],\n",
       "       [1],\n",
       "       [0]], dtype=int32)"
      ]
     },
     "execution_count": 18,
     "metadata": {},
     "output_type": "execute_result"
    }
   ],
   "source": [
    "from sklearn.metrics import accuracy_score\n",
    "y_pred = model2.predict_classes(X2_test)\n",
    "\n",
    "y_pred"
   ]
  },
  {
   "cell_type": "code",
   "execution_count": 44,
   "metadata": {},
   "outputs": [],
   "source": [
    "#!pip3 install mlxtend"
   ]
  },
  {
   "cell_type": "code",
   "execution_count": 19,
   "metadata": {},
   "outputs": [
    {
     "data": {
      "text/plain": [
       "(<Figure size 432x288 with 1 Axes>,\n",
       " <AxesSubplot:xlabel='predicted label', ylabel='true label'>)"
      ]
     },
     "execution_count": 19,
     "metadata": {},
     "output_type": "execute_result"
    },
    {
     "data": {
      "image/png": "[encoded data removed]",
      "text/plain": [
       "<Figure size 432x288 with 1 Axes>"
      ]
     },
     "metadata": {
      "needs_background": "light"
     },
     "output_type": "display_data"
    }
   ],
   "source": [
    "from mlxtend.plotting import plot_confusion_matrix\n",
    "from sklearn.metrics import confusion_matrix\n",
    "\n",
    "mat = confusion_matrix(y_test2, y_pred)\n",
    "plot_confusion_matrix(conf_mat=mat)"
   ]
  },
  {
   "cell_type": "code",
   "execution_count": 42,
   "metadata": {},
   "outputs": [
    {
     "name": "stdout",
     "output_type": "stream",
     "text": [
      "              precision    recall  f1-score   support\n",
      "\n",
      "           0       0.99      1.00      0.99      1448\n",
      "           1       0.99      0.93      0.96       224\n",
      "\n",
      "    accuracy                           0.99      1672\n",
      "   macro avg       0.99      0.97      0.98      1672\n",
      "weighted avg       0.99      0.99      0.99      1672\n",
      "\n"
     ]
    }
   ],
   "source": [
    "from sklearn.metrics import classification_report\n",
    "print(classification_report(y_test2, y_pred))"
   ]
  },
  {
   "cell_type": "code",
   "execution_count": 21,
   "metadata": {},
   "outputs": [
    {
     "data": {
      "image/png": "[encoded data removed]",
      "text/plain": [
       "<Figure size 432x288 with 1 Axes>"
      ]
     },
     "metadata": {
      "needs_background": "light"
     },
     "output_type": "display_data"
    }
   ],
   "source": [
    "# accuracy vs. epoch plot\n",
    "plt.plot(history2.history['binary_accuracy'])\n",
    "plt.plot(history2.history['val_binary_accuracy'])\n",
    "plt.title('model accuracy')\n",
    "plt.ylabel('accuracy')\n",
    "plt.xlabel('epoch')\n",
    "plt.legend(['train', 'test'], loc='upper right')\n",
    "plt.show()"
   ]
  },
  {
   "cell_type": "code",
   "execution_count": 52,
   "metadata": {},
   "outputs": [
    {
     "data": {
      "image/png": "[encoded data removed]",
      "text/plain": [
       "<Figure size 432x288 with 1 Axes>"
      ]
     },
     "metadata": {
      "needs_background": "light"
     },
     "output_type": "display_data"
    }
   ],
   "source": [
    "# ROC curve\n",
    "from sklearn.metrics import roc_curve, auc\n",
    "\n",
    "nn_fpr_keras, nn_tpr_keras, nn_thresholds_keras = roc_curve(y_test2, y_pred)\n",
    "auc_keras = auc(nn_fpr_keras, nn_tpr_keras)\n",
    "plt.plot(nn_fpr_keras, nn_tpr_keras, marker='.', label='Neural Network (auc = %0.3f)' % auc_keras)\n",
    "plt.title('ROC Curve')\n",
    "plt.ylabel('True Positive Rate')\n",
    "plt.xlabel('False Positive Rate')\n",
    "plt.legend('model 2', loc='center')\n",
    "plt.show()"
   ]
  },
  {
   "cell_type": "markdown",
   "metadata": {},
   "source": [
    "## Interpretation\n",
    "Accuracy is a bit higher than with the base model. However, there is no loss at training which rises the question how the model can learn. It seems as if there is a serious overfitting in the model. Accuracy and performance in general do not change significantly when "
   ]
  }
 ],
 "metadata": {
  "kernelspec": {
   "display_name": "Python 3 (ipykernel)",
   "language": "python",
   "name": "python3"
  },
  "language_info": {
   "codemirror_mode": {
    "name": "ipython",
    "version": 3
   },
   "file_extension": ".py",
   "mimetype": "text/x-python",
   "name": "python",
   "nbconvert_exporter": "python",
   "pygments_lexer": "ipython3",
   "version": "3.7.9"
  }
 },
 "nbformat": 4,
 "nbformat_minor": 2
}
