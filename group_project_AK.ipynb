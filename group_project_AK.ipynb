{
 "cells": [
  {
   "cell_type": "code",
   "execution_count": 6,
   "id": "11d53ebf",
   "metadata": {},
   "outputs": [
    {
     "name": "stderr",
     "output_type": "stream",
     "text": [
      "Using TensorFlow backend.\n"
     ]
    }
   ],
   "source": [
    "import matplotlib.pyplot as plt\n",
    "import numpy as np\n",
    "import pandas as pd\n",
    "import seaborn as sns\n",
    "import pandas as pd\n",
    "from tensorflow import keras\n",
    "from tensorflow.keras import layers\n",
    "\n",
    "from sklearn.feature_extraction.text import CountVectorizer\n",
    "from sklearn.model_selection import train_test_split\n",
    "from sklearn.linear_model import LogisticRegression\n",
    "from sklearn.preprocessing import LabelEncoder\n",
    "from sklearn.preprocessing import OneHotEncoder\n",
    "from sklearn.model_selection import RandomizedSearchCV\n",
    "\n",
    "from keras.models import Sequential\n",
    "from keras import layers\n",
    "from keras.preprocessing.text import Tokenizer\n",
    "from keras.preprocessing.sequence import pad_sequences\n",
    "from keras.wrappers.scikit_learn import KerasClassifier"
   ]
  },
  {
   "cell_type": "code",
   "execution_count": 52,
   "id": "83c7a339",
   "metadata": {},
   "outputs": [
    {
     "data": {
      "text/html": [
       "<div>\n",
       "<style scoped>\n",
       "    .dataframe tbody tr th:only-of-type {\n",
       "        vertical-align: middle;\n",
       "    }\n",
       "\n",
       "    .dataframe tbody tr th {\n",
       "        vertical-align: top;\n",
       "    }\n",
       "\n",
       "    .dataframe thead th {\n",
       "        text-align: right;\n",
       "    }\n",
       "</style>\n",
       "<table border=\"1\" class=\"dataframe\">\n",
       "  <thead>\n",
       "    <tr style=\"text-align: right;\">\n",
       "      <th></th>\n",
       "      <th>Category</th>\n",
       "      <th>Message</th>\n",
       "    </tr>\n",
       "  </thead>\n",
       "  <tbody>\n",
       "    <tr>\n",
       "      <th>0</th>\n",
       "      <td>ham</td>\n",
       "      <td>Go until jurong point, crazy.. Available only ...</td>\n",
       "    </tr>\n",
       "    <tr>\n",
       "      <th>1</th>\n",
       "      <td>ham</td>\n",
       "      <td>Ok lar... Joking wif u oni...</td>\n",
       "    </tr>\n",
       "    <tr>\n",
       "      <th>2</th>\n",
       "      <td>spam</td>\n",
       "      <td>Free entry in 2 a wkly comp to win FA Cup fina...</td>\n",
       "    </tr>\n",
       "    <tr>\n",
       "      <th>3</th>\n",
       "      <td>ham</td>\n",
       "      <td>U dun say so early hor... U c already then say...</td>\n",
       "    </tr>\n",
       "    <tr>\n",
       "      <th>4</th>\n",
       "      <td>ham</td>\n",
       "      <td>Nah I don't think he goes to usf, he lives aro...</td>\n",
       "    </tr>\n",
       "  </tbody>\n",
       "</table>\n",
       "</div>"
      ],
      "text/plain": [
       "  Category                                            Message\n",
       "0      ham  Go until jurong point, crazy.. Available only ...\n",
       "1      ham                      Ok lar... Joking wif u oni...\n",
       "2     spam  Free entry in 2 a wkly comp to win FA Cup fina...\n",
       "3      ham  U dun say so early hor... U c already then say...\n",
       "4      ham  Nah I don't think he goes to usf, he lives aro..."
      ]
     },
     "execution_count": 52,
     "metadata": {},
     "output_type": "execute_result"
    }
   ],
   "source": [
    "df = pd.read_csv('data_spam.csv')\n",
    "df.head()"
   ]
  },
  {
   "cell_type": "markdown",
   "id": "af8ac6f1",
   "metadata": {},
   "source": [
    "# Data Cleansing"
   ]
  },
  {
   "cell_type": "code",
   "execution_count": 53,
   "id": "8d67ce15",
   "metadata": {},
   "outputs": [
    {
     "name": "stdout",
     "output_type": "stream",
     "text": [
      "<class 'pandas.core.frame.DataFrame'>\n",
      "RangeIndex: 5572 entries, 0 to 5571\n",
      "Data columns (total 2 columns):\n",
      " #   Column    Non-Null Count  Dtype \n",
      "---  ------    --------------  ----- \n",
      " 0   Category  5572 non-null   object\n",
      " 1   Message   5572 non-null   object\n",
      "dtypes: object(2)\n",
      "memory usage: 87.2+ KB\n"
     ]
    }
   ],
   "source": [
    "df.info() # non NaN"
   ]
  },
  {
   "cell_type": "code",
   "execution_count": 50,
   "id": "2b5bbd9f",
   "metadata": {},
   "outputs": [
    {
     "ename": "KeyError",
     "evalue": "\"None of [Index(['Category'], dtype='object')] are in the [columns]\"",
     "output_type": "error",
     "traceback": [
      "\u001b[0;31m---------------------------------------------------------------------------\u001b[0m",
      "\u001b[0;31mKeyError\u001b[0m                                  Traceback (most recent call last)",
      "\u001b[0;32m/var/folders/yf/yvj83_d96dqfvfm7h4zzb_6c0000gn/T/ipykernel_5592/886891830.py\u001b[0m in \u001b[0;36m<module>\u001b[0;34m\u001b[0m\n\u001b[0;32m----> 1\u001b[0;31m \u001b[0mdf\u001b[0m \u001b[0;34m=\u001b[0m \u001b[0mpd\u001b[0m\u001b[0;34m.\u001b[0m\u001b[0mget_dummies\u001b[0m\u001b[0;34m(\u001b[0m\u001b[0mdf\u001b[0m\u001b[0;34m,\u001b[0m \u001b[0mcolumns\u001b[0m\u001b[0;34m=\u001b[0m\u001b[0;34m[\u001b[0m\u001b[0;34m'Category'\u001b[0m\u001b[0;34m]\u001b[0m\u001b[0;34m)\u001b[0m\u001b[0;34m\u001b[0m\u001b[0;34m\u001b[0m\u001b[0m\n\u001b[0m\u001b[1;32m      2\u001b[0m \u001b[0mdf\u001b[0m\u001b[0;34m.\u001b[0m\u001b[0mhead\u001b[0m\u001b[0;34m(\u001b[0m\u001b[0;34m)\u001b[0m\u001b[0;34m\u001b[0m\u001b[0;34m\u001b[0m\u001b[0m\n",
      "\u001b[0;32m~/opt/miniconda3/lib/python3.7/site-packages/pandas/core/reshape/reshape.py\u001b[0m in \u001b[0;36mget_dummies\u001b[0;34m(data, prefix, prefix_sep, dummy_na, columns, sparse, drop_first, dtype)\u001b[0m\n\u001b[1;32m    888\u001b[0m             \u001b[0;32mraise\u001b[0m \u001b[0mTypeError\u001b[0m\u001b[0;34m(\u001b[0m\u001b[0;34m\"Input must be a list-like for parameter `columns`\"\u001b[0m\u001b[0;34m)\u001b[0m\u001b[0;34m\u001b[0m\u001b[0;34m\u001b[0m\u001b[0m\n\u001b[1;32m    889\u001b[0m         \u001b[0;32melse\u001b[0m\u001b[0;34m:\u001b[0m\u001b[0;34m\u001b[0m\u001b[0;34m\u001b[0m\u001b[0m\n\u001b[0;32m--> 890\u001b[0;31m             \u001b[0mdata_to_encode\u001b[0m \u001b[0;34m=\u001b[0m \u001b[0mdata\u001b[0m\u001b[0;34m[\u001b[0m\u001b[0mcolumns\u001b[0m\u001b[0;34m]\u001b[0m\u001b[0;34m\u001b[0m\u001b[0;34m\u001b[0m\u001b[0m\n\u001b[0m\u001b[1;32m    891\u001b[0m \u001b[0;34m\u001b[0m\u001b[0m\n\u001b[1;32m    892\u001b[0m         \u001b[0;31m# validate prefixes and separator to avoid silently dropping cols\u001b[0m\u001b[0;34m\u001b[0m\u001b[0;34m\u001b[0m\u001b[0;34m\u001b[0m\u001b[0m\n",
      "\u001b[0;32m~/opt/miniconda3/lib/python3.7/site-packages/pandas/core/frame.py\u001b[0m in \u001b[0;36m__getitem__\u001b[0;34m(self, key)\u001b[0m\n\u001b[1;32m   3459\u001b[0m             \u001b[0;32mif\u001b[0m \u001b[0mis_iterator\u001b[0m\u001b[0;34m(\u001b[0m\u001b[0mkey\u001b[0m\u001b[0;34m)\u001b[0m\u001b[0;34m:\u001b[0m\u001b[0;34m\u001b[0m\u001b[0;34m\u001b[0m\u001b[0m\n\u001b[1;32m   3460\u001b[0m                 \u001b[0mkey\u001b[0m \u001b[0;34m=\u001b[0m \u001b[0mlist\u001b[0m\u001b[0;34m(\u001b[0m\u001b[0mkey\u001b[0m\u001b[0;34m)\u001b[0m\u001b[0;34m\u001b[0m\u001b[0;34m\u001b[0m\u001b[0m\n\u001b[0;32m-> 3461\u001b[0;31m             \u001b[0mindexer\u001b[0m \u001b[0;34m=\u001b[0m \u001b[0mself\u001b[0m\u001b[0;34m.\u001b[0m\u001b[0mloc\u001b[0m\u001b[0;34m.\u001b[0m\u001b[0m_get_listlike_indexer\u001b[0m\u001b[0;34m(\u001b[0m\u001b[0mkey\u001b[0m\u001b[0;34m,\u001b[0m \u001b[0maxis\u001b[0m\u001b[0;34m=\u001b[0m\u001b[0;36m1\u001b[0m\u001b[0;34m)\u001b[0m\u001b[0;34m[\u001b[0m\u001b[0;36m1\u001b[0m\u001b[0;34m]\u001b[0m\u001b[0;34m\u001b[0m\u001b[0;34m\u001b[0m\u001b[0m\n\u001b[0m\u001b[1;32m   3462\u001b[0m \u001b[0;34m\u001b[0m\u001b[0m\n\u001b[1;32m   3463\u001b[0m         \u001b[0;31m# take() does not accept boolean indexers\u001b[0m\u001b[0;34m\u001b[0m\u001b[0;34m\u001b[0m\u001b[0;34m\u001b[0m\u001b[0m\n",
      "\u001b[0;32m~/opt/miniconda3/lib/python3.7/site-packages/pandas/core/indexing.py\u001b[0m in \u001b[0;36m_get_listlike_indexer\u001b[0;34m(self, key, axis)\u001b[0m\n\u001b[1;32m   1312\u001b[0m             \u001b[0mkeyarr\u001b[0m\u001b[0;34m,\u001b[0m \u001b[0mindexer\u001b[0m\u001b[0;34m,\u001b[0m \u001b[0mnew_indexer\u001b[0m \u001b[0;34m=\u001b[0m \u001b[0max\u001b[0m\u001b[0;34m.\u001b[0m\u001b[0m_reindex_non_unique\u001b[0m\u001b[0;34m(\u001b[0m\u001b[0mkeyarr\u001b[0m\u001b[0;34m)\u001b[0m\u001b[0;34m\u001b[0m\u001b[0;34m\u001b[0m\u001b[0m\n\u001b[1;32m   1313\u001b[0m \u001b[0;34m\u001b[0m\u001b[0m\n\u001b[0;32m-> 1314\u001b[0;31m         \u001b[0mself\u001b[0m\u001b[0;34m.\u001b[0m\u001b[0m_validate_read_indexer\u001b[0m\u001b[0;34m(\u001b[0m\u001b[0mkeyarr\u001b[0m\u001b[0;34m,\u001b[0m \u001b[0mindexer\u001b[0m\u001b[0;34m,\u001b[0m \u001b[0maxis\u001b[0m\u001b[0;34m)\u001b[0m\u001b[0;34m\u001b[0m\u001b[0;34m\u001b[0m\u001b[0m\n\u001b[0m\u001b[1;32m   1315\u001b[0m \u001b[0;34m\u001b[0m\u001b[0m\n\u001b[1;32m   1316\u001b[0m         if needs_i8_conversion(ax.dtype) or isinstance(\n",
      "\u001b[0;32m~/opt/miniconda3/lib/python3.7/site-packages/pandas/core/indexing.py\u001b[0m in \u001b[0;36m_validate_read_indexer\u001b[0;34m(self, key, indexer, axis)\u001b[0m\n\u001b[1;32m   1372\u001b[0m                 \u001b[0;32mif\u001b[0m \u001b[0muse_interval_msg\u001b[0m\u001b[0;34m:\u001b[0m\u001b[0;34m\u001b[0m\u001b[0;34m\u001b[0m\u001b[0m\n\u001b[1;32m   1373\u001b[0m                     \u001b[0mkey\u001b[0m \u001b[0;34m=\u001b[0m \u001b[0mlist\u001b[0m\u001b[0;34m(\u001b[0m\u001b[0mkey\u001b[0m\u001b[0;34m)\u001b[0m\u001b[0;34m\u001b[0m\u001b[0;34m\u001b[0m\u001b[0m\n\u001b[0;32m-> 1374\u001b[0;31m                 \u001b[0;32mraise\u001b[0m \u001b[0mKeyError\u001b[0m\u001b[0;34m(\u001b[0m\u001b[0;34mf\"None of [{key}] are in the [{axis_name}]\"\u001b[0m\u001b[0;34m)\u001b[0m\u001b[0;34m\u001b[0m\u001b[0;34m\u001b[0m\u001b[0m\n\u001b[0m\u001b[1;32m   1375\u001b[0m \u001b[0;34m\u001b[0m\u001b[0m\n\u001b[1;32m   1376\u001b[0m             \u001b[0mnot_found\u001b[0m \u001b[0;34m=\u001b[0m \u001b[0mlist\u001b[0m\u001b[0;34m(\u001b[0m\u001b[0mensure_index\u001b[0m\u001b[0;34m(\u001b[0m\u001b[0mkey\u001b[0m\u001b[0;34m)\u001b[0m\u001b[0;34m[\u001b[0m\u001b[0mmissing_mask\u001b[0m\u001b[0;34m.\u001b[0m\u001b[0mnonzero\u001b[0m\u001b[0;34m(\u001b[0m\u001b[0;34m)\u001b[0m\u001b[0;34m[\u001b[0m\u001b[0;36m0\u001b[0m\u001b[0;34m]\u001b[0m\u001b[0;34m]\u001b[0m\u001b[0;34m.\u001b[0m\u001b[0munique\u001b[0m\u001b[0;34m(\u001b[0m\u001b[0;34m)\u001b[0m\u001b[0;34m)\u001b[0m\u001b[0;34m\u001b[0m\u001b[0;34m\u001b[0m\u001b[0m\n",
      "\u001b[0;31mKeyError\u001b[0m: \"None of [Index(['Category'], dtype='object')] are in the [columns]\""
     ]
    }
   ],
   "source": [
    "df = pd.get_dummies(df, columns=['Category'])"
   ]
  },
  {
   "cell_type": "code",
   "execution_count": 54,
   "id": "9d9dd0be",
   "metadata": {},
   "outputs": [
    {
     "data": {
      "text/html": [
       "<div>\n",
       "<style scoped>\n",
       "    .dataframe tbody tr th:only-of-type {\n",
       "        vertical-align: middle;\n",
       "    }\n",
       "\n",
       "    .dataframe tbody tr th {\n",
       "        vertical-align: top;\n",
       "    }\n",
       "\n",
       "    .dataframe thead th {\n",
       "        text-align: right;\n",
       "    }\n",
       "</style>\n",
       "<table border=\"1\" class=\"dataframe\">\n",
       "  <thead>\n",
       "    <tr style=\"text-align: right;\">\n",
       "      <th></th>\n",
       "      <th>Category</th>\n",
       "      <th>Message</th>\n",
       "    </tr>\n",
       "  </thead>\n",
       "  <tbody>\n",
       "    <tr>\n",
       "      <th>0</th>\n",
       "      <td>ham</td>\n",
       "      <td>Go until jurong point, crazy.. Available only ...</td>\n",
       "    </tr>\n",
       "    <tr>\n",
       "      <th>1</th>\n",
       "      <td>ham</td>\n",
       "      <td>Ok lar... Joking wif u oni...</td>\n",
       "    </tr>\n",
       "    <tr>\n",
       "      <th>2</th>\n",
       "      <td>spam</td>\n",
       "      <td>Free entry in 2 a wkly comp to win FA Cup fina...</td>\n",
       "    </tr>\n",
       "    <tr>\n",
       "      <th>3</th>\n",
       "      <td>ham</td>\n",
       "      <td>U dun say so early hor... U c already then say...</td>\n",
       "    </tr>\n",
       "    <tr>\n",
       "      <th>4</th>\n",
       "      <td>ham</td>\n",
       "      <td>Nah I don't think he goes to usf, he lives aro...</td>\n",
       "    </tr>\n",
       "  </tbody>\n",
       "</table>\n",
       "</div>"
      ],
      "text/plain": [
       "  Category                                            Message\n",
       "0      ham  Go until jurong point, crazy.. Available only ...\n",
       "1      ham                      Ok lar... Joking wif u oni...\n",
       "2     spam  Free entry in 2 a wkly comp to win FA Cup fina...\n",
       "3      ham  U dun say so early hor... U c already then say...\n",
       "4      ham  Nah I don't think he goes to usf, he lives aro..."
      ]
     },
     "execution_count": 54,
     "metadata": {},
     "output_type": "execute_result"
    }
   ],
   "source": [
    "df.head()\n"
   ]
  },
  {
   "cell_type": "code",
   "execution_count": 65,
   "id": "c793f44c",
   "metadata": {},
   "outputs": [],
   "source": [
    "# replace Category \n",
    "dict_trans = {'ham' : 0, 'spam': 1}\n",
    "df = df.replace({\"Category\": dict_trans})"
   ]
  },
  {
   "cell_type": "markdown",
   "id": "1e5daa54",
   "metadata": {},
   "source": [
    "# Data Preparation"
   ]
  },
  {
   "cell_type": "code",
   "execution_count": 66,
   "id": "2dd8665c",
   "metadata": {},
   "outputs": [],
   "source": [
    "# train-/test-split\n",
    "\n",
    "labels = df['Category'].values\n",
    "messages = df['Message'].values\n",
    "messages_train, messages_test, y_train, y_test = train_test_split(messages, labels, test_size=0.3, random_state=42)"
   ]
  },
  {
   "cell_type": "code",
   "execution_count": 68,
   "id": "4c56dfad",
   "metadata": {},
   "outputs": [
    {
     "data": {
      "text/plain": [
       "array([0, 0, 1, ..., 0, 0, 0])"
      ]
     },
     "execution_count": 68,
     "metadata": {},
     "output_type": "execute_result"
    }
   ],
   "source": []
  },
  {
   "cell_type": "code",
   "execution_count": 69,
   "id": "2f268ee7",
   "metadata": {},
   "outputs": [],
   "source": [
    "# Vectorisation\n",
    "vectorizer = CountVectorizer()\n",
    "vectorizer.fit(sentences_train)\n",
    "\n",
    "X_train = vectorizer.transform(messages_train)\n",
    "X_test  = vectorizer.transform(messages_test)"
   ]
  },
  {
   "cell_type": "code",
   "execution_count": 70,
   "id": "a15b8c0b",
   "metadata": {},
   "outputs": [
    {
     "data": {
      "text/plain": [
       "<3900x1 sparse matrix of type '<class 'numpy.int64'>'\n",
       "\twith 65 stored elements in Compressed Sparse Row format>"
      ]
     },
     "execution_count": 70,
     "metadata": {},
     "output_type": "execute_result"
    }
   ],
   "source": [
    "X_train"
   ]
  },
  {
   "cell_type": "markdown",
   "id": "80c35218",
   "metadata": {},
   "source": [
    "# Build First Model"
   ]
  },
  {
   "cell_type": "code",
   "execution_count": 72,
   "id": "a9b081de",
   "metadata": {},
   "outputs": [],
   "source": [
    "\n",
    "input_dim = X_train.shape[1]  # Number of features"
   ]
  },
  {
   "cell_type": "code",
   "execution_count": 73,
   "id": "88be21d2",
   "metadata": {},
   "outputs": [],
   "source": [
    "\n",
    "\n",
    "model = Sequential()\n",
    "model.add(layers.Dense(10, input_dim=input_dim, activation='relu'))\n",
    "model.add(layers.Dense(1, activation='sigmoid'))"
   ]
  },
  {
   "cell_type": "code",
   "execution_count": 74,
   "id": "057299df",
   "metadata": {},
   "outputs": [
    {
     "name": "stdout",
     "output_type": "stream",
     "text": [
      "Model: \"sequential_2\"\n",
      "_________________________________________________________________\n",
      "Layer (type)                 Output Shape              Param #   \n",
      "=================================================================\n",
      "dense_8 (Dense)              (None, 10)                20        \n",
      "_________________________________________________________________\n",
      "dense_9 (Dense)              (None, 1)                 11        \n",
      "=================================================================\n",
      "Total params: 31\n",
      "Trainable params: 31\n",
      "Non-trainable params: 0\n",
      "_________________________________________________________________\n"
     ]
    }
   ],
   "source": [
    "model.compile(loss='binary_crossentropy', \n",
    "              optimizer='adam', \n",
    "              metrics=['accuracy'])\n",
    "model.summary()"
   ]
  },
  {
   "cell_type": "code",
   "execution_count": 76,
   "id": "d6d48d5c",
   "metadata": {},
   "outputs": [
    {
     "name": "stdout",
     "output_type": "stream",
     "text": [
      "Train on 3900 samples, validate on 1672 samples\n",
      "Epoch 1/100\n",
      "3900/3900 [==============================] - 1s 154us/step - loss: 0.3917 - accuracy: 0.8667 - val_loss: 0.3913 - val_accuracy: 0.8660\n",
      "Epoch 2/100\n",
      "3900/3900 [==============================] - 1s 145us/step - loss: 0.3916 - accuracy: 0.8667 - val_loss: 0.3913 - val_accuracy: 0.8660\n",
      "Epoch 3/100\n",
      "3900/3900 [==============================] - 1s 145us/step - loss: 0.3919 - accuracy: 0.8667 - val_loss: 0.3913 - val_accuracy: 0.8660\n",
      "Epoch 4/100\n",
      "3900/3900 [==============================] - 1s 146us/step - loss: 0.3917 - accuracy: 0.8667 - val_loss: 0.3913 - val_accuracy: 0.8660\n",
      "Epoch 5/100\n",
      "3900/3900 [==============================] - 1s 148us/step - loss: 0.3917 - accuracy: 0.8667 - val_loss: 0.3913 - val_accuracy: 0.8660\n",
      "Epoch 6/100\n",
      "3900/3900 [==============================] - 1s 145us/step - loss: 0.3917 - accuracy: 0.8667 - val_loss: 0.3913 - val_accuracy: 0.8660\n",
      "Epoch 7/100\n",
      "3900/3900 [==============================] - 1s 145us/step - loss: 0.3917 - accuracy: 0.8667 - val_loss: 0.3913 - val_accuracy: 0.8660\n",
      "Epoch 8/100\n",
      "3900/3900 [==============================] - 1s 144us/step - loss: 0.3918 - accuracy: 0.8667 - val_loss: 0.3913 - val_accuracy: 0.8660\n",
      "Epoch 9/100\n",
      "3900/3900 [==============================] - 1s 147us/step - loss: 0.3917 - accuracy: 0.8667 - val_loss: 0.3913 - val_accuracy: 0.8660\n",
      "Epoch 10/100\n",
      "3900/3900 [==============================] - 1s 156us/step - loss: 0.3916 - accuracy: 0.8667 - val_loss: 0.3914 - val_accuracy: 0.8660\n",
      "Epoch 11/100\n",
      "3900/3900 [==============================] - 1s 164us/step - loss: 0.3917 - accuracy: 0.8667 - val_loss: 0.3913 - val_accuracy: 0.8660\n",
      "Epoch 12/100\n",
      "3900/3900 [==============================] - 1s 147us/step - loss: 0.3916 - accuracy: 0.8667 - val_loss: 0.3914 - val_accuracy: 0.8660\n",
      "Epoch 13/100\n",
      "3900/3900 [==============================] - 1s 179us/step - loss: 0.3916 - accuracy: 0.8667 - val_loss: 0.3913 - val_accuracy: 0.8660\n",
      "Epoch 14/100\n",
      "3900/3900 [==============================] - 1s 185us/step - loss: 0.3918 - accuracy: 0.8667 - val_loss: 0.3912 - val_accuracy: 0.8660\n",
      "Epoch 15/100\n",
      "3900/3900 [==============================] - 1s 148us/step - loss: 0.3918 - accuracy: 0.8667 - val_loss: 0.3913 - val_accuracy: 0.8660\n",
      "Epoch 16/100\n",
      "3900/3900 [==============================] - 1s 151us/step - loss: 0.3916 - accuracy: 0.8667 - val_loss: 0.3913 - val_accuracy: 0.8660\n",
      "Epoch 17/100\n",
      "3900/3900 [==============================] - 1s 169us/step - loss: 0.3918 - accuracy: 0.8667 - val_loss: 0.3912 - val_accuracy: 0.8660\n",
      "Epoch 18/100\n",
      "3900/3900 [==============================] - 1s 154us/step - loss: 0.3916 - accuracy: 0.8667 - val_loss: 0.3912 - val_accuracy: 0.8660\n",
      "Epoch 19/100\n",
      "3900/3900 [==============================] - 1s 149us/step - loss: 0.3916 - accuracy: 0.8667 - val_loss: 0.3914 - val_accuracy: 0.8660\n",
      "Epoch 20/100\n",
      "3900/3900 [==============================] - 1s 151us/step - loss: 0.3918 - accuracy: 0.8667 - val_loss: 0.3913 - val_accuracy: 0.8660\n",
      "Epoch 21/100\n",
      "3900/3900 [==============================] - 1s 157us/step - loss: 0.3916 - accuracy: 0.8667 - val_loss: 0.3913 - val_accuracy: 0.8660\n",
      "Epoch 22/100\n",
      "3900/3900 [==============================] - 1s 155us/step - loss: 0.3916 - accuracy: 0.8667 - val_loss: 0.3912 - val_accuracy: 0.8660\n",
      "Epoch 23/100\n",
      "3900/3900 [==============================] - 1s 152us/step - loss: 0.3917 - accuracy: 0.8667 - val_loss: 0.3913 - val_accuracy: 0.8660\n",
      "Epoch 24/100\n",
      "3900/3900 [==============================] - 1s 152us/step - loss: 0.3916 - accuracy: 0.8667 - val_loss: 0.3914 - val_accuracy: 0.8660\n",
      "Epoch 25/100\n",
      "3900/3900 [==============================] - 1s 149us/step - loss: 0.3915 - accuracy: 0.8667 - val_loss: 0.3914 - val_accuracy: 0.8660\n",
      "Epoch 26/100\n",
      "3900/3900 [==============================] - 1s 154us/step - loss: 0.3914 - accuracy: 0.8667 - val_loss: 0.3914 - val_accuracy: 0.8660\n",
      "Epoch 27/100\n",
      "3900/3900 [==============================] - 1s 149us/step - loss: 0.3916 - accuracy: 0.8667 - val_loss: 0.3914 - val_accuracy: 0.8660\n",
      "Epoch 28/100\n",
      "3900/3900 [==============================] - 1s 150us/step - loss: 0.3916 - accuracy: 0.8667 - val_loss: 0.3913 - val_accuracy: 0.8660\n",
      "Epoch 29/100\n",
      "3900/3900 [==============================] - 1s 149us/step - loss: 0.3917 - accuracy: 0.8667 - val_loss: 0.3913 - val_accuracy: 0.8660\n",
      "Epoch 30/100\n",
      "3900/3900 [==============================] - 1s 149us/step - loss: 0.3916 - accuracy: 0.8667 - val_loss: 0.3913 - val_accuracy: 0.8660\n",
      "Epoch 31/100\n",
      "3900/3900 [==============================] - 1s 157us/step - loss: 0.3916 - accuracy: 0.8667 - val_loss: 0.3913 - val_accuracy: 0.8660\n",
      "Epoch 32/100\n",
      "3900/3900 [==============================] - 1s 150us/step - loss: 0.3917 - accuracy: 0.8667 - val_loss: 0.3913 - val_accuracy: 0.8660\n",
      "Epoch 33/100\n",
      "3900/3900 [==============================] - 1s 149us/step - loss: 0.3917 - accuracy: 0.8667 - val_loss: 0.3913 - val_accuracy: 0.8660\n",
      "Epoch 34/100\n",
      "3900/3900 [==============================] - 1s 153us/step - loss: 0.3918 - accuracy: 0.8667 - val_loss: 0.3913 - val_accuracy: 0.8660\n",
      "Epoch 35/100\n",
      "3900/3900 [==============================] - 1s 152us/step - loss: 0.3916 - accuracy: 0.8667 - val_loss: 0.3913 - val_accuracy: 0.8660\n",
      "Epoch 36/100\n",
      "3900/3900 [==============================] - 1s 152us/step - loss: 0.3916 - accuracy: 0.8667 - val_loss: 0.3913 - val_accuracy: 0.8660\n",
      "Epoch 37/100\n",
      "3900/3900 [==============================] - 1s 150us/step - loss: 0.3915 - accuracy: 0.8667 - val_loss: 0.3914 - val_accuracy: 0.8660\n",
      "Epoch 38/100\n",
      "3900/3900 [==============================] - 1s 148us/step - loss: 0.3915 - accuracy: 0.8667 - val_loss: 0.3913 - val_accuracy: 0.8660\n",
      "Epoch 39/100\n",
      "3900/3900 [==============================] - 1s 150us/step - loss: 0.3916 - accuracy: 0.8667 - val_loss: 0.3913 - val_accuracy: 0.8660\n",
      "Epoch 40/100\n",
      "3900/3900 [==============================] - 1s 152us/step - loss: 0.3918 - accuracy: 0.8667 - val_loss: 0.3913 - val_accuracy: 0.8660\n",
      "Epoch 41/100\n",
      "3900/3900 [==============================] - 1s 149us/step - loss: 0.3917 - accuracy: 0.8667 - val_loss: 0.3913 - val_accuracy: 0.8660\n",
      "Epoch 42/100\n",
      "3900/3900 [==============================] - 1s 150us/step - loss: 0.3917 - accuracy: 0.8667 - val_loss: 0.3913 - val_accuracy: 0.8660\n",
      "Epoch 43/100\n",
      "3900/3900 [==============================] - 1s 169us/step - loss: 0.3916 - accuracy: 0.8667 - val_loss: 0.3913 - val_accuracy: 0.8660\n",
      "Epoch 44/100\n",
      "3900/3900 [==============================] - 1s 164us/step - loss: 0.3917 - accuracy: 0.8667 - val_loss: 0.3912 - val_accuracy: 0.8660\n",
      "Epoch 45/100\n",
      "3900/3900 [==============================] - 1s 160us/step - loss: 0.3915 - accuracy: 0.8667 - val_loss: 0.3913 - val_accuracy: 0.8660\n",
      "Epoch 46/100\n",
      "3900/3900 [==============================] - 1s 168us/step - loss: 0.3916 - accuracy: 0.8667 - val_loss: 0.3913 - val_accuracy: 0.8660\n",
      "Epoch 47/100\n",
      "3900/3900 [==============================] - 1s 170us/step - loss: 0.3916 - accuracy: 0.8667 - val_loss: 0.3913 - val_accuracy: 0.8660\n",
      "Epoch 48/100\n",
      "3900/3900 [==============================] - 1s 161us/step - loss: 0.3915 - accuracy: 0.8667 - val_loss: 0.3913 - val_accuracy: 0.8660\n",
      "Epoch 49/100\n",
      "3900/3900 [==============================] - 1s 163us/step - loss: 0.3916 - accuracy: 0.8667 - val_loss: 0.3913 - val_accuracy: 0.8660\n",
      "Epoch 50/100\n",
      "3900/3900 [==============================] - 1s 159us/step - loss: 0.3916 - accuracy: 0.8667 - val_loss: 0.3914 - val_accuracy: 0.8660\n",
      "Epoch 51/100\n",
      "3900/3900 [==============================] - 1s 159us/step - loss: 0.3917 - accuracy: 0.8667 - val_loss: 0.3913 - val_accuracy: 0.8660\n",
      "Epoch 52/100\n",
      "3900/3900 [==============================] - 1s 151us/step - loss: 0.3915 - accuracy: 0.8667 - val_loss: 0.3914 - val_accuracy: 0.8660\n",
      "Epoch 53/100\n",
      "3900/3900 [==============================] - 1s 151us/step - loss: 0.3916 - accuracy: 0.8667 - val_loss: 0.3913 - val_accuracy: 0.8660\n",
      "Epoch 54/100\n",
      "3900/3900 [==============================] - 1s 173us/step - loss: 0.3916 - accuracy: 0.8667 - val_loss: 0.3913 - val_accuracy: 0.8660\n",
      "Epoch 55/100\n",
      "3900/3900 [==============================] - 1s 166us/step - loss: 0.3916 - accuracy: 0.8667 - val_loss: 0.3912 - val_accuracy: 0.8660\n",
      "Epoch 56/100\n"
     ]
    },
    {
     "name": "stdout",
     "output_type": "stream",
     "text": [
      "3900/3900 [==============================] - 1s 146us/step - loss: 0.3916 - accuracy: 0.8667 - val_loss: 0.3912 - val_accuracy: 0.8660\n",
      "Epoch 57/100\n",
      "3900/3900 [==============================] - 1s 146us/step - loss: 0.3916 - accuracy: 0.8667 - val_loss: 0.3913 - val_accuracy: 0.8660\n",
      "Epoch 58/100\n",
      "3900/3900 [==============================] - 1s 146us/step - loss: 0.3915 - accuracy: 0.8667 - val_loss: 0.3914 - val_accuracy: 0.8660\n",
      "Epoch 59/100\n",
      "3900/3900 [==============================] - 1s 150us/step - loss: 0.3917 - accuracy: 0.8667 - val_loss: 0.3913 - val_accuracy: 0.8660\n",
      "Epoch 60/100\n",
      "3900/3900 [==============================] - 1s 149us/step - loss: 0.3916 - accuracy: 0.8667 - val_loss: 0.3913 - val_accuracy: 0.8660\n",
      "Epoch 61/100\n",
      "3900/3900 [==============================] - 1s 168us/step - loss: 0.3916 - accuracy: 0.8667 - val_loss: 0.3913 - val_accuracy: 0.8660\n",
      "Epoch 62/100\n",
      "3900/3900 [==============================] - 1s 159us/step - loss: 0.3917 - accuracy: 0.8667 - val_loss: 0.3913 - val_accuracy: 0.8660\n",
      "Epoch 63/100\n",
      "3900/3900 [==============================] - 1s 151us/step - loss: 0.3917 - accuracy: 0.8667 - val_loss: 0.3913 - val_accuracy: 0.8660\n",
      "Epoch 64/100\n",
      "3900/3900 [==============================] - 1s 203us/step - loss: 0.3916 - accuracy: 0.8667 - val_loss: 0.3912 - val_accuracy: 0.8660\n",
      "Epoch 65/100\n",
      "3900/3900 [==============================] - 1s 172us/step - loss: 0.3917 - accuracy: 0.8667 - val_loss: 0.3912 - val_accuracy: 0.8660\n",
      "Epoch 66/100\n",
      "3900/3900 [==============================] - 1s 149us/step - loss: 0.3916 - accuracy: 0.8667 - val_loss: 0.3913 - val_accuracy: 0.8660\n",
      "Epoch 67/100\n",
      "3900/3900 [==============================] - 1s 165us/step - loss: 0.3916 - accuracy: 0.8667 - val_loss: 0.3914 - val_accuracy: 0.8660\n",
      "Epoch 68/100\n",
      "3900/3900 [==============================] - 1s 161us/step - loss: 0.3916 - accuracy: 0.8667 - val_loss: 0.3912 - val_accuracy: 0.8660\n",
      "Epoch 69/100\n",
      "3900/3900 [==============================] - 1s 151us/step - loss: 0.3916 - accuracy: 0.8667 - val_loss: 0.3913 - val_accuracy: 0.8660\n",
      "Epoch 70/100\n",
      "3900/3900 [==============================] - 1s 151us/step - loss: 0.3917 - accuracy: 0.8667 - val_loss: 0.3912 - val_accuracy: 0.8660\n",
      "Epoch 71/100\n",
      "3900/3900 [==============================] - 1s 152us/step - loss: 0.3916 - accuracy: 0.8667 - val_loss: 0.3912 - val_accuracy: 0.8660\n",
      "Epoch 72/100\n",
      "3900/3900 [==============================] - 1s 151us/step - loss: 0.3916 - accuracy: 0.8667 - val_loss: 0.3913 - val_accuracy: 0.8660\n",
      "Epoch 73/100\n",
      "3900/3900 [==============================] - 1s 148us/step - loss: 0.3916 - accuracy: 0.8667 - val_loss: 0.3912 - val_accuracy: 0.8660\n",
      "Epoch 74/100\n",
      "3900/3900 [==============================] - 1s 149us/step - loss: 0.3916 - accuracy: 0.8667 - val_loss: 0.3912 - val_accuracy: 0.8660\n",
      "Epoch 75/100\n",
      "3900/3900 [==============================] - 1s 147us/step - loss: 0.3914 - accuracy: 0.8667 - val_loss: 0.3916 - val_accuracy: 0.8660\n",
      "Epoch 76/100\n",
      "3900/3900 [==============================] - 1s 153us/step - loss: 0.3916 - accuracy: 0.8667 - val_loss: 0.3913 - val_accuracy: 0.8660\n",
      "Epoch 77/100\n",
      "3900/3900 [==============================] - 1s 148us/step - loss: 0.3916 - accuracy: 0.8667 - val_loss: 0.3913 - val_accuracy: 0.8660\n",
      "Epoch 78/100\n",
      "3900/3900 [==============================] - 1s 150us/step - loss: 0.3916 - accuracy: 0.8667 - val_loss: 0.3913 - val_accuracy: 0.8660\n",
      "Epoch 79/100\n",
      "3900/3900 [==============================] - 1s 148us/step - loss: 0.3916 - accuracy: 0.8667 - val_loss: 0.3913 - val_accuracy: 0.8660\n",
      "Epoch 80/100\n",
      "3900/3900 [==============================] - 1s 154us/step - loss: 0.3916 - accuracy: 0.8667 - val_loss: 0.3913 - val_accuracy: 0.8660\n",
      "Epoch 81/100\n",
      "3900/3900 [==============================] - 1s 149us/step - loss: 0.3916 - accuracy: 0.8667 - val_loss: 0.3913 - val_accuracy: 0.8660\n",
      "Epoch 82/100\n",
      "3900/3900 [==============================] - 1s 151us/step - loss: 0.3914 - accuracy: 0.8667 - val_loss: 0.3915 - val_accuracy: 0.8660\n",
      "Epoch 83/100\n",
      "3900/3900 [==============================] - 1s 150us/step - loss: 0.3915 - accuracy: 0.8667 - val_loss: 0.3913 - val_accuracy: 0.8660\n",
      "Epoch 84/100\n",
      "3900/3900 [==============================] - 1s 150us/step - loss: 0.3915 - accuracy: 0.8667 - val_loss: 0.3913 - val_accuracy: 0.8660\n",
      "Epoch 85/100\n",
      "3900/3900 [==============================] - 1s 157us/step - loss: 0.3917 - accuracy: 0.8667 - val_loss: 0.3913 - val_accuracy: 0.8660\n",
      "Epoch 86/100\n",
      "3900/3900 [==============================] - 1s 151us/step - loss: 0.3916 - accuracy: 0.8667 - val_loss: 0.3915 - val_accuracy: 0.8660\n",
      "Epoch 87/100\n",
      "3900/3900 [==============================] - 1s 149us/step - loss: 0.3916 - accuracy: 0.8667 - val_loss: 0.3913 - val_accuracy: 0.8660\n",
      "Epoch 88/100\n",
      "3900/3900 [==============================] - 1s 150us/step - loss: 0.3915 - accuracy: 0.8667 - val_loss: 0.3913 - val_accuracy: 0.8660\n",
      "Epoch 89/100\n",
      "3900/3900 [==============================] - 1s 150us/step - loss: 0.3916 - accuracy: 0.8667 - val_loss: 0.3913 - val_accuracy: 0.8660\n",
      "Epoch 90/100\n",
      "3900/3900 [==============================] - 1s 148us/step - loss: 0.3916 - accuracy: 0.8667 - val_loss: 0.3913 - val_accuracy: 0.8660\n",
      "Epoch 91/100\n",
      "3900/3900 [==============================] - 1s 148us/step - loss: 0.3916 - accuracy: 0.8667 - val_loss: 0.3912 - val_accuracy: 0.8660\n",
      "Epoch 92/100\n",
      "3900/3900 [==============================] - 1s 149us/step - loss: 0.3916 - accuracy: 0.8667 - val_loss: 0.3913 - val_accuracy: 0.8660\n",
      "Epoch 93/100\n",
      "3900/3900 [==============================] - 1s 153us/step - loss: 0.3916 - accuracy: 0.8667 - val_loss: 0.3912 - val_accuracy: 0.8660\n",
      "Epoch 94/100\n",
      "3900/3900 [==============================] - 1s 166us/step - loss: 0.3917 - accuracy: 0.8667 - val_loss: 0.3914 - val_accuracy: 0.8660\n",
      "Epoch 95/100\n",
      "3900/3900 [==============================] - 1s 157us/step - loss: 0.3915 - accuracy: 0.8667 - val_loss: 0.3914 - val_accuracy: 0.8660\n",
      "Epoch 96/100\n",
      "3900/3900 [==============================] - 1s 159us/step - loss: 0.3916 - accuracy: 0.8667 - val_loss: 0.3913 - val_accuracy: 0.8660\n",
      "Epoch 97/100\n",
      "3900/3900 [==============================] - 1s 167us/step - loss: 0.3916 - accuracy: 0.8667 - val_loss: 0.3912 - val_accuracy: 0.8660\n",
      "Epoch 98/100\n",
      "3900/3900 [==============================] - 1s 154us/step - loss: 0.3916 - accuracy: 0.8667 - val_loss: 0.3913 - val_accuracy: 0.8660\n",
      "Epoch 99/100\n",
      "3900/3900 [==============================] - 1s 153us/step - loss: 0.3914 - accuracy: 0.8667 - val_loss: 0.3913 - val_accuracy: 0.8660\n",
      "Epoch 100/100\n",
      "3900/3900 [==============================] - 1s 154us/step - loss: 0.3915 - accuracy: 0.8667 - val_loss: 0.3914 - val_accuracy: 0.8660\n"
     ]
    }
   ],
   "source": [
    "history = model.fit(X_train, y_train,\n",
    "                    epochs=100,\n",
    "                    verbose=True,\n",
    "                    validation_data=(X_test, y_test),\n",
    "                    batch_size=10)"
   ]
  },
  {
   "cell_type": "code",
   "execution_count": 77,
   "id": "97cd4aa9",
   "metadata": {},
   "outputs": [
    {
     "name": "stdout",
     "output_type": "stream",
     "text": [
      "Training Accuracy: 0.8667\n",
      "Testing Accuracy:  0.8660\n"
     ]
    }
   ],
   "source": [
    "# model performance\n",
    "loss, accuracy = model.evaluate(X_train, y_train, verbose=False)\n",
    "print(\"Training Accuracy: {:.4f}\".format(accuracy))\n",
    "loss, accuracy = model.evaluate(X_test, y_test, verbose=False)\n",
    "print(\"Testing Accuracy:  {:.4f}\".format(accuracy))"
   ]
  }
 ],
 "metadata": {
  "kernelspec": {
   "display_name": "Python 3 (ipykernel)",
   "language": "python",
   "name": "python3"
  },
  "language_info": {
   "codemirror_mode": {
    "name": "ipython",
    "version": 3
   },
   "file_extension": ".py",
   "mimetype": "text/x-python",
   "name": "python",
   "nbconvert_exporter": "python",
   "pygments_lexer": "ipython3",
   "version": "3.7.9"
  }
 },
 "nbformat": 4,
 "nbformat_minor": 5
}
